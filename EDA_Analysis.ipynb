{
 "cells": [
  {
   "cell_type": "code",
   "execution_count": 3,
   "metadata": {},
   "outputs": [
    {
     "name": "stdout",
     "output_type": "stream",
     "text": [
      "Requirement already satisfied: streamlit in c:\\users\\julius agyei okanta\\appdata\\local\\programs\\python\\python312\\lib\\site-packages (1.35.0)\n",
      "Requirement already satisfied: altair<6,>=4.0 in c:\\users\\julius agyei okanta\\appdata\\local\\programs\\python\\python312\\lib\\site-packages (from streamlit) (5.3.0)\n",
      "Requirement already satisfied: blinker<2,>=1.0.0 in c:\\users\\julius agyei okanta\\appdata\\local\\programs\\python\\python312\\lib\\site-packages (from streamlit) (1.8.2)\n",
      "Requirement already satisfied: cachetools<6,>=4.0 in c:\\users\\julius agyei okanta\\appdata\\local\\programs\\python\\python312\\lib\\site-packages (from streamlit) (5.3.3)\n",
      "Requirement already satisfied: click<9,>=7.0 in c:\\users\\julius agyei okanta\\appdata\\local\\programs\\python\\python312\\lib\\site-packages (from streamlit) (8.1.7)\n",
      "Requirement already satisfied: numpy<2,>=1.19.3 in c:\\users\\julius agyei okanta\\appdata\\local\\programs\\python\\python312\\lib\\site-packages (from streamlit) (1.26.4)\n",
      "Requirement already satisfied: packaging<25,>=16.8 in c:\\users\\julius agyei okanta\\appdata\\roaming\\python\\python312\\site-packages (from streamlit) (23.2)\n",
      "Requirement already satisfied: pandas<3,>=1.3.0 in c:\\users\\julius agyei okanta\\appdata\\local\\programs\\python\\python312\\lib\\site-packages (from streamlit) (2.2.1)\n",
      "Requirement already satisfied: pillow<11,>=7.1.0 in c:\\users\\julius agyei okanta\\appdata\\local\\programs\\python\\python312\\lib\\site-packages (from streamlit) (10.2.0)\n",
      "Requirement already satisfied: protobuf<5,>=3.20 in c:\\users\\julius agyei okanta\\appdata\\local\\programs\\python\\python312\\lib\\site-packages (from streamlit) (4.25.3)\n",
      "Requirement already satisfied: pyarrow>=7.0 in c:\\users\\julius agyei okanta\\appdata\\local\\programs\\python\\python312\\lib\\site-packages (from streamlit) (16.1.0)\n",
      "Requirement already satisfied: requests<3,>=2.27 in c:\\users\\julius agyei okanta\\appdata\\local\\programs\\python\\python312\\lib\\site-packages (from streamlit) (2.32.3)\n",
      "Requirement already satisfied: rich<14,>=10.14.0 in c:\\users\\julius agyei okanta\\appdata\\local\\programs\\python\\python312\\lib\\site-packages (from streamlit) (13.7.1)\n",
      "Requirement already satisfied: tenacity<9,>=8.1.0 in c:\\users\\julius agyei okanta\\appdata\\local\\programs\\python\\python312\\lib\\site-packages (from streamlit) (8.2.3)\n",
      "Requirement already satisfied: toml<2,>=0.10.1 in c:\\users\\julius agyei okanta\\appdata\\local\\programs\\python\\python312\\lib\\site-packages (from streamlit) (0.10.2)\n",
      "Requirement already satisfied: typing-extensions<5,>=4.3.0 in c:\\users\\julius agyei okanta\\appdata\\local\\programs\\python\\python312\\lib\\site-packages (from streamlit) (4.12.0)\n",
      "Requirement already satisfied: gitpython!=3.1.19,<4,>=3.0.7 in c:\\users\\julius agyei okanta\\appdata\\local\\programs\\python\\python312\\lib\\site-packages (from streamlit) (3.1.43)\n",
      "Requirement already satisfied: pydeck<1,>=0.8.0b4 in c:\\users\\julius agyei okanta\\appdata\\local\\programs\\python\\python312\\lib\\site-packages (from streamlit) (0.9.1)\n",
      "Requirement already satisfied: tornado<7,>=6.0.3 in c:\\users\\julius agyei okanta\\appdata\\roaming\\python\\python312\\site-packages (from streamlit) (6.4)\n",
      "Requirement already satisfied: watchdog>=2.1.5 in c:\\users\\julius agyei okanta\\appdata\\local\\programs\\python\\python312\\lib\\site-packages (from streamlit) (4.0.1)\n",
      "Requirement already satisfied: jinja2 in c:\\users\\julius agyei okanta\\appdata\\local\\programs\\python\\python312\\lib\\site-packages (from altair<6,>=4.0->streamlit) (3.1.4)\n",
      "Requirement already satisfied: jsonschema>=3.0 in c:\\users\\julius agyei okanta\\appdata\\local\\programs\\python\\python312\\lib\\site-packages (from altair<6,>=4.0->streamlit) (4.21.1)\n",
      "Requirement already satisfied: toolz in c:\\users\\julius agyei okanta\\appdata\\local\\programs\\python\\python312\\lib\\site-packages (from altair<6,>=4.0->streamlit) (0.12.1)\n",
      "Requirement already satisfied: colorama in c:\\users\\julius agyei okanta\\appdata\\roaming\\python\\python312\\site-packages (from click<9,>=7.0->streamlit) (0.4.6)\n",
      "Requirement already satisfied: gitdb<5,>=4.0.1 in c:\\users\\julius agyei okanta\\appdata\\local\\programs\\python\\python312\\lib\\site-packages (from gitpython!=3.1.19,<4,>=3.0.7->streamlit) (4.0.11)\n",
      "Requirement already satisfied: python-dateutil>=2.8.2 in c:\\users\\julius agyei okanta\\appdata\\roaming\\python\\python312\\site-packages (from pandas<3,>=1.3.0->streamlit) (2.8.2)\n",
      "Requirement already satisfied: pytz>=2020.1 in c:\\users\\julius agyei okanta\\appdata\\local\\programs\\python\\python312\\lib\\site-packages (from pandas<3,>=1.3.0->streamlit) (2024.1)\n",
      "Requirement already satisfied: tzdata>=2022.7 in c:\\users\\julius agyei okanta\\appdata\\local\\programs\\python\\python312\\lib\\site-packages (from pandas<3,>=1.3.0->streamlit) (2024.1)\n",
      "Requirement already satisfied: charset-normalizer<4,>=2 in c:\\users\\julius agyei okanta\\appdata\\local\\programs\\python\\python312\\lib\\site-packages (from requests<3,>=2.27->streamlit) (3.3.2)\n",
      "Requirement already satisfied: idna<4,>=2.5 in c:\\users\\julius agyei okanta\\appdata\\local\\programs\\python\\python312\\lib\\site-packages (from requests<3,>=2.27->streamlit) (3.7)\n",
      "Requirement already satisfied: urllib3<3,>=1.21.1 in c:\\users\\julius agyei okanta\\appdata\\local\\programs\\python\\python312\\lib\\site-packages (from requests<3,>=2.27->streamlit) (2.2.1)\n",
      "Requirement already satisfied: certifi>=2017.4.17 in c:\\users\\julius agyei okanta\\appdata\\local\\programs\\python\\python312\\lib\\site-packages (from requests<3,>=2.27->streamlit) (2024.2.2)\n",
      "Requirement already satisfied: markdown-it-py>=2.2.0 in c:\\users\\julius agyei okanta\\appdata\\local\\programs\\python\\python312\\lib\\site-packages (from rich<14,>=10.14.0->streamlit) (3.0.0)\n",
      "Requirement already satisfied: pygments<3.0.0,>=2.13.0 in c:\\users\\julius agyei okanta\\appdata\\roaming\\python\\python312\\site-packages (from rich<14,>=10.14.0->streamlit) (2.17.2)\n",
      "Requirement already satisfied: smmap<6,>=3.0.1 in c:\\users\\julius agyei okanta\\appdata\\local\\programs\\python\\python312\\lib\\site-packages (from gitdb<5,>=4.0.1->gitpython!=3.1.19,<4,>=3.0.7->streamlit) (5.0.1)\n",
      "Requirement already satisfied: MarkupSafe>=2.0 in c:\\users\\julius agyei okanta\\appdata\\local\\programs\\python\\python312\\lib\\site-packages (from jinja2->altair<6,>=4.0->streamlit) (2.1.5)\n",
      "Requirement already satisfied: attrs>=22.2.0 in c:\\users\\julius agyei okanta\\appdata\\local\\programs\\python\\python312\\lib\\site-packages (from jsonschema>=3.0->altair<6,>=4.0->streamlit) (23.2.0)\n",
      "Requirement already satisfied: jsonschema-specifications>=2023.03.6 in c:\\users\\julius agyei okanta\\appdata\\local\\programs\\python\\python312\\lib\\site-packages (from jsonschema>=3.0->altair<6,>=4.0->streamlit) (2023.12.1)\n",
      "Requirement already satisfied: referencing>=0.28.4 in c:\\users\\julius agyei okanta\\appdata\\local\\programs\\python\\python312\\lib\\site-packages (from jsonschema>=3.0->altair<6,>=4.0->streamlit) (0.35.0)\n",
      "Requirement already satisfied: rpds-py>=0.7.1 in c:\\users\\julius agyei okanta\\appdata\\local\\programs\\python\\python312\\lib\\site-packages (from jsonschema>=3.0->altair<6,>=4.0->streamlit) (0.18.0)\n",
      "Requirement already satisfied: mdurl~=0.1 in c:\\users\\julius agyei okanta\\appdata\\local\\programs\\python\\python312\\lib\\site-packages (from markdown-it-py>=2.2.0->rich<14,>=10.14.0->streamlit) (0.1.2)\n",
      "Requirement already satisfied: six>=1.5 in c:\\users\\julius agyei okanta\\appdata\\roaming\\python\\python312\\site-packages (from python-dateutil>=2.8.2->pandas<3,>=1.3.0->streamlit) (1.16.0)\n",
      "Note: you may need to restart the kernel to use updated packages.\n"
     ]
    },
    {
     "name": "stderr",
     "output_type": "stream",
     "text": [
      "\n",
      "[notice] A new release of pip is available: 23.2.1 -> 24.1.1\n",
      "[notice] To update, run: python.exe -m pip install --upgrade pip\n"
     ]
    }
   ],
   "source": [
    "#creating imports\n",
    "import pandas as pd\n",
    "import numpy as np\n",
    "import plotly.express as px\n",
    "\n",
    "%pip install streamlit"
   ]
  },
  {
   "cell_type": "code",
   "execution_count": 4,
   "metadata": {},
   "outputs": [],
   "source": [
    "# read data file\n",
    "heart_disease_data = pd.read_csv(\"heart_disease_cleaned.csv\")"
   ]
  },
  {
   "cell_type": "code",
   "execution_count": 5,
   "metadata": {},
   "outputs": [
    {
     "data": {
      "text/plain": [
       "Index(['id', 'age', 'sex', 'dataset', 'cp', 'trestbps', 'chol', 'fbs',\n",
       "       'restecg', 'thalch', 'exang', 'oldpeak', 'slope', 'ca', 'thal', 'num'],\n",
       "      dtype='object')"
      ]
     },
     "execution_count": 5,
     "metadata": {},
     "output_type": "execute_result"
    }
   ],
   "source": [
    "heart_disease_data.columns"
   ]
  },
  {
   "cell_type": "code",
   "execution_count": 6,
   "metadata": {},
   "outputs": [
    {
     "name": "stdout",
     "output_type": "stream",
     "text": [
      "      id  age     sex        dataset               cp  trestbps  num\n",
      "0      1   63    Male      Cleveland   typical angina    145.00    0\n",
      "1      2   67    Male      Cleveland     asymptomatic    160.00    2\n",
      "2      3   67    Male      Cleveland     asymptomatic    120.00    1\n",
      "3      4   37    Male      Cleveland      non-anginal    130.00    0\n",
      "4      5   41  Female      Cleveland  atypical angina    130.00    0\n",
      "..   ...  ...     ...            ...              ...       ...  ...\n",
      "914  916   54  Female  VA Long Beach     asymptomatic    127.00    1\n",
      "915  917   62    Male  VA Long Beach   typical angina    143.06    0\n",
      "916  918   55    Male  VA Long Beach     asymptomatic    122.00    2\n",
      "917  919   58    Male  VA Long Beach     asymptomatic    150.81    0\n",
      "918  920   62    Male  VA Long Beach  atypical angina    120.00    1\n",
      "\n",
      "[919 rows x 7 columns]\n"
     ]
    }
   ],
   "source": [
    "#removing irrelevant columns\n",
    "heart_disease_data = heart_disease_data[['id', 'age', 'sex', 'dataset', 'cp', 'trestbps', #'chol', 'fbs',\n",
    "       #'restecg', 'thalch', 'exang', 'oldpeak', 'slope', 'ca', 'thal', \n",
    "       'num']].copy()\n",
    "\n",
    "print(heart_disease_data)"
   ]
  },
  {
   "cell_type": "code",
   "execution_count": 7,
   "metadata": {},
   "outputs": [],
   "source": [
    "#renaming columns\n",
    "heart_disease_data = heart_disease_data.rename(columns={\n",
    "    'id':'patient_id',\n",
    "    'dataset':'place_of_study',\n",
    "    'cp':'chest_pain_type',\n",
    "    'trestbps':'resting_blood_pressure',\n",
    "    'num':'predicted_attribute'\n",
    "})"
   ]
  },
  {
   "cell_type": "code",
   "execution_count": 8,
   "metadata": {},
   "outputs": [],
   "source": [
    "heart_disease_data['predicted_attribute'] = heart_disease_data['predicted_attribute'].replace(\n",
    "    {0:'no heart disease',\n",
    "     1: 'mild heart disease',\n",
    "     2:'moderate heart disease',\n",
    "     3:'severe heart disease',\n",
    "     4: 'critical heart disease'}\n",
    ")\n",
    "\n",
    "heart_disease_data['predicted_attribute'] = heart_disease_data['predicted_attribute'].astype(str)"
   ]
  },
  {
   "cell_type": "code",
   "execution_count": 9,
   "metadata": {},
   "outputs": [
    {
     "data": {
      "text/html": [
       "<div>\n",
       "<style scoped>\n",
       "    .dataframe tbody tr th:only-of-type {\n",
       "        vertical-align: middle;\n",
       "    }\n",
       "\n",
       "    .dataframe tbody tr th {\n",
       "        vertical-align: top;\n",
       "    }\n",
       "\n",
       "    .dataframe thead th {\n",
       "        text-align: right;\n",
       "    }\n",
       "</style>\n",
       "<table border=\"1\" class=\"dataframe\">\n",
       "  <thead>\n",
       "    <tr style=\"text-align: right;\">\n",
       "      <th></th>\n",
       "      <th>patient_id</th>\n",
       "      <th>age</th>\n",
       "      <th>sex</th>\n",
       "      <th>place_of_study</th>\n",
       "      <th>chest_pain_type</th>\n",
       "      <th>resting_blood_pressure</th>\n",
       "      <th>predicted_attribute</th>\n",
       "    </tr>\n",
       "  </thead>\n",
       "  <tbody>\n",
       "    <tr>\n",
       "      <th>0</th>\n",
       "      <td>1</td>\n",
       "      <td>63</td>\n",
       "      <td>Male</td>\n",
       "      <td>Cleveland</td>\n",
       "      <td>typical angina</td>\n",
       "      <td>145.00</td>\n",
       "      <td>no heart disease</td>\n",
       "    </tr>\n",
       "    <tr>\n",
       "      <th>1</th>\n",
       "      <td>2</td>\n",
       "      <td>67</td>\n",
       "      <td>Male</td>\n",
       "      <td>Cleveland</td>\n",
       "      <td>asymptomatic</td>\n",
       "      <td>160.00</td>\n",
       "      <td>moderate heart disease</td>\n",
       "    </tr>\n",
       "    <tr>\n",
       "      <th>2</th>\n",
       "      <td>3</td>\n",
       "      <td>67</td>\n",
       "      <td>Male</td>\n",
       "      <td>Cleveland</td>\n",
       "      <td>asymptomatic</td>\n",
       "      <td>120.00</td>\n",
       "      <td>mild heart disease</td>\n",
       "    </tr>\n",
       "    <tr>\n",
       "      <th>3</th>\n",
       "      <td>4</td>\n",
       "      <td>37</td>\n",
       "      <td>Male</td>\n",
       "      <td>Cleveland</td>\n",
       "      <td>non-anginal</td>\n",
       "      <td>130.00</td>\n",
       "      <td>no heart disease</td>\n",
       "    </tr>\n",
       "    <tr>\n",
       "      <th>4</th>\n",
       "      <td>5</td>\n",
       "      <td>41</td>\n",
       "      <td>Female</td>\n",
       "      <td>Cleveland</td>\n",
       "      <td>atypical angina</td>\n",
       "      <td>130.00</td>\n",
       "      <td>no heart disease</td>\n",
       "    </tr>\n",
       "    <tr>\n",
       "      <th>...</th>\n",
       "      <td>...</td>\n",
       "      <td>...</td>\n",
       "      <td>...</td>\n",
       "      <td>...</td>\n",
       "      <td>...</td>\n",
       "      <td>...</td>\n",
       "      <td>...</td>\n",
       "    </tr>\n",
       "    <tr>\n",
       "      <th>914</th>\n",
       "      <td>916</td>\n",
       "      <td>54</td>\n",
       "      <td>Female</td>\n",
       "      <td>VA Long Beach</td>\n",
       "      <td>asymptomatic</td>\n",
       "      <td>127.00</td>\n",
       "      <td>mild heart disease</td>\n",
       "    </tr>\n",
       "    <tr>\n",
       "      <th>915</th>\n",
       "      <td>917</td>\n",
       "      <td>62</td>\n",
       "      <td>Male</td>\n",
       "      <td>VA Long Beach</td>\n",
       "      <td>typical angina</td>\n",
       "      <td>143.06</td>\n",
       "      <td>no heart disease</td>\n",
       "    </tr>\n",
       "    <tr>\n",
       "      <th>916</th>\n",
       "      <td>918</td>\n",
       "      <td>55</td>\n",
       "      <td>Male</td>\n",
       "      <td>VA Long Beach</td>\n",
       "      <td>asymptomatic</td>\n",
       "      <td>122.00</td>\n",
       "      <td>moderate heart disease</td>\n",
       "    </tr>\n",
       "    <tr>\n",
       "      <th>917</th>\n",
       "      <td>919</td>\n",
       "      <td>58</td>\n",
       "      <td>Male</td>\n",
       "      <td>VA Long Beach</td>\n",
       "      <td>asymptomatic</td>\n",
       "      <td>150.81</td>\n",
       "      <td>no heart disease</td>\n",
       "    </tr>\n",
       "    <tr>\n",
       "      <th>918</th>\n",
       "      <td>920</td>\n",
       "      <td>62</td>\n",
       "      <td>Male</td>\n",
       "      <td>VA Long Beach</td>\n",
       "      <td>atypical angina</td>\n",
       "      <td>120.00</td>\n",
       "      <td>mild heart disease</td>\n",
       "    </tr>\n",
       "  </tbody>\n",
       "</table>\n",
       "<p>919 rows × 7 columns</p>\n",
       "</div>"
      ],
      "text/plain": [
       "     patient_id  age     sex place_of_study  chest_pain_type  \\\n",
       "0             1   63    Male      Cleveland   typical angina   \n",
       "1             2   67    Male      Cleveland     asymptomatic   \n",
       "2             3   67    Male      Cleveland     asymptomatic   \n",
       "3             4   37    Male      Cleveland      non-anginal   \n",
       "4             5   41  Female      Cleveland  atypical angina   \n",
       "..          ...  ...     ...            ...              ...   \n",
       "914         916   54  Female  VA Long Beach     asymptomatic   \n",
       "915         917   62    Male  VA Long Beach   typical angina   \n",
       "916         918   55    Male  VA Long Beach     asymptomatic   \n",
       "917         919   58    Male  VA Long Beach     asymptomatic   \n",
       "918         920   62    Male  VA Long Beach  atypical angina   \n",
       "\n",
       "     resting_blood_pressure     predicted_attribute  \n",
       "0                    145.00        no heart disease  \n",
       "1                    160.00  moderate heart disease  \n",
       "2                    120.00      mild heart disease  \n",
       "3                    130.00        no heart disease  \n",
       "4                    130.00        no heart disease  \n",
       "..                      ...                     ...  \n",
       "914                  127.00      mild heart disease  \n",
       "915                  143.06        no heart disease  \n",
       "916                  122.00  moderate heart disease  \n",
       "917                  150.81        no heart disease  \n",
       "918                  120.00      mild heart disease  \n",
       "\n",
       "[919 rows x 7 columns]"
      ]
     },
     "execution_count": 9,
     "metadata": {},
     "output_type": "execute_result"
    }
   ],
   "source": [
    "heart_disease_data"
   ]
  },
  {
   "cell_type": "code",
   "execution_count": 10,
   "metadata": {},
   "outputs": [
    {
     "name": "stdout",
     "output_type": "stream",
     "text": [
      "<class 'pandas.core.frame.DataFrame'>\n",
      "RangeIndex: 919 entries, 0 to 918\n",
      "Data columns (total 7 columns):\n",
      " #   Column                  Non-Null Count  Dtype  \n",
      "---  ------                  --------------  -----  \n",
      " 0   patient_id              919 non-null    int64  \n",
      " 1   age                     919 non-null    int64  \n",
      " 2   sex                     919 non-null    object \n",
      " 3   place_of_study          919 non-null    object \n",
      " 4   chest_pain_type         919 non-null    object \n",
      " 5   resting_blood_pressure  919 non-null    float64\n",
      " 6   predicted_attribute     919 non-null    object \n",
      "dtypes: float64(1), int64(2), object(4)\n",
      "memory usage: 50.4+ KB\n"
     ]
    }
   ],
   "source": [
    "\n",
    "heart_disease_data.info()"
   ]
  },
  {
   "cell_type": "code",
   "execution_count": 11,
   "metadata": {},
   "outputs": [
    {
     "data": {
      "text/plain": [
       "predicted_attribute\n",
       "no heart disease          411\n",
       "mild heart disease        265\n",
       "moderate heart disease    109\n",
       "severe heart disease      106\n",
       "critical heart disease     28\n",
       "Name: count, dtype: int64"
      ]
     },
     "execution_count": 11,
     "metadata": {},
     "output_type": "execute_result"
    }
   ],
   "source": [
    "heart_disease_data['predicted_attribute'].value_counts()"
   ]
  },
  {
   "cell_type": "code",
   "execution_count": 12,
   "metadata": {},
   "outputs": [],
   "source": [
    "#save dataframe to csv\n",
    "heart_disease_data.to_csv('heart_disease_data.csv', index=False)"
   ]
  },
  {
   "cell_type": "code",
   "execution_count": 13,
   "metadata": {},
   "outputs": [
    {
     "name": "stdout",
     "output_type": "stream",
     "text": [
      "     patient_id  age     sex place_of_study  chest_pain_type  \\\n",
      "0             1   63    Male      Cleveland   typical angina   \n",
      "1             2   67    Male      Cleveland     asymptomatic   \n",
      "2             3   67    Male      Cleveland     asymptomatic   \n",
      "3             4   37    Male      Cleveland      non-anginal   \n",
      "4             5   41  Female      Cleveland  atypical angina   \n",
      "..          ...  ...     ...            ...              ...   \n",
      "914         916   54  Female  VA Long Beach     asymptomatic   \n",
      "915         917   62    Male  VA Long Beach   typical angina   \n",
      "916         918   55    Male  VA Long Beach     asymptomatic   \n",
      "917         919   58    Male  VA Long Beach     asymptomatic   \n",
      "918         920   62    Male  VA Long Beach  atypical angina   \n",
      "\n",
      "     resting_blood_pressure     predicted_attribute  \n",
      "0                    145.00        no heart disease  \n",
      "1                    160.00  moderate heart disease  \n",
      "2                    120.00      mild heart disease  \n",
      "3                    130.00        no heart disease  \n",
      "4                    130.00        no heart disease  \n",
      "..                      ...                     ...  \n",
      "914                  127.00      mild heart disease  \n",
      "915                  143.06        no heart disease  \n",
      "916                  122.00  moderate heart disease  \n",
      "917                  150.81        no heart disease  \n",
      "918                  120.00      mild heart disease  \n",
      "\n",
      "[919 rows x 7 columns]\n"
     ]
    }
   ],
   "source": [
    "heart_disease_data = pd.read_csv('heart_disease_data.csv')\n",
    "print(heart_disease_data)"
   ]
  },
  {
   "cell_type": "markdown",
   "metadata": {},
   "source": [
    "DATA VISUALISATION"
   ]
  },
  {
   "cell_type": "code",
   "execution_count": 14,
   "metadata": {},
   "outputs": [
    {
     "data": {
      "application/vnd.plotly.v1+json": {
       "config": {
        "plotlyServerURL": "https://plot.ly"
       },
       "data": [
        {
         "customdata": [
          [
           "typical angina",
           "Cleveland"
          ],
          [
           "asymptomatic",
           "Cleveland"
          ],
          [
           "asymptomatic",
           "Cleveland"
          ],
          [
           "non-anginal",
           "Cleveland"
          ],
          [
           "atypical angina",
           "Cleveland"
          ],
          [
           "asymptomatic",
           "Cleveland"
          ],
          [
           "asymptomatic",
           "Cleveland"
          ],
          [
           "asymptomatic",
           "Cleveland"
          ],
          [
           "non-anginal",
           "Cleveland"
          ],
          [
           "atypical angina",
           "Cleveland"
          ],
          [
           "non-anginal",
           "Cleveland"
          ],
          [
           "non-anginal",
           "Cleveland"
          ],
          [
           "atypical angina",
           "Cleveland"
          ],
          [
           "asymptomatic",
           "Cleveland"
          ],
          [
           "atypical angina",
           "Cleveland"
          ],
          [
           "typical angina",
           "Cleveland"
          ],
          [
           "atypical angina",
           "Cleveland"
          ],
          [
           "non-anginal",
           "Cleveland"
          ],
          [
           "asymptomatic",
           "Cleveland"
          ],
          [
           "asymptomatic",
           "Cleveland"
          ],
          [
           "asymptomatic",
           "Cleveland"
          ],
          [
           "asymptomatic",
           "Cleveland"
          ],
          [
           "non-anginal",
           "Cleveland"
          ],
          [
           "asymptomatic",
           "Cleveland"
          ],
          [
           "non-anginal",
           "Cleveland"
          ],
          [
           "asymptomatic",
           "Cleveland"
          ],
          [
           "asymptomatic",
           "Cleveland"
          ],
          [
           "asymptomatic",
           "Cleveland"
          ],
          [
           "asymptomatic",
           "Cleveland"
          ],
          [
           "non-anginal",
           "Cleveland"
          ],
          [
           "typical angina",
           "Cleveland"
          ],
          [
           "non-anginal",
           "Cleveland"
          ],
          [
           "non-anginal",
           "Cleveland"
          ],
          [
           "non-anginal",
           "Cleveland"
          ],
          [
           "asymptomatic",
           "Cleveland"
          ],
          [
           "non-anginal",
           "Cleveland"
          ],
          [
           "asymptomatic",
           "Cleveland"
          ],
          [
           "asymptomatic",
           "Cleveland"
          ],
          [
           "atypical angina",
           "Cleveland"
          ],
          [
           "asymptomatic",
           "Cleveland"
          ],
          [
           "asymptomatic",
           "Cleveland"
          ],
          [
           "non-anginal",
           "Cleveland"
          ],
          [
           "asymptomatic",
           "Cleveland"
          ],
          [
           "non-anginal",
           "Cleveland"
          ],
          [
           "typical angina",
           "Cleveland"
          ],
          [
           "asymptomatic",
           "Cleveland"
          ],
          [
           "asymptomatic",
           "Cleveland"
          ],
          [
           "asymptomatic",
           "Cleveland"
          ],
          [
           "non-anginal",
           "Cleveland"
          ],
          [
           "non-anginal",
           "Cleveland"
          ],
          [
           "asymptomatic",
           "Cleveland"
          ],
          [
           "non-anginal",
           "Cleveland"
          ],
          [
           "asymptomatic",
           "Cleveland"
          ],
          [
           "asymptomatic",
           "Cleveland"
          ],
          [
           "asymptomatic",
           "Cleveland"
          ],
          [
           "asymptomatic",
           "Cleveland"
          ],
          [
           "asymptomatic",
           "Cleveland"
          ],
          [
           "atypical angina",
           "Cleveland"
          ],
          [
           "asymptomatic",
           "Cleveland"
          ],
          [
           "asymptomatic",
           "Cleveland"
          ],
          [
           "non-anginal",
           "Cleveland"
          ],
          [
           "non-anginal",
           "Cleveland"
          ],
          [
           "atypical angina",
           "Cleveland"
          ],
          [
           "non-anginal",
           "Cleveland"
          ],
          [
           "non-anginal",
           "Cleveland"
          ],
          [
           "asymptomatic",
           "Cleveland"
          ],
          [
           "non-anginal",
           "Cleveland"
          ],
          [
           "asymptomatic",
           "Cleveland"
          ],
          [
           "asymptomatic",
           "Cleveland"
          ],
          [
           "atypical angina",
           "Cleveland"
          ],
          [
           "asymptomatic",
           "Cleveland"
          ],
          [
           "asymptomatic",
           "Cleveland"
          ],
          [
           "typical angina",
           "Cleveland"
          ],
          [
           "non-anginal",
           "Cleveland"
          ],
          [
           "atypical angina",
           "Cleveland"
          ],
          [
           "asymptomatic",
           "Cleveland"
          ],
          [
           "non-anginal",
           "Cleveland"
          ],
          [
           "asymptomatic",
           "Cleveland"
          ],
          [
           "asymptomatic",
           "Cleveland"
          ],
          [
           "asymptomatic",
           "Cleveland"
          ],
          [
           "typical angina",
           "Cleveland"
          ],
          [
           "atypical angina",
           "Cleveland"
          ],
          [
           "non-anginal",
           "Cleveland"
          ],
          [
           "asymptomatic",
           "Cleveland"
          ],
          [
           "asymptomatic",
           "Cleveland"
          ],
          [
           "asymptomatic",
           "Cleveland"
          ],
          [
           "non-anginal",
           "Cleveland"
          ],
          [
           "asymptomatic",
           "Cleveland"
          ],
          [
           "typical angina",
           "Cleveland"
          ],
          [
           "asymptomatic",
           "Cleveland"
          ],
          [
           "atypical angina",
           "Cleveland"
          ],
          [
           "non-anginal",
           "Cleveland"
          ],
          [
           "non-anginal",
           "Cleveland"
          ],
          [
           "atypical angina",
           "Cleveland"
          ],
          [
           "asymptomatic",
           "Cleveland"
          ],
          [
           "asymptomatic",
           "Cleveland"
          ],
          [
           "atypical angina",
           "Cleveland"
          ],
          [
           "asymptomatic",
           "Cleveland"
          ],
          [
           "non-anginal",
           "Cleveland"
          ],
          [
           "atypical angina",
           "Cleveland"
          ],
          [
           "typical angina",
           "Cleveland"
          ],
          [
           "atypical angina",
           "Cleveland"
          ],
          [
           "non-anginal",
           "Cleveland"
          ],
          [
           "non-anginal",
           "Cleveland"
          ],
          [
           "non-anginal",
           "Cleveland"
          ],
          [
           "asymptomatic",
           "Cleveland"
          ],
          [
           "non-anginal",
           "Cleveland"
          ],
          [
           "atypical angina",
           "Cleveland"
          ],
          [
           "typical angina",
           "Cleveland"
          ],
          [
           "asymptomatic",
           "Cleveland"
          ],
          [
           "asymptomatic",
           "Cleveland"
          ],
          [
           "asymptomatic",
           "Cleveland"
          ],
          [
           "asymptomatic",
           "Cleveland"
          ],
          [
           "asymptomatic",
           "Cleveland"
          ],
          [
           "asymptomatic",
           "Cleveland"
          ],
          [
           "non-anginal",
           "Cleveland"
          ],
          [
           "atypical angina",
           "Cleveland"
          ],
          [
           "asymptomatic",
           "Cleveland"
          ],
          [
           "non-anginal",
           "Cleveland"
          ],
          [
           "asymptomatic",
           "Cleveland"
          ],
          [
           "non-anginal",
           "Cleveland"
          ],
          [
           "asymptomatic",
           "Cleveland"
          ],
          [
           "non-anginal",
           "Cleveland"
          ],
          [
           "asymptomatic",
           "Cleveland"
          ],
          [
           "asymptomatic",
           "Cleveland"
          ],
          [
           "asymptomatic",
           "Cleveland"
          ],
          [
           "asymptomatic",
           "Cleveland"
          ],
          [
           "asymptomatic",
           "Cleveland"
          ],
          [
           "non-anginal",
           "Cleveland"
          ],
          [
           "non-anginal",
           "Cleveland"
          ],
          [
           "asymptomatic",
           "Cleveland"
          ],
          [
           "typical angina",
           "Cleveland"
          ],
          [
           "typical angina",
           "Cleveland"
          ],
          [
           "non-anginal",
           "Cleveland"
          ],
          [
           "atypical angina",
           "Cleveland"
          ],
          [
           "atypical angina",
           "Cleveland"
          ],
          [
           "non-anginal",
           "Cleveland"
          ],
          [
           "non-anginal",
           "Cleveland"
          ],
          [
           "asymptomatic",
           "Cleveland"
          ],
          [
           "asymptomatic",
           "Cleveland"
          ],
          [
           "asymptomatic",
           "Cleveland"
          ],
          [
           "typical angina",
           "Cleveland"
          ],
          [
           "typical angina",
           "Cleveland"
          ],
          [
           "non-anginal",
           "Cleveland"
          ],
          [
           "asymptomatic",
           "Cleveland"
          ],
          [
           "asymptomatic",
           "Cleveland"
          ],
          [
           "asymptomatic",
           "Cleveland"
          ],
          [
           "asymptomatic",
           "Cleveland"
          ],
          [
           "atypical angina",
           "Cleveland"
          ],
          [
           "typical angina",
           "Cleveland"
          ],
          [
           "non-anginal",
           "Cleveland"
          ],
          [
           "asymptomatic",
           "Cleveland"
          ],
          [
           "typical angina",
           "Cleveland"
          ],
          [
           "asymptomatic",
           "Cleveland"
          ],
          [
           "asymptomatic",
           "Cleveland"
          ],
          [
           "asymptomatic",
           "Cleveland"
          ],
          [
           "asymptomatic",
           "Cleveland"
          ],
          [
           "asymptomatic",
           "Cleveland"
          ],
          [
           "non-anginal",
           "Cleveland"
          ],
          [
           "asymptomatic",
           "Cleveland"
          ],
          [
           "asymptomatic",
           "Cleveland"
          ],
          [
           "asymptomatic",
           "Cleveland"
          ],
          [
           "atypical angina",
           "Cleveland"
          ],
          [
           "atypical angina",
           "Cleveland"
          ],
          [
           "typical angina",
           "Cleveland"
          ],
          [
           "asymptomatic",
           "Cleveland"
          ],
          [
           "asymptomatic",
           "Cleveland"
          ],
          [
           "asymptomatic",
           "Cleveland"
          ],
          [
           "asymptomatic",
           "Cleveland"
          ],
          [
           "atypical angina",
           "Cleveland"
          ],
          [
           "asymptomatic",
           "Cleveland"
          ],
          [
           "asymptomatic",
           "Cleveland"
          ],
          [
           "asymptomatic",
           "Cleveland"
          ],
          [
           "asymptomatic",
           "Cleveland"
          ],
          [
           "atypical angina",
           "Cleveland"
          ],
          [
           "atypical angina",
           "Cleveland"
          ],
          [
           "non-anginal",
           "Cleveland"
          ],
          [
           "asymptomatic",
           "Cleveland"
          ],
          [
           "asymptomatic",
           "Cleveland"
          ],
          [
           "asymptomatic",
           "Cleveland"
          ],
          [
           "non-anginal",
           "Cleveland"
          ],
          [
           "asymptomatic",
           "Cleveland"
          ],
          [
           "non-anginal",
           "Cleveland"
          ],
          [
           "asymptomatic",
           "Cleveland"
          ],
          [
           "asymptomatic",
           "Cleveland"
          ],
          [
           "asymptomatic",
           "Cleveland"
          ],
          [
           "typical angina",
           "Cleveland"
          ],
          [
           "typical angina",
           "Cleveland"
          ],
          [
           "atypical angina",
           "Cleveland"
          ],
          [
           "asymptomatic",
           "Cleveland"
          ],
          [
           "non-anginal",
           "Cleveland"
          ],
          [
           "atypical angina",
           "Cleveland"
          ],
          [
           "asymptomatic",
           "Cleveland"
          ],
          [
           "asymptomatic",
           "Cleveland"
          ],
          [
           "atypical angina",
           "Cleveland"
          ],
          [
           "atypical angina",
           "Cleveland"
          ],
          [
           "atypical angina",
           "Cleveland"
          ],
          [
           "non-anginal",
           "Cleveland"
          ],
          [
           "asymptomatic",
           "Cleveland"
          ],
          [
           "asymptomatic",
           "Cleveland"
          ],
          [
           "atypical angina",
           "Cleveland"
          ],
          [
           "asymptomatic",
           "Cleveland"
          ],
          [
           "typical angina",
           "Cleveland"
          ],
          [
           "asymptomatic",
           "Cleveland"
          ],
          [
           "asymptomatic",
           "Cleveland"
          ],
          [
           "non-anginal",
           "Cleveland"
          ],
          [
           "atypical angina",
           "Cleveland"
          ],
          [
           "atypical angina",
           "Hungary"
          ],
          [
           "atypical angina",
           "Hungary"
          ],
          [
           "atypical angina",
           "Hungary"
          ],
          [
           "atypical angina",
           "Hungary"
          ],
          [
           "non-anginal",
           "Hungary"
          ],
          [
           "atypical angina",
           "Hungary"
          ],
          [
           "atypical angina",
           "Hungary"
          ],
          [
           "atypical angina",
           "Hungary"
          ],
          [
           "atypical angina",
           "Hungary"
          ],
          [
           "atypical angina",
           "Hungary"
          ],
          [
           "non-anginal",
           "Hungary"
          ],
          [
           "non-anginal",
           "Hungary"
          ],
          [
           "non-anginal",
           "Hungary"
          ],
          [
           "atypical angina",
           "Hungary"
          ],
          [
           "non-anginal",
           "Hungary"
          ],
          [
           "asymptomatic",
           "Hungary"
          ],
          [
           "asymptomatic",
           "Hungary"
          ],
          [
           "atypical angina",
           "Hungary"
          ],
          [
           "non-anginal",
           "Hungary"
          ],
          [
           "atypical angina",
           "Hungary"
          ],
          [
           "atypical angina",
           "Hungary"
          ],
          [
           "atypical angina",
           "Hungary"
          ],
          [
           "atypical angina",
           "Hungary"
          ],
          [
           "atypical angina",
           "Hungary"
          ],
          [
           "non-anginal",
           "Hungary"
          ],
          [
           "non-anginal",
           "Hungary"
          ],
          [
           "asymptomatic",
           "Hungary"
          ],
          [
           "asymptomatic",
           "Hungary"
          ],
          [
           "atypical angina",
           "Hungary"
          ],
          [
           "atypical angina",
           "Hungary"
          ],
          [
           "non-anginal",
           "Hungary"
          ],
          [
           "non-anginal",
           "Hungary"
          ],
          [
           "non-anginal",
           "Hungary"
          ],
          [
           "atypical angina",
           "Hungary"
          ],
          [
           "atypical angina",
           "Hungary"
          ],
          [
           "atypical angina",
           "Hungary"
          ],
          [
           "asymptomatic",
           "Hungary"
          ],
          [
           "atypical angina",
           "Hungary"
          ],
          [
           "atypical angina",
           "Hungary"
          ],
          [
           "atypical angina",
           "Hungary"
          ],
          [
           "non-anginal",
           "Hungary"
          ],
          [
           "non-anginal",
           "Hungary"
          ],
          [
           "asymptomatic",
           "Hungary"
          ],
          [
           "atypical angina",
           "Hungary"
          ],
          [
           "atypical angina",
           "Hungary"
          ],
          [
           "atypical angina",
           "Hungary"
          ],
          [
           "asymptomatic",
           "Hungary"
          ],
          [
           "atypical angina",
           "Hungary"
          ],
          [
           "non-anginal",
           "Hungary"
          ],
          [
           "asymptomatic",
           "Hungary"
          ],
          [
           "asymptomatic",
           "Hungary"
          ],
          [
           "atypical angina",
           "Hungary"
          ],
          [
           "non-anginal",
           "Hungary"
          ],
          [
           "non-anginal",
           "Hungary"
          ],
          [
           "asymptomatic",
           "Hungary"
          ],
          [
           "asymptomatic",
           "Hungary"
          ],
          [
           "asymptomatic",
           "Hungary"
          ],
          [
           "typical angina",
           "Hungary"
          ],
          [
           "atypical angina",
           "Hungary"
          ],
          [
           "asymptomatic",
           "Hungary"
          ],
          [
           "atypical angina",
           "Hungary"
          ],
          [
           "atypical angina",
           "Hungary"
          ],
          [
           "atypical angina",
           "Hungary"
          ],
          [
           "non-anginal",
           "Hungary"
          ],
          [
           "atypical angina",
           "Hungary"
          ],
          [
           "non-anginal",
           "Hungary"
          ],
          [
           "asymptomatic",
           "Hungary"
          ],
          [
           "asymptomatic",
           "Hungary"
          ],
          [
           "atypical angina",
           "Hungary"
          ],
          [
           "atypical angina",
           "Hungary"
          ],
          [
           "atypical angina",
           "Hungary"
          ],
          [
           "asymptomatic",
           "Hungary"
          ],
          [
           "asymptomatic",
           "Hungary"
          ],
          [
           "atypical angina",
           "Hungary"
          ],
          [
           "atypical angina",
           "Hungary"
          ],
          [
           "asymptomatic",
           "Hungary"
          ],
          [
           "atypical angina",
           "Hungary"
          ],
          [
           "atypical angina",
           "Hungary"
          ],
          [
           "atypical angina",
           "Hungary"
          ],
          [
           "non-anginal",
           "Hungary"
          ],
          [
           "atypical angina",
           "Hungary"
          ],
          [
           "atypical angina",
           "Hungary"
          ],
          [
           "non-anginal",
           "Hungary"
          ],
          [
           "asymptomatic",
           "Hungary"
          ],
          [
           "asymptomatic",
           "Hungary"
          ],
          [
           "asymptomatic",
           "Hungary"
          ],
          [
           "typical angina",
           "Hungary"
          ],
          [
           "atypical angina",
           "Hungary"
          ],
          [
           "atypical angina",
           "Hungary"
          ],
          [
           "atypical angina",
           "Hungary"
          ],
          [
           "atypical angina",
           "Hungary"
          ],
          [
           "atypical angina",
           "Hungary"
          ],
          [
           "non-anginal",
           "Hungary"
          ],
          [
           "non-anginal",
           "Hungary"
          ],
          [
           "asymptomatic",
           "Hungary"
          ],
          [
           "atypical angina",
           "Hungary"
          ],
          [
           "atypical angina",
           "Hungary"
          ],
          [
           "atypical angina",
           "Hungary"
          ],
          [
           "non-anginal",
           "Hungary"
          ],
          [
           "non-anginal",
           "Hungary"
          ],
          [
           "asymptomatic",
           "Hungary"
          ],
          [
           "asymptomatic",
           "Hungary"
          ],
          [
           "atypical angina",
           "Hungary"
          ],
          [
           "non-anginal",
           "Hungary"
          ],
          [
           "non-anginal",
           "Hungary"
          ],
          [
           "asymptomatic",
           "Hungary"
          ],
          [
           "atypical angina",
           "Hungary"
          ],
          [
           "atypical angina",
           "Hungary"
          ],
          [
           "atypical angina",
           "Hungary"
          ],
          [
           "non-anginal",
           "Hungary"
          ],
          [
           "asymptomatic",
           "Hungary"
          ],
          [
           "atypical angina",
           "Hungary"
          ],
          [
           "non-anginal",
           "Hungary"
          ],
          [
           "non-anginal",
           "Hungary"
          ],
          [
           "asymptomatic",
           "Hungary"
          ],
          [
           "non-anginal",
           "Hungary"
          ],
          [
           "asymptomatic",
           "Hungary"
          ],
          [
           "atypical angina",
           "Hungary"
          ],
          [
           "asymptomatic",
           "Hungary"
          ],
          [
           "typical angina",
           "Hungary"
          ],
          [
           "atypical angina",
           "Hungary"
          ],
          [
           "atypical angina",
           "Hungary"
          ],
          [
           "asymptomatic",
           "Hungary"
          ],
          [
           "asymptomatic",
           "Hungary"
          ],
          [
           "asymptomatic",
           "Hungary"
          ],
          [
           "asymptomatic",
           "Hungary"
          ],
          [
           "asymptomatic",
           "Hungary"
          ],
          [
           "asymptomatic",
           "Hungary"
          ],
          [
           "asymptomatic",
           "Hungary"
          ],
          [
           "asymptomatic",
           "Hungary"
          ],
          [
           "asymptomatic",
           "Hungary"
          ],
          [
           "asymptomatic",
           "Hungary"
          ],
          [
           "asymptomatic",
           "Hungary"
          ],
          [
           "non-anginal",
           "Hungary"
          ],
          [
           "asymptomatic",
           "Hungary"
          ],
          [
           "asymptomatic",
           "Hungary"
          ],
          [
           "asymptomatic",
           "Hungary"
          ],
          [
           "asymptomatic",
           "Hungary"
          ],
          [
           "non-anginal",
           "Hungary"
          ],
          [
           "asymptomatic",
           "Hungary"
          ],
          [
           "asymptomatic",
           "Hungary"
          ],
          [
           "asymptomatic",
           "Hungary"
          ],
          [
           "asymptomatic",
           "Hungary"
          ],
          [
           "asymptomatic",
           "Hungary"
          ],
          [
           "asymptomatic",
           "Hungary"
          ],
          [
           "atypical angina",
           "Hungary"
          ],
          [
           "non-anginal",
           "Hungary"
          ],
          [
           "asymptomatic",
           "Hungary"
          ],
          [
           "asymptomatic",
           "Hungary"
          ],
          [
           "asymptomatic",
           "Hungary"
          ],
          [
           "asymptomatic",
           "Hungary"
          ],
          [
           "asymptomatic",
           "Hungary"
          ],
          [
           "asymptomatic",
           "Hungary"
          ],
          [
           "typical angina",
           "Hungary"
          ],
          [
           "asymptomatic",
           "Hungary"
          ],
          [
           "asymptomatic",
           "Hungary"
          ],
          [
           "asymptomatic",
           "Hungary"
          ],
          [
           "asymptomatic",
           "Hungary"
          ],
          [
           "asymptomatic",
           "Hungary"
          ],
          [
           "asymptomatic",
           "Hungary"
          ],
          [
           "asymptomatic",
           "Hungary"
          ],
          [
           "asymptomatic",
           "Hungary"
          ],
          [
           "asymptomatic",
           "Hungary"
          ],
          [
           "asymptomatic",
           "Hungary"
          ],
          [
           "asymptomatic",
           "Hungary"
          ],
          [
           "non-anginal",
           "Hungary"
          ],
          [
           "asymptomatic",
           "Hungary"
          ],
          [
           "asymptomatic",
           "Hungary"
          ],
          [
           "asymptomatic",
           "Hungary"
          ],
          [
           "asymptomatic",
           "Hungary"
          ],
          [
           "asymptomatic",
           "Hungary"
          ],
          [
           "asymptomatic",
           "Hungary"
          ],
          [
           "asymptomatic",
           "Hungary"
          ],
          [
           "non-anginal",
           "Hungary"
          ],
          [
           "asymptomatic",
           "Hungary"
          ],
          [
           "asymptomatic",
           "Hungary"
          ],
          [
           "asymptomatic",
           "Hungary"
          ],
          [
           "atypical angina",
           "Hungary"
          ],
          [
           "asymptomatic",
           "Hungary"
          ],
          [
           "typical angina",
           "Hungary"
          ],
          [
           "asymptomatic",
           "Hungary"
          ],
          [
           "asymptomatic",
           "Hungary"
          ],
          [
           "non-anginal",
           "Hungary"
          ],
          [
           "asymptomatic",
           "Hungary"
          ],
          [
           "asymptomatic",
           "Hungary"
          ],
          [
           "asymptomatic",
           "Hungary"
          ],
          [
           "asymptomatic",
           "Hungary"
          ],
          [
           "non-anginal",
           "Hungary"
          ],
          [
           "asymptomatic",
           "Hungary"
          ],
          [
           "asymptomatic",
           "Hungary"
          ],
          [
           "typical angina",
           "Hungary"
          ],
          [
           "atypical angina",
           "Hungary"
          ],
          [
           "asymptomatic",
           "Hungary"
          ],
          [
           "asymptomatic",
           "Hungary"
          ],
          [
           "asymptomatic",
           "Hungary"
          ],
          [
           "atypical angina",
           "Hungary"
          ],
          [
           "asymptomatic",
           "Hungary"
          ],
          [
           "asymptomatic",
           "Hungary"
          ],
          [
           "asymptomatic",
           "Hungary"
          ],
          [
           "asymptomatic",
           "Hungary"
          ],
          [
           "asymptomatic",
           "Hungary"
          ],
          [
           "asymptomatic",
           "Hungary"
          ],
          [
           "asymptomatic",
           "Hungary"
          ],
          [
           "asymptomatic",
           "Hungary"
          ],
          [
           "asymptomatic",
           "Hungary"
          ],
          [
           "asymptomatic",
           "Hungary"
          ],
          [
           "asymptomatic",
           "Hungary"
          ],
          [
           "asymptomatic",
           "Hungary"
          ],
          [
           "asymptomatic",
           "Hungary"
          ],
          [
           "asymptomatic",
           "Hungary"
          ],
          [
           "asymptomatic",
           "Hungary"
          ],
          [
           "asymptomatic",
           "Hungary"
          ],
          [
           "typical angina",
           "Switzerland"
          ],
          [
           "asymptomatic",
           "Switzerland"
          ],
          [
           "asymptomatic",
           "Switzerland"
          ],
          [
           "asymptomatic",
           "Switzerland"
          ],
          [
           "non-anginal",
           "Switzerland"
          ],
          [
           "non-anginal",
           "Switzerland"
          ],
          [
           "asymptomatic",
           "Switzerland"
          ],
          [
           "asymptomatic",
           "Switzerland"
          ],
          [
           "asymptomatic",
           "Switzerland"
          ],
          [
           "asymptomatic",
           "Switzerland"
          ],
          [
           "asymptomatic",
           "Switzerland"
          ],
          [
           "asymptomatic",
           "Switzerland"
          ],
          [
           "asymptomatic",
           "Switzerland"
          ],
          [
           "asymptomatic",
           "Switzerland"
          ],
          [
           "asymptomatic",
           "Switzerland"
          ],
          [
           "non-anginal",
           "Switzerland"
          ],
          [
           "asymptomatic",
           "Switzerland"
          ],
          [
           "asymptomatic",
           "Switzerland"
          ],
          [
           "non-anginal",
           "Switzerland"
          ],
          [
           "non-anginal",
           "Switzerland"
          ],
          [
           "asymptomatic",
           "Switzerland"
          ],
          [
           "asymptomatic",
           "Switzerland"
          ],
          [
           "asymptomatic",
           "Switzerland"
          ],
          [
           "asymptomatic",
           "Switzerland"
          ],
          [
           "asymptomatic",
           "Switzerland"
          ],
          [
           "asymptomatic",
           "Switzerland"
          ],
          [
           "asymptomatic",
           "Switzerland"
          ],
          [
           "asymptomatic",
           "Switzerland"
          ],
          [
           "asymptomatic",
           "Switzerland"
          ],
          [
           "asymptomatic",
           "Switzerland"
          ],
          [
           "asymptomatic",
           "Switzerland"
          ],
          [
           "asymptomatic",
           "Switzerland"
          ],
          [
           "asymptomatic",
           "Switzerland"
          ],
          [
           "asymptomatic",
           "Switzerland"
          ],
          [
           "asymptomatic",
           "Switzerland"
          ],
          [
           "asymptomatic",
           "Switzerland"
          ],
          [
           "atypical angina",
           "Switzerland"
          ],
          [
           "atypical angina",
           "Switzerland"
          ],
          [
           "non-anginal",
           "Switzerland"
          ],
          [
           "non-anginal",
           "Switzerland"
          ],
          [
           "asymptomatic",
           "Switzerland"
          ],
          [
           "asymptomatic",
           "Switzerland"
          ],
          [
           "asymptomatic",
           "Switzerland"
          ],
          [
           "asymptomatic",
           "Switzerland"
          ],
          [
           "asymptomatic",
           "Switzerland"
          ],
          [
           "asymptomatic",
           "Switzerland"
          ],
          [
           "asymptomatic",
           "Switzerland"
          ],
          [
           "atypical angina",
           "Switzerland"
          ],
          [
           "asymptomatic",
           "Switzerland"
          ],
          [
           "asymptomatic",
           "Switzerland"
          ],
          [
           "asymptomatic",
           "Switzerland"
          ],
          [
           "non-anginal",
           "Switzerland"
          ],
          [
           "non-anginal",
           "Switzerland"
          ],
          [
           "non-anginal",
           "Switzerland"
          ],
          [
           "asymptomatic",
           "Switzerland"
          ],
          [
           "asymptomatic",
           "Switzerland"
          ],
          [
           "asymptomatic",
           "Switzerland"
          ],
          [
           "asymptomatic",
           "Switzerland"
          ],
          [
           "asymptomatic",
           "Switzerland"
          ],
          [
           "non-anginal",
           "Switzerland"
          ],
          [
           "asymptomatic",
           "Switzerland"
          ],
          [
           "asymptomatic",
           "Switzerland"
          ],
          [
           "asymptomatic",
           "Switzerland"
          ],
          [
           "asymptomatic",
           "Switzerland"
          ],
          [
           "asymptomatic",
           "Switzerland"
          ],
          [
           "asymptomatic",
           "Switzerland"
          ],
          [
           "asymptomatic",
           "Switzerland"
          ],
          [
           "asymptomatic",
           "Switzerland"
          ],
          [
           "non-anginal",
           "Switzerland"
          ],
          [
           "asymptomatic",
           "Switzerland"
          ],
          [
           "asymptomatic",
           "Switzerland"
          ],
          [
           "asymptomatic",
           "Switzerland"
          ],
          [
           "asymptomatic",
           "Switzerland"
          ],
          [
           "non-anginal",
           "Switzerland"
          ],
          [
           "asymptomatic",
           "Switzerland"
          ],
          [
           "asymptomatic",
           "Switzerland"
          ],
          [
           "asymptomatic",
           "Switzerland"
          ],
          [
           "asymptomatic",
           "Switzerland"
          ],
          [
           "asymptomatic",
           "Switzerland"
          ],
          [
           "non-anginal",
           "Switzerland"
          ],
          [
           "asymptomatic",
           "Switzerland"
          ],
          [
           "asymptomatic",
           "Switzerland"
          ],
          [
           "asymptomatic",
           "Switzerland"
          ],
          [
           "asymptomatic",
           "Switzerland"
          ],
          [
           "asymptomatic",
           "Switzerland"
          ],
          [
           "asymptomatic",
           "Switzerland"
          ],
          [
           "asymptomatic",
           "Switzerland"
          ],
          [
           "asymptomatic",
           "Switzerland"
          ],
          [
           "typical angina",
           "Switzerland"
          ],
          [
           "non-anginal",
           "Switzerland"
          ],
          [
           "asymptomatic",
           "Switzerland"
          ],
          [
           "asymptomatic",
           "Switzerland"
          ],
          [
           "asymptomatic",
           "Switzerland"
          ],
          [
           "asymptomatic",
           "Switzerland"
          ],
          [
           "asymptomatic",
           "Switzerland"
          ],
          [
           "asymptomatic",
           "Switzerland"
          ],
          [
           "asymptomatic",
           "Switzerland"
          ],
          [
           "asymptomatic",
           "Switzerland"
          ],
          [
           "asymptomatic",
           "Switzerland"
          ],
          [
           "asymptomatic",
           "Switzerland"
          ],
          [
           "asymptomatic",
           "Switzerland"
          ],
          [
           "asymptomatic",
           "Switzerland"
          ],
          [
           "asymptomatic",
           "Switzerland"
          ],
          [
           "asymptomatic",
           "Switzerland"
          ],
          [
           "typical angina",
           "Switzerland"
          ],
          [
           "asymptomatic",
           "Switzerland"
          ],
          [
           "asymptomatic",
           "Switzerland"
          ],
          [
           "asymptomatic",
           "Switzerland"
          ],
          [
           "asymptomatic",
           "Switzerland"
          ],
          [
           "asymptomatic",
           "Switzerland"
          ],
          [
           "asymptomatic",
           "Switzerland"
          ],
          [
           "non-anginal",
           "Switzerland"
          ],
          [
           "atypical angina",
           "Switzerland"
          ],
          [
           "asymptomatic",
           "VA Long Beach"
          ],
          [
           "asymptomatic",
           "VA Long Beach"
          ],
          [
           "asymptomatic",
           "VA Long Beach"
          ],
          [
           "asymptomatic",
           "VA Long Beach"
          ],
          [
           "non-anginal",
           "VA Long Beach"
          ],
          [
           "non-anginal",
           "VA Long Beach"
          ],
          [
           "asymptomatic",
           "VA Long Beach"
          ],
          [
           "non-anginal",
           "VA Long Beach"
          ],
          [
           "non-anginal",
           "VA Long Beach"
          ],
          [
           "atypical angina",
           "VA Long Beach"
          ],
          [
           "atypical angina",
           "VA Long Beach"
          ],
          [
           "asymptomatic",
           "VA Long Beach"
          ],
          [
           "asymptomatic",
           "VA Long Beach"
          ],
          [
           "non-anginal",
           "VA Long Beach"
          ],
          [
           "asymptomatic",
           "VA Long Beach"
          ],
          [
           "asymptomatic",
           "VA Long Beach"
          ],
          [
           "asymptomatic",
           "VA Long Beach"
          ],
          [
           "asymptomatic",
           "VA Long Beach"
          ],
          [
           "asymptomatic",
           "VA Long Beach"
          ],
          [
           "asymptomatic",
           "VA Long Beach"
          ],
          [
           "asymptomatic",
           "VA Long Beach"
          ],
          [
           "asymptomatic",
           "VA Long Beach"
          ],
          [
           "non-anginal",
           "VA Long Beach"
          ],
          [
           "non-anginal",
           "VA Long Beach"
          ],
          [
           "non-anginal",
           "VA Long Beach"
          ],
          [
           "asymptomatic",
           "VA Long Beach"
          ],
          [
           "asymptomatic",
           "VA Long Beach"
          ],
          [
           "asymptomatic",
           "VA Long Beach"
          ],
          [
           "asymptomatic",
           "VA Long Beach"
          ],
          [
           "non-anginal",
           "VA Long Beach"
          ],
          [
           "asymptomatic",
           "VA Long Beach"
          ],
          [
           "asymptomatic",
           "VA Long Beach"
          ],
          [
           "asymptomatic",
           "VA Long Beach"
          ],
          [
           "non-anginal",
           "VA Long Beach"
          ],
          [
           "asymptomatic",
           "VA Long Beach"
          ],
          [
           "asymptomatic",
           "VA Long Beach"
          ],
          [
           "asymptomatic",
           "VA Long Beach"
          ],
          [
           "asymptomatic",
           "VA Long Beach"
          ],
          [
           "asymptomatic",
           "VA Long Beach"
          ],
          [
           "non-anginal",
           "VA Long Beach"
          ],
          [
           "asymptomatic",
           "VA Long Beach"
          ],
          [
           "asymptomatic",
           "VA Long Beach"
          ],
          [
           "asymptomatic",
           "VA Long Beach"
          ],
          [
           "asymptomatic",
           "VA Long Beach"
          ],
          [
           "asymptomatic",
           "VA Long Beach"
          ],
          [
           "asymptomatic",
           "VA Long Beach"
          ],
          [
           "asymptomatic",
           "VA Long Beach"
          ],
          [
           "non-anginal",
           "VA Long Beach"
          ],
          [
           "non-anginal",
           "VA Long Beach"
          ],
          [
           "non-anginal",
           "VA Long Beach"
          ],
          [
           "asymptomatic",
           "VA Long Beach"
          ],
          [
           "atypical angina",
           "VA Long Beach"
          ],
          [
           "asymptomatic",
           "VA Long Beach"
          ],
          [
           "asymptomatic",
           "VA Long Beach"
          ],
          [
           "asymptomatic",
           "VA Long Beach"
          ],
          [
           "non-anginal",
           "VA Long Beach"
          ],
          [
           "atypical angina",
           "VA Long Beach"
          ],
          [
           "asymptomatic",
           "VA Long Beach"
          ],
          [
           "asymptomatic",
           "VA Long Beach"
          ],
          [
           "asymptomatic",
           "VA Long Beach"
          ],
          [
           "asymptomatic",
           "VA Long Beach"
          ],
          [
           "non-anginal",
           "VA Long Beach"
          ],
          [
           "atypical angina",
           "VA Long Beach"
          ],
          [
           "non-anginal",
           "VA Long Beach"
          ],
          [
           "typical angina",
           "VA Long Beach"
          ],
          [
           "asymptomatic",
           "VA Long Beach"
          ],
          [
           "asymptomatic",
           "VA Long Beach"
          ],
          [
           "atypical angina",
           "VA Long Beach"
          ],
          [
           "atypical angina",
           "VA Long Beach"
          ],
          [
           "asymptomatic",
           "VA Long Beach"
          ],
          [
           "typical angina",
           "VA Long Beach"
          ],
          [
           "asymptomatic",
           "VA Long Beach"
          ],
          [
           "non-anginal",
           "VA Long Beach"
          ],
          [
           "asymptomatic",
           "VA Long Beach"
          ],
          [
           "typical angina",
           "VA Long Beach"
          ],
          [
           "non-anginal",
           "VA Long Beach"
          ],
          [
           "asymptomatic",
           "VA Long Beach"
          ],
          [
           "asymptomatic",
           "VA Long Beach"
          ],
          [
           "asymptomatic",
           "VA Long Beach"
          ],
          [
           "asymptomatic",
           "VA Long Beach"
          ],
          [
           "asymptomatic",
           "VA Long Beach"
          ],
          [
           "asymptomatic",
           "VA Long Beach"
          ],
          [
           "asymptomatic",
           "VA Long Beach"
          ],
          [
           "asymptomatic",
           "VA Long Beach"
          ],
          [
           "asymptomatic",
           "VA Long Beach"
          ],
          [
           "asymptomatic",
           "VA Long Beach"
          ],
          [
           "non-anginal",
           "VA Long Beach"
          ],
          [
           "asymptomatic",
           "VA Long Beach"
          ],
          [
           "non-anginal",
           "VA Long Beach"
          ],
          [
           "asymptomatic",
           "VA Long Beach"
          ],
          [
           "asymptomatic",
           "VA Long Beach"
          ],
          [
           "asymptomatic",
           "VA Long Beach"
          ],
          [
           "asymptomatic",
           "VA Long Beach"
          ],
          [
           "non-anginal",
           "VA Long Beach"
          ],
          [
           "typical angina",
           "VA Long Beach"
          ],
          [
           "asymptomatic",
           "VA Long Beach"
          ],
          [
           "non-anginal",
           "VA Long Beach"
          ],
          [
           "non-anginal",
           "VA Long Beach"
          ],
          [
           "asymptomatic",
           "VA Long Beach"
          ],
          [
           "non-anginal",
           "VA Long Beach"
          ],
          [
           "asymptomatic",
           "VA Long Beach"
          ],
          [
           "asymptomatic",
           "VA Long Beach"
          ],
          [
           "asymptomatic",
           "VA Long Beach"
          ],
          [
           "asymptomatic",
           "VA Long Beach"
          ],
          [
           "asymptomatic",
           "VA Long Beach"
          ],
          [
           "asymptomatic",
           "VA Long Beach"
          ],
          [
           "non-anginal",
           "VA Long Beach"
          ],
          [
           "asymptomatic",
           "VA Long Beach"
          ],
          [
           "atypical angina",
           "VA Long Beach"
          ],
          [
           "non-anginal",
           "VA Long Beach"
          ],
          [
           "asymptomatic",
           "VA Long Beach"
          ],
          [
           "asymptomatic",
           "VA Long Beach"
          ],
          [
           "asymptomatic",
           "VA Long Beach"
          ],
          [
           "asymptomatic",
           "VA Long Beach"
          ],
          [
           "asymptomatic",
           "VA Long Beach"
          ],
          [
           "asymptomatic",
           "VA Long Beach"
          ],
          [
           "asymptomatic",
           "VA Long Beach"
          ],
          [
           "non-anginal",
           "VA Long Beach"
          ],
          [
           "asymptomatic",
           "VA Long Beach"
          ],
          [
           "asymptomatic",
           "VA Long Beach"
          ],
          [
           "asymptomatic",
           "VA Long Beach"
          ],
          [
           "non-anginal",
           "VA Long Beach"
          ],
          [
           "non-anginal",
           "VA Long Beach"
          ],
          [
           "asymptomatic",
           "VA Long Beach"
          ],
          [
           "asymptomatic",
           "VA Long Beach"
          ],
          [
           "non-anginal",
           "VA Long Beach"
          ],
          [
           "typical angina",
           "VA Long Beach"
          ],
          [
           "asymptomatic",
           "VA Long Beach"
          ],
          [
           "typical angina",
           "VA Long Beach"
          ],
          [
           "asymptomatic",
           "VA Long Beach"
          ],
          [
           "non-anginal",
           "VA Long Beach"
          ],
          [
           "non-anginal",
           "VA Long Beach"
          ],
          [
           "typical angina",
           "VA Long Beach"
          ],
          [
           "non-anginal",
           "VA Long Beach"
          ],
          [
           "non-anginal",
           "VA Long Beach"
          ],
          [
           "asymptomatic",
           "VA Long Beach"
          ],
          [
           "non-anginal",
           "VA Long Beach"
          ],
          [
           "non-anginal",
           "VA Long Beach"
          ],
          [
           "asymptomatic",
           "VA Long Beach"
          ],
          [
           "non-anginal",
           "VA Long Beach"
          ],
          [
           "atypical angina",
           "VA Long Beach"
          ],
          [
           "asymptomatic",
           "VA Long Beach"
          ],
          [
           "asymptomatic",
           "VA Long Beach"
          ],
          [
           "asymptomatic",
           "VA Long Beach"
          ],
          [
           "asymptomatic",
           "VA Long Beach"
          ],
          [
           "asymptomatic",
           "VA Long Beach"
          ],
          [
           "asymptomatic",
           "VA Long Beach"
          ],
          [
           "asymptomatic",
           "VA Long Beach"
          ],
          [
           "asymptomatic",
           "VA Long Beach"
          ],
          [
           "asymptomatic",
           "VA Long Beach"
          ],
          [
           "asymptomatic",
           "VA Long Beach"
          ],
          [
           "asymptomatic",
           "VA Long Beach"
          ],
          [
           "asymptomatic",
           "VA Long Beach"
          ],
          [
           "asymptomatic",
           "VA Long Beach"
          ],
          [
           "asymptomatic",
           "VA Long Beach"
          ],
          [
           "asymptomatic",
           "VA Long Beach"
          ],
          [
           "asymptomatic",
           "VA Long Beach"
          ],
          [
           "asymptomatic",
           "VA Long Beach"
          ],
          [
           "asymptomatic",
           "VA Long Beach"
          ],
          [
           "asymptomatic",
           "VA Long Beach"
          ],
          [
           "asymptomatic",
           "VA Long Beach"
          ],
          [
           "asymptomatic",
           "VA Long Beach"
          ],
          [
           "non-anginal",
           "VA Long Beach"
          ],
          [
           "asymptomatic",
           "VA Long Beach"
          ],
          [
           "atypical angina",
           "VA Long Beach"
          ],
          [
           "asymptomatic",
           "VA Long Beach"
          ],
          [
           "non-anginal",
           "VA Long Beach"
          ],
          [
           "asymptomatic",
           "VA Long Beach"
          ],
          [
           "non-anginal",
           "VA Long Beach"
          ],
          [
           "atypical angina",
           "VA Long Beach"
          ],
          [
           "asymptomatic",
           "VA Long Beach"
          ],
          [
           "asymptomatic",
           "VA Long Beach"
          ],
          [
           "asymptomatic",
           "VA Long Beach"
          ],
          [
           "asymptomatic",
           "VA Long Beach"
          ],
          [
           "asymptomatic",
           "VA Long Beach"
          ],
          [
           "asymptomatic",
           "VA Long Beach"
          ],
          [
           "non-anginal",
           "VA Long Beach"
          ],
          [
           "asymptomatic",
           "VA Long Beach"
          ],
          [
           "asymptomatic",
           "VA Long Beach"
          ],
          [
           "asymptomatic",
           "VA Long Beach"
          ],
          [
           "non-anginal",
           "VA Long Beach"
          ],
          [
           "non-anginal",
           "VA Long Beach"
          ],
          [
           "non-anginal",
           "VA Long Beach"
          ],
          [
           "asymptomatic",
           "VA Long Beach"
          ],
          [
           "non-anginal",
           "VA Long Beach"
          ],
          [
           "asymptomatic",
           "VA Long Beach"
          ],
          [
           "asymptomatic",
           "VA Long Beach"
          ],
          [
           "asymptomatic",
           "VA Long Beach"
          ],
          [
           "asymptomatic",
           "VA Long Beach"
          ],
          [
           "typical angina",
           "VA Long Beach"
          ],
          [
           "asymptomatic",
           "VA Long Beach"
          ],
          [
           "asymptomatic",
           "VA Long Beach"
          ],
          [
           "atypical angina",
           "VA Long Beach"
          ]
         ],
         "hovertemplate": "sex=Male<br>age=%{x}<br>resting_blood_pressure=%{y}<br>chest_pain_type=%{customdata[0]}<br>place_of_study=%{customdata[1]}<extra></extra>",
         "legendgroup": "Male",
         "marker": {
          "color": "#636efa",
          "symbol": "circle"
         },
         "mode": "markers",
         "name": "Male",
         "orientation": "v",
         "showlegend": true,
         "type": "scatter",
         "x": [
          63,
          67,
          67,
          37,
          56,
          63,
          53,
          57,
          56,
          44,
          52,
          57,
          48,
          54,
          49,
          64,
          58,
          58,
          60,
          43,
          40,
          60,
          64,
          59,
          44,
          42,
          43,
          57,
          55,
          61,
          40,
          59,
          58,
          51,
          50,
          53,
          65,
          44,
          44,
          60,
          54,
          50,
          41,
          54,
          51,
          58,
          54,
          60,
          60,
          54,
          59,
          46,
          67,
          62,
          65,
          44,
          60,
          48,
          58,
          45,
          39,
          68,
          52,
          44,
          47,
          66,
          62,
          52,
          59,
          52,
          48,
          45,
          34,
          49,
          54,
          59,
          57,
          61,
          39,
          56,
          52,
          41,
          58,
          63,
          65,
          48,
          51,
          55,
          65,
          54,
          44,
          54,
          51,
          29,
          51,
          70,
          62,
          35,
          51,
          59,
          59,
          52,
          64,
          58,
          47,
          57,
          41,
          45,
          52,
          55,
          64,
          70,
          51,
          58,
          60,
          68,
          46,
          77,
          48,
          57,
          52,
          35,
          70,
          53,
          64,
          57,
          52,
          56,
          43,
          53,
          48,
          42,
          59,
          42,
          66,
          54,
          69,
          50,
          51,
          43,
          67,
          69,
          59,
          57,
          43,
          45,
          58,
          50,
          55,
          38,
          41,
          52,
          56,
          59,
          53,
          47,
          54,
          66,
          49,
          54,
          56,
          46,
          42,
          41,
          61,
          67,
          58,
          47,
          52,
          62,
          57,
          58,
          64,
          43,
          70,
          57,
          44,
          61,
          42,
          52,
          59,
          40,
          42,
          61,
          66,
          46,
          59,
          64,
          57,
          57,
          47,
          35,
          61,
          58,
          58,
          56,
          56,
          67,
          44,
          63,
          41,
          59,
          45,
          68,
          57,
          38,
          28,
          29,
          29,
          32,
          32,
          33,
          34,
          34,
          35,
          35,
          36,
          36,
          36,
          36,
          37,
          37,
          37,
          37,
          38,
          38,
          39,
          39,
          39,
          39,
          39,
          39,
          39,
          39,
          39,
          40,
          40,
          40,
          40,
          40,
          41,
          41,
          41,
          41,
          42,
          42,
          42,
          42,
          42,
          42,
          43,
          44,
          44,
          44,
          45,
          45,
          45,
          45,
          46,
          46,
          46,
          46,
          46,
          46,
          47,
          47,
          47,
          48,
          48,
          48,
          48,
          49,
          49,
          49,
          49,
          50,
          50,
          50,
          50,
          50,
          51,
          51,
          51,
          52,
          52,
          52,
          52,
          53,
          53,
          53,
          53,
          53,
          53,
          54,
          54,
          54,
          54,
          54,
          54,
          54,
          54,
          54,
          55,
          55,
          55,
          55,
          55,
          55,
          55,
          56,
          56,
          56,
          56,
          57,
          58,
          58,
          58,
          58,
          59,
          59,
          59,
          59,
          60,
          61,
          62,
          31,
          34,
          35,
          36,
          37,
          38,
          38,
          38,
          40,
          41,
          41,
          43,
          46,
          46,
          46,
          47,
          47,
          48,
          48,
          48,
          49,
          49,
          50,
          52,
          54,
          54,
          55,
          57,
          58,
          60,
          63,
          65,
          32,
          38,
          39,
          43,
          45,
          46,
          46,
          48,
          48,
          48,
          48,
          50,
          52,
          52,
          53,
          54,
          54,
          54,
          54,
          54,
          55,
          56,
          57,
          58,
          58,
          41,
          43,
          44,
          44,
          46,
          49,
          49,
          51,
          52,
          52,
          52,
          52,
          53,
          53,
          54,
          55,
          55,
          55,
          56,
          56,
          58,
          59,
          59,
          65,
          66,
          41,
          43,
          44,
          47,
          49,
          49,
          50,
          50,
          52,
          52,
          56,
          65,
          32,
          34,
          35,
          36,
          38,
          38,
          38,
          38,
          40,
          41,
          42,
          42,
          43,
          43,
          43,
          45,
          46,
          46,
          47,
          47,
          47,
          47,
          48,
          50,
          50,
          50,
          51,
          51,
          51,
          51,
          51,
          51,
          52,
          52,
          52,
          52,
          53,
          53,
          53,
          53,
          53,
          53,
          53,
          53,
          54,
          54,
          54,
          55,
          55,
          55,
          55,
          56,
          56,
          56,
          56,
          56,
          56,
          56,
          56,
          57,
          57,
          57,
          57,
          57,
          57,
          58,
          58,
          58,
          59,
          59,
          59,
          59,
          59,
          60,
          60,
          60,
          60,
          60,
          60,
          61,
          61,
          61,
          61,
          61,
          61,
          61,
          61,
          61,
          62,
          62,
          62,
          62,
          62,
          63,
          63,
          63,
          63,
          63,
          64,
          65,
          65,
          65,
          65,
          66,
          67,
          68,
          68,
          69,
          69,
          70,
          70,
          72,
          74,
          63,
          44,
          60,
          55,
          66,
          66,
          65,
          60,
          60,
          60,
          56,
          59,
          62,
          63,
          57,
          62,
          63,
          46,
          63,
          60,
          58,
          64,
          63,
          74,
          52,
          69,
          51,
          60,
          56,
          55,
          54,
          77,
          63,
          52,
          64,
          60,
          60,
          58,
          59,
          61,
          40,
          61,
          41,
          57,
          63,
          59,
          51,
          59,
          42,
          55,
          62,
          56,
          53,
          68,
          53,
          60,
          62,
          59,
          51,
          61,
          57,
          56,
          58,
          69,
          67,
          58,
          65,
          63,
          55,
          57,
          65,
          54,
          72,
          75,
          49,
          51,
          60,
          58,
          61,
          67,
          62,
          65,
          63,
          69,
          51,
          62,
          55,
          75,
          40,
          67,
          58,
          60,
          63,
          35,
          62,
          43,
          63,
          68,
          65,
          48,
          63,
          64,
          61,
          50,
          59,
          55,
          45,
          65,
          61,
          49,
          72,
          50,
          64,
          55,
          63,
          59,
          56,
          62,
          74,
          54,
          57,
          62,
          76,
          70,
          48,
          48,
          61,
          66,
          68,
          55,
          62,
          71,
          74,
          53,
          58,
          75,
          56,
          58,
          64,
          54,
          54,
          59,
          55,
          57,
          61,
          41,
          71,
          38,
          55,
          56,
          69,
          64,
          72,
          69,
          56,
          62,
          67,
          57,
          69,
          51,
          48,
          69,
          69,
          64,
          57,
          53,
          37,
          67,
          74,
          63,
          58,
          61,
          64,
          58,
          60,
          57,
          55,
          55,
          56,
          57,
          61,
          61,
          58,
          74,
          68,
          62,
          53,
          62,
          46,
          62,
          55,
          58,
          62
         ],
         "xaxis": "x",
         "y": [
          145,
          160,
          120,
          130,
          120,
          130,
          140,
          140,
          130,
          120,
          172,
          150,
          110,
          140,
          130,
          110,
          120,
          132,
          130,
          150,
          110,
          117,
          140,
          135,
          130,
          140,
          120,
          150,
          132,
          150,
          140,
          150,
          112,
          110,
          150,
          130,
          120,
          112,
          130,
          130,
          124,
          140,
          110,
          125,
          125,
          128,
          120,
          145,
          140,
          150,
          170,
          150,
          125,
          120,
          110,
          110,
          125,
          130,
          150,
          104,
          140,
          180,
          120,
          140,
          138,
          120,
          130,
          128,
          110,
          134,
          122,
          115,
          118,
          120,
          108,
          140,
          128,
          120,
          118,
          125,
          118,
          135,
          140,
          130,
          135,
          130,
          100,
          140,
          138,
          110,
          120,
          120,
          94,
          130,
          140,
          145,
          120,
          120,
          125,
          140,
          170,
          128,
          125,
          105,
          108,
          165,
          112,
          128,
          152,
          160,
          120,
          130,
          140,
          125,
          140,
          118,
          101,
          125,
          124,
          132,
          138,
          126,
          160,
          142,
          145,
          152,
          108,
          132,
          130,
          130,
          124,
          148,
          178,
          120,
          160,
          192,
          140,
          129,
          140,
          132,
          100,
          160,
          160,
          150,
          110,
          142,
          128,
          144,
          130,
          120,
          130,
          112,
          120,
          138,
          123,
          112,
          110,
          112,
          118,
          122,
          130,
          120,
          120,
          110,
          134,
          120,
          100,
          110,
          125,
          128,
          110,
          146,
          128,
          115,
          156,
          124,
          120,
          138,
          136,
          128,
          126,
          152,
          130,
          140,
          160,
          140,
          134,
          170,
          154,
          110,
          130,
          122,
          148,
          114,
          125,
          130,
          120,
          152,
          120,
          140,
          120,
          164,
          110,
          144,
          130,
          138,
          130,
          120,
          140,
          110,
          125,
          120,
          150,
          98,
          120,
          150,
          120,
          112,
          130,
          150,
          130,
          130,
          120,
          130,
          140,
          145,
          120,
          120,
          120,
          130,
          190,
          120,
          160,
          110,
          130,
          130,
          140,
          130,
          130,
          140,
          120,
          120,
          125,
          112,
          120,
          120,
          150,
          120,
          160,
          140,
          142,
          120,
          130,
          150,
          140,
          135,
          120,
          140,
          140,
          120,
          150,
          110,
          110,
          180,
          110,
          160,
          140,
          100,
          130,
          140,
          110,
          100,
          140,
          120,
          140,
          120,
          140,
          170,
          140,
          150,
          125,
          130,
          130,
          120,
          140,
          160,
          140,
          120,
          140,
          120,
          124,
          130,
          140,
          120,
          110,
          120,
          120,
          160,
          160,
          120,
          150,
          150,
          120,
          140,
          145,
          110,
          120,
          120,
          140,
          130,
          130,
          130,
          120,
          140,
          130,
          130,
          140,
          135,
          140,
          130,
          180,
          140,
          120,
          125,
          140,
          120,
          140,
          110,
          120,
          140,
          110,
          120,
          92,
          120,
          110,
          120,
          150,
          110,
          118,
          120,
          140,
          150,
          106,
          120,
          160,
          115,
          130,
          145,
          130,
          125,
          125,
          140,
          140,
          130,
          100,
          150,
          140,
          118,
          110,
          110,
          120,
          130,
          120,
          130,
          122,
          160,
          160,
          160,
          130,
          120,
          170,
          120,
          120,
          130,
          130,
          140,
          200,
          140,
          150,
          150,
          160,
          130,
          130,
          120,
          150,
          130,
          140,
          130,
          140,
          135,
          112,
          130,
          140,
          160,
          145,
          180,
          140,
          140,
          160,
          145,
          150,
          170,
          136,
          130,
          140,
          170,
          140,
          120,
          140,
          135,
          160,
          128,
          150,
          140,
          140,
          140,
          160,
          155,
          130,
          95,
          115,
          122.45,
          110,
          100,
          115,
          135,
          150,
          95,
          125,
          105,
          145,
          100,
          115,
          140,
          110,
          100,
          115,
          110,
          155,
          110,
          160,
          115,
          115,
          120,
          145,
          110,
          120,
          130,
          130,
          140,
          95,
          130,
          135,
          165,
          95,
          120,
          130,
          105,
          160,
          120,
          125,
          130,
          80,
          120,
          130,
          180,
          140,
          115,
          120,
          140,
          120,
          125,
          155,
          115,
          120,
          120,
          125,
          140,
          105,
          110,
          140,
          140,
          160,
          95,
          115,
          130,
          170,
          125,
          110,
          120,
          125,
          135,
          115,
          125,
          130,
          135,
          160,
          160,
          200,
          105,
          110,
          125,
          130,
          130,
          150,
          150,
          160,
          120,
          160,
          115,
          115,
          150,
          100,
          140,
          150,
          150,
          185,
          110,
          115,
          145,
          155,
          160,
          150,
          145,
          135,
          145,
          135,
          141.47,
          115,
          140,
          160,
          145,
          140,
          130,
          132,
          142,
          110,
          120,
          150,
          180,
          120,
          160,
          126,
          140,
          110,
          142.38,
          128,
          120,
          170,
          110,
          126,
          152,
          116,
          120,
          130,
          142.74,
          128,
          130,
          132.48,
          130,
          120,
          132.6,
          131.46,
          124,
          160,
          122,
          144,
          136.15,
          120,
          140.71,
          154,
          120,
          125,
          136.75,
          104,
          151.89,
          136,
          122,
          128,
          131.96,
          134,
          120,
          152,
          124,
          126,
          138,
          154,
          143.74,
          138.22,
          178,
          131.88,
          110,
          130,
          170,
          126,
          140,
          142,
          120,
          138.25,
          137.91,
          110,
          140,
          139.24,
          136,
          120,
          170,
          130,
          136.39,
          142,
          132,
          146,
          160,
          135,
          136,
          130,
          140,
          129.68,
          158,
          132.81,
          136,
          106,
          120,
          110,
          138.66,
          160,
          130.86,
          112,
          122,
          130,
          150,
          150,
          102,
          96,
          130,
          120,
          144,
          124,
          150,
          127.18,
          133.75,
          131.97,
          132.83,
          141.06,
          131.1,
          142.52,
          116,
          110,
          125,
          139.69,
          139.97,
          150,
          130,
          110,
          137.47,
          104,
          170,
          132.61,
          132,
          142,
          112,
          144.97,
          172,
          120,
          140.76,
          144.96,
          155,
          150,
          160,
          144.74,
          136.84,
          134,
          137.71,
          135.66,
          140,
          137.05,
          144,
          136.96,
          150,
          130,
          110,
          158,
          128,
          144.5,
          150,
          160,
          146,
          145.52,
          148.74,
          147.45,
          156,
          155.85,
          135.9,
          140,
          122,
          141.36,
          141.56,
          180,
          124,
          118,
          140,
          140,
          142.67,
          100,
          190,
          130,
          160,
          130,
          122,
          138.38,
          120,
          130,
          130,
          140.29,
          120,
          150,
          155,
          134,
          160,
          144,
          158,
          134,
          143.06,
          122,
          150.81,
          120
         ],
         "yaxis": "y"
        },
        {
         "customdata": [
          [
           "atypical angina",
           "Cleveland"
          ],
          [
           "asymptomatic",
           "Cleveland"
          ],
          [
           "asymptomatic",
           "Cleveland"
          ],
          [
           "atypical angina",
           "Cleveland"
          ],
          [
           "non-anginal",
           "Cleveland"
          ],
          [
           "typical angina",
           "Cleveland"
          ],
          [
           "non-anginal",
           "Cleveland"
          ],
          [
           "non-anginal",
           "Cleveland"
          ],
          [
           "typical angina",
           "Cleveland"
          ],
          [
           "typical angina",
           "Cleveland"
          ],
          [
           "asymptomatic",
           "Cleveland"
          ],
          [
           "atypical angina",
           "Cleveland"
          ],
          [
           "asymptomatic",
           "Cleveland"
          ],
          [
           "non-anginal",
           "Cleveland"
          ],
          [
           "atypical angina",
           "Cleveland"
          ],
          [
           "asymptomatic",
           "Cleveland"
          ],
          [
           "non-anginal",
           "Cleveland"
          ],
          [
           "non-anginal",
           "Cleveland"
          ],
          [
           "non-anginal",
           "Cleveland"
          ],
          [
           "non-anginal",
           "Cleveland"
          ],
          [
           "non-anginal",
           "Cleveland"
          ],
          [
           "asymptomatic",
           "Cleveland"
          ],
          [
           "non-anginal",
           "Cleveland"
          ],
          [
           "asymptomatic",
           "Cleveland"
          ],
          [
           "non-anginal",
           "Cleveland"
          ],
          [
           "asymptomatic",
           "Cleveland"
          ],
          [
           "non-anginal",
           "Cleveland"
          ],
          [
           "non-anginal",
           "Cleveland"
          ],
          [
           "asymptomatic",
           "Cleveland"
          ],
          [
           "asymptomatic",
           "Cleveland"
          ],
          [
           "non-anginal",
           "Cleveland"
          ],
          [
           "asymptomatic",
           "Cleveland"
          ],
          [
           "asymptomatic",
           "Cleveland"
          ],
          [
           "non-anginal",
           "Cleveland"
          ],
          [
           "asymptomatic",
           "Cleveland"
          ],
          [
           "asymptomatic",
           "Cleveland"
          ],
          [
           "atypical angina",
           "Cleveland"
          ],
          [
           "asymptomatic",
           "Cleveland"
          ],
          [
           "asymptomatic",
           "Cleveland"
          ],
          [
           "non-anginal",
           "Cleveland"
          ],
          [
           "atypical angina",
           "Cleveland"
          ],
          [
           "non-anginal",
           "Cleveland"
          ],
          [
           "asymptomatic",
           "Cleveland"
          ],
          [
           "non-anginal",
           "Cleveland"
          ],
          [
           "non-anginal",
           "Cleveland"
          ],
          [
           "asymptomatic",
           "Cleveland"
          ],
          [
           "atypical angina",
           "Cleveland"
          ],
          [
           "atypical angina",
           "Cleveland"
          ],
          [
           "asymptomatic",
           "Cleveland"
          ],
          [
           "asymptomatic",
           "Cleveland"
          ],
          [
           "asymptomatic",
           "Cleveland"
          ],
          [
           "asymptomatic",
           "Cleveland"
          ],
          [
           "atypical angina",
           "Cleveland"
          ],
          [
           "asymptomatic",
           "Cleveland"
          ],
          [
           "non-anginal",
           "Cleveland"
          ],
          [
           "asymptomatic",
           "Cleveland"
          ],
          [
           "atypical angina",
           "Cleveland"
          ],
          [
           "asymptomatic",
           "Cleveland"
          ],
          [
           "asymptomatic",
           "Cleveland"
          ],
          [
           "non-anginal",
           "Cleveland"
          ],
          [
           "asymptomatic",
           "Cleveland"
          ],
          [
           "non-anginal",
           "Cleveland"
          ],
          [
           "asymptomatic",
           "Cleveland"
          ],
          [
           "atypical angina",
           "Cleveland"
          ],
          [
           "asymptomatic",
           "Cleveland"
          ],
          [
           "asymptomatic",
           "Cleveland"
          ],
          [
           "non-anginal",
           "Cleveland"
          ],
          [
           "non-anginal",
           "Cleveland"
          ],
          [
           "non-anginal",
           "Cleveland"
          ],
          [
           "asymptomatic",
           "Cleveland"
          ],
          [
           "atypical angina",
           "Cleveland"
          ],
          [
           "non-anginal",
           "Cleveland"
          ],
          [
           "non-anginal",
           "Cleveland"
          ],
          [
           "asymptomatic",
           "Cleveland"
          ],
          [
           "atypical angina",
           "Cleveland"
          ],
          [
           "non-anginal",
           "Cleveland"
          ],
          [
           "atypical angina",
           "Cleveland"
          ],
          [
           "atypical angina",
           "Cleveland"
          ],
          [
           "asymptomatic",
           "Cleveland"
          ],
          [
           "non-anginal",
           "Cleveland"
          ],
          [
           "non-anginal",
           "Cleveland"
          ],
          [
           "non-anginal",
           "Cleveland"
          ],
          [
           "asymptomatic",
           "Cleveland"
          ],
          [
           "non-anginal",
           "Cleveland"
          ],
          [
           "non-anginal",
           "Cleveland"
          ],
          [
           "atypical angina",
           "Cleveland"
          ],
          [
           "typical angina",
           "Cleveland"
          ],
          [
           "asymptomatic",
           "Cleveland"
          ],
          [
           "non-anginal",
           "Cleveland"
          ],
          [
           "non-anginal",
           "Cleveland"
          ],
          [
           "asymptomatic",
           "Cleveland"
          ],
          [
           "asymptomatic",
           "Cleveland"
          ],
          [
           "asymptomatic",
           "Cleveland"
          ],
          [
           "atypical angina",
           "Cleveland"
          ],
          [
           "asymptomatic",
           "Cleveland"
          ],
          [
           "asymptomatic",
           "Cleveland"
          ],
          [
           "atypical angina",
           "Cleveland"
          ],
          [
           "typical angina",
           "Hungary"
          ],
          [
           "atypical angina",
           "Hungary"
          ],
          [
           "atypical angina",
           "Hungary"
          ],
          [
           "atypical angina",
           "Hungary"
          ],
          [
           "typical angina",
           "Hungary"
          ],
          [
           "asymptomatic",
           "Hungary"
          ],
          [
           "atypical angina",
           "Hungary"
          ],
          [
           "non-anginal",
           "Hungary"
          ],
          [
           "asymptomatic",
           "Hungary"
          ],
          [
           "atypical angina",
           "Hungary"
          ],
          [
           "non-anginal",
           "Hungary"
          ],
          [
           "atypical angina",
           "Hungary"
          ],
          [
           "atypical angina",
           "Hungary"
          ],
          [
           "atypical angina",
           "Hungary"
          ],
          [
           "non-anginal",
           "Hungary"
          ],
          [
           "typical angina",
           "Hungary"
          ],
          [
           "atypical angina",
           "Hungary"
          ],
          [
           "atypical angina",
           "Hungary"
          ],
          [
           "atypical angina",
           "Hungary"
          ],
          [
           "atypical angina",
           "Hungary"
          ],
          [
           "atypical angina",
           "Hungary"
          ],
          [
           "non-anginal",
           "Hungary"
          ],
          [
           "asymptomatic",
           "Hungary"
          ],
          [
           "atypical angina",
           "Hungary"
          ],
          [
           "atypical angina",
           "Hungary"
          ],
          [
           "asymptomatic",
           "Hungary"
          ],
          [
           "asymptomatic",
           "Hungary"
          ],
          [
           "atypical angina",
           "Hungary"
          ],
          [
           "non-anginal",
           "Hungary"
          ],
          [
           "atypical angina",
           "Hungary"
          ],
          [
           "atypical angina",
           "Hungary"
          ],
          [
           "atypical angina",
           "Hungary"
          ],
          [
           "non-anginal",
           "Hungary"
          ],
          [
           "asymptomatic",
           "Hungary"
          ],
          [
           "asymptomatic",
           "Hungary"
          ],
          [
           "asymptomatic",
           "Hungary"
          ],
          [
           "atypical angina",
           "Hungary"
          ],
          [
           "atypical angina",
           "Hungary"
          ],
          [
           "atypical angina",
           "Hungary"
          ],
          [
           "non-anginal",
           "Hungary"
          ],
          [
           "atypical angina",
           "Hungary"
          ],
          [
           "asymptomatic",
           "Hungary"
          ],
          [
           "atypical angina",
           "Hungary"
          ],
          [
           "non-anginal",
           "Hungary"
          ],
          [
           "non-anginal",
           "Hungary"
          ],
          [
           "non-anginal",
           "Hungary"
          ],
          [
           "atypical angina",
           "Hungary"
          ],
          [
           "atypical angina",
           "Hungary"
          ],
          [
           "non-anginal",
           "Hungary"
          ],
          [
           "asymptomatic",
           "Hungary"
          ],
          [
           "atypical angina",
           "Hungary"
          ],
          [
           "atypical angina",
           "Hungary"
          ],
          [
           "non-anginal",
           "Hungary"
          ],
          [
           "atypical angina",
           "Hungary"
          ],
          [
           "atypical angina",
           "Hungary"
          ],
          [
           "atypical angina",
           "Hungary"
          ],
          [
           "atypical angina",
           "Hungary"
          ],
          [
           "atypical angina",
           "Hungary"
          ],
          [
           "atypical angina",
           "Hungary"
          ],
          [
           "atypical angina",
           "Hungary"
          ],
          [
           "atypical angina",
           "Hungary"
          ],
          [
           "atypical angina",
           "Hungary"
          ],
          [
           "atypical angina",
           "Hungary"
          ],
          [
           "non-anginal",
           "Hungary"
          ],
          [
           "typical angina",
           "Hungary"
          ],
          [
           "asymptomatic",
           "Hungary"
          ],
          [
           "atypical angina",
           "Hungary"
          ],
          [
           "asymptomatic",
           "Hungary"
          ],
          [
           "typical angina",
           "Hungary"
          ],
          [
           "asymptomatic",
           "Hungary"
          ],
          [
           "non-anginal",
           "Hungary"
          ],
          [
           "non-anginal",
           "Hungary"
          ],
          [
           "asymptomatic",
           "Hungary"
          ],
          [
           "asymptomatic",
           "Hungary"
          ],
          [
           "asymptomatic",
           "Hungary"
          ],
          [
           "non-anginal",
           "Hungary"
          ],
          [
           "asymptomatic",
           "Hungary"
          ],
          [
           "atypical angina",
           "Hungary"
          ],
          [
           "asymptomatic",
           "Hungary"
          ],
          [
           "non-anginal",
           "Hungary"
          ],
          [
           "atypical angina",
           "Hungary"
          ],
          [
           "asymptomatic",
           "Switzerland"
          ],
          [
           "asymptomatic",
           "Switzerland"
          ],
          [
           "asymptomatic",
           "Switzerland"
          ],
          [
           "asymptomatic",
           "Switzerland"
          ],
          [
           "typical angina",
           "Switzerland"
          ],
          [
           "asymptomatic",
           "Switzerland"
          ],
          [
           "asymptomatic",
           "Switzerland"
          ],
          [
           "asymptomatic",
           "Switzerland"
          ],
          [
           "asymptomatic",
           "Switzerland"
          ],
          [
           "non-anginal",
           "Switzerland"
          ],
          [
           "atypical angina",
           "VA Long Beach"
          ],
          [
           "asymptomatic",
           "VA Long Beach"
          ],
          [
           "asymptomatic",
           "VA Long Beach"
          ],
          [
           "atypical angina",
           "VA Long Beach"
          ],
          [
           "asymptomatic",
           "VA Long Beach"
          ],
          [
           "asymptomatic",
           "VA Long Beach"
          ]
         ],
         "hovertemplate": "sex=Female<br>age=%{x}<br>resting_blood_pressure=%{y}<br>chest_pain_type=%{customdata[0]}<br>place_of_study=%{customdata[1]}<extra></extra>",
         "legendgroup": "Female",
         "marker": {
          "color": "#EF553B",
          "symbol": "circle"
         },
         "mode": "markers",
         "name": "Female",
         "orientation": "v",
         "showlegend": true,
         "type": "scatter",
         "x": [
          41,
          62,
          57,
          56,
          48,
          58,
          50,
          58,
          66,
          69,
          65,
          71,
          61,
          65,
          41,
          51,
          46,
          54,
          65,
          65,
          51,
          53,
          53,
          53,
          51,
          62,
          44,
          63,
          60,
          57,
          71,
          61,
          43,
          62,
          35,
          63,
          45,
          56,
          62,
          43,
          55,
          60,
          42,
          67,
          54,
          58,
          54,
          45,
          59,
          62,
          56,
          60,
          63,
          62,
          68,
          45,
          50,
          50,
          64,
          64,
          62,
          37,
          66,
          46,
          46,
          64,
          41,
          54,
          39,
          63,
          34,
          67,
          52,
          55,
          74,
          54,
          49,
          41,
          49,
          60,
          51,
          42,
          67,
          76,
          44,
          58,
          60,
          71,
          66,
          39,
          58,
          55,
          58,
          55,
          63,
          57,
          57,
          30,
          31,
          32,
          34,
          35,
          35,
          37,
          37,
          37,
          38,
          39,
          41,
          41,
          41,
          42,
          43,
          43,
          43,
          43,
          43,
          43,
          43,
          44,
          45,
          45,
          45,
          46,
          47,
          47,
          48,
          48,
          48,
          48,
          48,
          48,
          48,
          49,
          49,
          49,
          49,
          50,
          50,
          51,
          51,
          51,
          51,
          52,
          52,
          52,
          52,
          53,
          53,
          53,
          54,
          54,
          54,
          54,
          54,
          54,
          54,
          55,
          55,
          55,
          56,
          57,
          57,
          59,
          61,
          62,
          33,
          49,
          50,
          51,
          59,
          40,
          47,
          48,
          56,
          47,
          54,
          58,
          38,
          38,
          50,
          51,
          62,
          62,
          64,
          64,
          66,
          73,
          63,
          64,
          54,
          61,
          51,
          54
         ],
         "xaxis": "x",
         "y": [
          130,
          140,
          120,
          140,
          130,
          150,
          120,
          120,
          150,
          140,
          150,
          160,
          130,
          140,
          105,
          130,
          142,
          135,
          155,
          160,
          140,
          130,
          128,
          138,
          130,
          160,
          108,
          135,
          150,
          128,
          110,
          145,
          132,
          130,
          138,
          150,
          130,
          200,
          124,
          122,
          135,
          102,
          102,
          115,
          110,
          100,
          132,
          112,
          174,
          140,
          134,
          158,
          140,
          138,
          120,
          138,
          120,
          110,
          180,
          140,
          150,
          120,
          178,
          105,
          138,
          130,
          112,
          108,
          94,
          108,
          118,
          152,
          136,
          180,
          120,
          160,
          134,
          126,
          130,
          120,
          120,
          120,
          106,
          140,
          118,
          136,
          150,
          112,
          146,
          138,
          130,
          128,
          170,
          132,
          124,
          140,
          130,
          170,
          100,
          105,
          130,
          120,
          140,
          120,
          130,
          130,
          120,
          110,
          110,
          125,
          130,
          115,
          100,
          120,
          120,
          120,
          120,
          150,
          150,
          120,
          130,
          180,
          132,
          130,
          140,
          130,
          134.02,
          120,
          120,
          120,
          108,
          120,
          150,
          110,
          110,
          124,
          130,
          110,
          120,
          160,
          110,
          130,
          150,
          120,
          140,
          125,
          130,
          113,
          140,
          120,
          120,
          120,
          120,
          130,
          140,
          150,
          160,
          110,
          122,
          130,
          130,
          130,
          180,
          130,
          130,
          160,
          100,
          160,
          140,
          160,
          130,
          150,
          135,
          138,
          120,
          120,
          130,
          180,
          105,
          110,
          160,
          120,
          140,
          120,
          200,
          95,
          155,
          160,
          143.17,
          142,
          138,
          140,
          114,
          127
         ],
         "yaxis": "y"
        }
       ],
       "layout": {
        "legend": {
         "title": {
          "text": "sex"
         },
         "tracegroupgap": 0
        },
        "template": {
         "data": {
          "bar": [
           {
            "error_x": {
             "color": "#2a3f5f"
            },
            "error_y": {
             "color": "#2a3f5f"
            },
            "marker": {
             "line": {
              "color": "#E5ECF6",
              "width": 0.5
             },
             "pattern": {
              "fillmode": "overlay",
              "size": 10,
              "solidity": 0.2
             }
            },
            "type": "bar"
           }
          ],
          "barpolar": [
           {
            "marker": {
             "line": {
              "color": "#E5ECF6",
              "width": 0.5
             },
             "pattern": {
              "fillmode": "overlay",
              "size": 10,
              "solidity": 0.2
             }
            },
            "type": "barpolar"
           }
          ],
          "carpet": [
           {
            "aaxis": {
             "endlinecolor": "#2a3f5f",
             "gridcolor": "white",
             "linecolor": "white",
             "minorgridcolor": "white",
             "startlinecolor": "#2a3f5f"
            },
            "baxis": {
             "endlinecolor": "#2a3f5f",
             "gridcolor": "white",
             "linecolor": "white",
             "minorgridcolor": "white",
             "startlinecolor": "#2a3f5f"
            },
            "type": "carpet"
           }
          ],
          "choropleth": [
           {
            "colorbar": {
             "outlinewidth": 0,
             "ticks": ""
            },
            "type": "choropleth"
           }
          ],
          "contour": [
           {
            "colorbar": {
             "outlinewidth": 0,
             "ticks": ""
            },
            "colorscale": [
             [
              0,
              "#0d0887"
             ],
             [
              0.1111111111111111,
              "#46039f"
             ],
             [
              0.2222222222222222,
              "#7201a8"
             ],
             [
              0.3333333333333333,
              "#9c179e"
             ],
             [
              0.4444444444444444,
              "#bd3786"
             ],
             [
              0.5555555555555556,
              "#d8576b"
             ],
             [
              0.6666666666666666,
              "#ed7953"
             ],
             [
              0.7777777777777778,
              "#fb9f3a"
             ],
             [
              0.8888888888888888,
              "#fdca26"
             ],
             [
              1,
              "#f0f921"
             ]
            ],
            "type": "contour"
           }
          ],
          "contourcarpet": [
           {
            "colorbar": {
             "outlinewidth": 0,
             "ticks": ""
            },
            "type": "contourcarpet"
           }
          ],
          "heatmap": [
           {
            "colorbar": {
             "outlinewidth": 0,
             "ticks": ""
            },
            "colorscale": [
             [
              0,
              "#0d0887"
             ],
             [
              0.1111111111111111,
              "#46039f"
             ],
             [
              0.2222222222222222,
              "#7201a8"
             ],
             [
              0.3333333333333333,
              "#9c179e"
             ],
             [
              0.4444444444444444,
              "#bd3786"
             ],
             [
              0.5555555555555556,
              "#d8576b"
             ],
             [
              0.6666666666666666,
              "#ed7953"
             ],
             [
              0.7777777777777778,
              "#fb9f3a"
             ],
             [
              0.8888888888888888,
              "#fdca26"
             ],
             [
              1,
              "#f0f921"
             ]
            ],
            "type": "heatmap"
           }
          ],
          "heatmapgl": [
           {
            "colorbar": {
             "outlinewidth": 0,
             "ticks": ""
            },
            "colorscale": [
             [
              0,
              "#0d0887"
             ],
             [
              0.1111111111111111,
              "#46039f"
             ],
             [
              0.2222222222222222,
              "#7201a8"
             ],
             [
              0.3333333333333333,
              "#9c179e"
             ],
             [
              0.4444444444444444,
              "#bd3786"
             ],
             [
              0.5555555555555556,
              "#d8576b"
             ],
             [
              0.6666666666666666,
              "#ed7953"
             ],
             [
              0.7777777777777778,
              "#fb9f3a"
             ],
             [
              0.8888888888888888,
              "#fdca26"
             ],
             [
              1,
              "#f0f921"
             ]
            ],
            "type": "heatmapgl"
           }
          ],
          "histogram": [
           {
            "marker": {
             "pattern": {
              "fillmode": "overlay",
              "size": 10,
              "solidity": 0.2
             }
            },
            "type": "histogram"
           }
          ],
          "histogram2d": [
           {
            "colorbar": {
             "outlinewidth": 0,
             "ticks": ""
            },
            "colorscale": [
             [
              0,
              "#0d0887"
             ],
             [
              0.1111111111111111,
              "#46039f"
             ],
             [
              0.2222222222222222,
              "#7201a8"
             ],
             [
              0.3333333333333333,
              "#9c179e"
             ],
             [
              0.4444444444444444,
              "#bd3786"
             ],
             [
              0.5555555555555556,
              "#d8576b"
             ],
             [
              0.6666666666666666,
              "#ed7953"
             ],
             [
              0.7777777777777778,
              "#fb9f3a"
             ],
             [
              0.8888888888888888,
              "#fdca26"
             ],
             [
              1,
              "#f0f921"
             ]
            ],
            "type": "histogram2d"
           }
          ],
          "histogram2dcontour": [
           {
            "colorbar": {
             "outlinewidth": 0,
             "ticks": ""
            },
            "colorscale": [
             [
              0,
              "#0d0887"
             ],
             [
              0.1111111111111111,
              "#46039f"
             ],
             [
              0.2222222222222222,
              "#7201a8"
             ],
             [
              0.3333333333333333,
              "#9c179e"
             ],
             [
              0.4444444444444444,
              "#bd3786"
             ],
             [
              0.5555555555555556,
              "#d8576b"
             ],
             [
              0.6666666666666666,
              "#ed7953"
             ],
             [
              0.7777777777777778,
              "#fb9f3a"
             ],
             [
              0.8888888888888888,
              "#fdca26"
             ],
             [
              1,
              "#f0f921"
             ]
            ],
            "type": "histogram2dcontour"
           }
          ],
          "mesh3d": [
           {
            "colorbar": {
             "outlinewidth": 0,
             "ticks": ""
            },
            "type": "mesh3d"
           }
          ],
          "parcoords": [
           {
            "line": {
             "colorbar": {
              "outlinewidth": 0,
              "ticks": ""
             }
            },
            "type": "parcoords"
           }
          ],
          "pie": [
           {
            "automargin": true,
            "type": "pie"
           }
          ],
          "scatter": [
           {
            "fillpattern": {
             "fillmode": "overlay",
             "size": 10,
             "solidity": 0.2
            },
            "type": "scatter"
           }
          ],
          "scatter3d": [
           {
            "line": {
             "colorbar": {
              "outlinewidth": 0,
              "ticks": ""
             }
            },
            "marker": {
             "colorbar": {
              "outlinewidth": 0,
              "ticks": ""
             }
            },
            "type": "scatter3d"
           }
          ],
          "scattercarpet": [
           {
            "marker": {
             "colorbar": {
              "outlinewidth": 0,
              "ticks": ""
             }
            },
            "type": "scattercarpet"
           }
          ],
          "scattergeo": [
           {
            "marker": {
             "colorbar": {
              "outlinewidth": 0,
              "ticks": ""
             }
            },
            "type": "scattergeo"
           }
          ],
          "scattergl": [
           {
            "marker": {
             "colorbar": {
              "outlinewidth": 0,
              "ticks": ""
             }
            },
            "type": "scattergl"
           }
          ],
          "scattermapbox": [
           {
            "marker": {
             "colorbar": {
              "outlinewidth": 0,
              "ticks": ""
             }
            },
            "type": "scattermapbox"
           }
          ],
          "scatterpolar": [
           {
            "marker": {
             "colorbar": {
              "outlinewidth": 0,
              "ticks": ""
             }
            },
            "type": "scatterpolar"
           }
          ],
          "scatterpolargl": [
           {
            "marker": {
             "colorbar": {
              "outlinewidth": 0,
              "ticks": ""
             }
            },
            "type": "scatterpolargl"
           }
          ],
          "scatterternary": [
           {
            "marker": {
             "colorbar": {
              "outlinewidth": 0,
              "ticks": ""
             }
            },
            "type": "scatterternary"
           }
          ],
          "surface": [
           {
            "colorbar": {
             "outlinewidth": 0,
             "ticks": ""
            },
            "colorscale": [
             [
              0,
              "#0d0887"
             ],
             [
              0.1111111111111111,
              "#46039f"
             ],
             [
              0.2222222222222222,
              "#7201a8"
             ],
             [
              0.3333333333333333,
              "#9c179e"
             ],
             [
              0.4444444444444444,
              "#bd3786"
             ],
             [
              0.5555555555555556,
              "#d8576b"
             ],
             [
              0.6666666666666666,
              "#ed7953"
             ],
             [
              0.7777777777777778,
              "#fb9f3a"
             ],
             [
              0.8888888888888888,
              "#fdca26"
             ],
             [
              1,
              "#f0f921"
             ]
            ],
            "type": "surface"
           }
          ],
          "table": [
           {
            "cells": {
             "fill": {
              "color": "#EBF0F8"
             },
             "line": {
              "color": "white"
             }
            },
            "header": {
             "fill": {
              "color": "#C8D4E3"
             },
             "line": {
              "color": "white"
             }
            },
            "type": "table"
           }
          ]
         },
         "layout": {
          "annotationdefaults": {
           "arrowcolor": "#2a3f5f",
           "arrowhead": 0,
           "arrowwidth": 1
          },
          "autotypenumbers": "strict",
          "coloraxis": {
           "colorbar": {
            "outlinewidth": 0,
            "ticks": ""
           }
          },
          "colorscale": {
           "diverging": [
            [
             0,
             "#8e0152"
            ],
            [
             0.1,
             "#c51b7d"
            ],
            [
             0.2,
             "#de77ae"
            ],
            [
             0.3,
             "#f1b6da"
            ],
            [
             0.4,
             "#fde0ef"
            ],
            [
             0.5,
             "#f7f7f7"
            ],
            [
             0.6,
             "#e6f5d0"
            ],
            [
             0.7,
             "#b8e186"
            ],
            [
             0.8,
             "#7fbc41"
            ],
            [
             0.9,
             "#4d9221"
            ],
            [
             1,
             "#276419"
            ]
           ],
           "sequential": [
            [
             0,
             "#0d0887"
            ],
            [
             0.1111111111111111,
             "#46039f"
            ],
            [
             0.2222222222222222,
             "#7201a8"
            ],
            [
             0.3333333333333333,
             "#9c179e"
            ],
            [
             0.4444444444444444,
             "#bd3786"
            ],
            [
             0.5555555555555556,
             "#d8576b"
            ],
            [
             0.6666666666666666,
             "#ed7953"
            ],
            [
             0.7777777777777778,
             "#fb9f3a"
            ],
            [
             0.8888888888888888,
             "#fdca26"
            ],
            [
             1,
             "#f0f921"
            ]
           ],
           "sequentialminus": [
            [
             0,
             "#0d0887"
            ],
            [
             0.1111111111111111,
             "#46039f"
            ],
            [
             0.2222222222222222,
             "#7201a8"
            ],
            [
             0.3333333333333333,
             "#9c179e"
            ],
            [
             0.4444444444444444,
             "#bd3786"
            ],
            [
             0.5555555555555556,
             "#d8576b"
            ],
            [
             0.6666666666666666,
             "#ed7953"
            ],
            [
             0.7777777777777778,
             "#fb9f3a"
            ],
            [
             0.8888888888888888,
             "#fdca26"
            ],
            [
             1,
             "#f0f921"
            ]
           ]
          },
          "colorway": [
           "#636efa",
           "#EF553B",
           "#00cc96",
           "#ab63fa",
           "#FFA15A",
           "#19d3f3",
           "#FF6692",
           "#B6E880",
           "#FF97FF",
           "#FECB52"
          ],
          "font": {
           "color": "#2a3f5f"
          },
          "geo": {
           "bgcolor": "white",
           "lakecolor": "white",
           "landcolor": "#E5ECF6",
           "showlakes": true,
           "showland": true,
           "subunitcolor": "white"
          },
          "hoverlabel": {
           "align": "left"
          },
          "hovermode": "closest",
          "mapbox": {
           "style": "light"
          },
          "paper_bgcolor": "white",
          "plot_bgcolor": "#E5ECF6",
          "polar": {
           "angularaxis": {
            "gridcolor": "white",
            "linecolor": "white",
            "ticks": ""
           },
           "bgcolor": "#E5ECF6",
           "radialaxis": {
            "gridcolor": "white",
            "linecolor": "white",
            "ticks": ""
           }
          },
          "scene": {
           "xaxis": {
            "backgroundcolor": "#E5ECF6",
            "gridcolor": "white",
            "gridwidth": 2,
            "linecolor": "white",
            "showbackground": true,
            "ticks": "",
            "zerolinecolor": "white"
           },
           "yaxis": {
            "backgroundcolor": "#E5ECF6",
            "gridcolor": "white",
            "gridwidth": 2,
            "linecolor": "white",
            "showbackground": true,
            "ticks": "",
            "zerolinecolor": "white"
           },
           "zaxis": {
            "backgroundcolor": "#E5ECF6",
            "gridcolor": "white",
            "gridwidth": 2,
            "linecolor": "white",
            "showbackground": true,
            "ticks": "",
            "zerolinecolor": "white"
           }
          },
          "shapedefaults": {
           "line": {
            "color": "#2a3f5f"
           }
          },
          "ternary": {
           "aaxis": {
            "gridcolor": "white",
            "linecolor": "white",
            "ticks": ""
           },
           "baxis": {
            "gridcolor": "white",
            "linecolor": "white",
            "ticks": ""
           },
           "bgcolor": "#E5ECF6",
           "caxis": {
            "gridcolor": "white",
            "linecolor": "white",
            "ticks": ""
           }
          },
          "title": {
           "x": 0.05
          },
          "xaxis": {
           "automargin": true,
           "gridcolor": "white",
           "linecolor": "white",
           "ticks": "",
           "title": {
            "standoff": 15
           },
           "zerolinecolor": "white",
           "zerolinewidth": 2
          },
          "yaxis": {
           "automargin": true,
           "gridcolor": "white",
           "linecolor": "white",
           "ticks": "",
           "title": {
            "standoff": 15
           },
           "zerolinecolor": "white",
           "zerolinewidth": 2
          }
         }
        },
        "title": {
         "text": "Age vs Blood Pressure"
        },
        "xaxis": {
         "anchor": "y",
         "domain": [
          0,
          1
         ],
         "title": {
          "text": "age"
         }
        },
        "yaxis": {
         "anchor": "x",
         "domain": [
          0,
          1
         ],
         "title": {
          "text": "resting_blood_pressure"
         }
        }
       }
      }
     },
     "metadata": {},
     "output_type": "display_data"
    }
   ],
   "source": [
    "#Scatter plot\n",
    "fig = px.scatter(heart_disease_data, x = 'age', y = 'resting_blood_pressure', color='sex', title='Age vs Blood Pressure', hover_data=['chest_pain_type', 'place_of_study'])\n",
    "fig.show()"
   ]
  },
  {
   "cell_type": "code",
   "execution_count": 15,
   "metadata": {},
   "outputs": [
    {
     "data": {
      "application/vnd.plotly.v1+json": {
       "config": {
        "plotlyServerURL": "https://plot.ly"
       },
       "data": [
        {
         "domain": {
          "x": [
           0,
           1
          ],
          "y": [
           0,
           1
          ]
         },
         "hovertemplate": "sex=%{label}<br>count=%{value}<extra></extra>",
         "labels": [
          "Male",
          "Female"
         ],
         "legendgroup": "",
         "name": "",
         "showlegend": true,
         "type": "pie",
         "values": [
          725,
          194
         ]
        }
       ],
       "layout": {
        "legend": {
         "tracegroupgap": 0
        },
        "template": {
         "data": {
          "bar": [
           {
            "error_x": {
             "color": "#2a3f5f"
            },
            "error_y": {
             "color": "#2a3f5f"
            },
            "marker": {
             "line": {
              "color": "#E5ECF6",
              "width": 0.5
             },
             "pattern": {
              "fillmode": "overlay",
              "size": 10,
              "solidity": 0.2
             }
            },
            "type": "bar"
           }
          ],
          "barpolar": [
           {
            "marker": {
             "line": {
              "color": "#E5ECF6",
              "width": 0.5
             },
             "pattern": {
              "fillmode": "overlay",
              "size": 10,
              "solidity": 0.2
             }
            },
            "type": "barpolar"
           }
          ],
          "carpet": [
           {
            "aaxis": {
             "endlinecolor": "#2a3f5f",
             "gridcolor": "white",
             "linecolor": "white",
             "minorgridcolor": "white",
             "startlinecolor": "#2a3f5f"
            },
            "baxis": {
             "endlinecolor": "#2a3f5f",
             "gridcolor": "white",
             "linecolor": "white",
             "minorgridcolor": "white",
             "startlinecolor": "#2a3f5f"
            },
            "type": "carpet"
           }
          ],
          "choropleth": [
           {
            "colorbar": {
             "outlinewidth": 0,
             "ticks": ""
            },
            "type": "choropleth"
           }
          ],
          "contour": [
           {
            "colorbar": {
             "outlinewidth": 0,
             "ticks": ""
            },
            "colorscale": [
             [
              0,
              "#0d0887"
             ],
             [
              0.1111111111111111,
              "#46039f"
             ],
             [
              0.2222222222222222,
              "#7201a8"
             ],
             [
              0.3333333333333333,
              "#9c179e"
             ],
             [
              0.4444444444444444,
              "#bd3786"
             ],
             [
              0.5555555555555556,
              "#d8576b"
             ],
             [
              0.6666666666666666,
              "#ed7953"
             ],
             [
              0.7777777777777778,
              "#fb9f3a"
             ],
             [
              0.8888888888888888,
              "#fdca26"
             ],
             [
              1,
              "#f0f921"
             ]
            ],
            "type": "contour"
           }
          ],
          "contourcarpet": [
           {
            "colorbar": {
             "outlinewidth": 0,
             "ticks": ""
            },
            "type": "contourcarpet"
           }
          ],
          "heatmap": [
           {
            "colorbar": {
             "outlinewidth": 0,
             "ticks": ""
            },
            "colorscale": [
             [
              0,
              "#0d0887"
             ],
             [
              0.1111111111111111,
              "#46039f"
             ],
             [
              0.2222222222222222,
              "#7201a8"
             ],
             [
              0.3333333333333333,
              "#9c179e"
             ],
             [
              0.4444444444444444,
              "#bd3786"
             ],
             [
              0.5555555555555556,
              "#d8576b"
             ],
             [
              0.6666666666666666,
              "#ed7953"
             ],
             [
              0.7777777777777778,
              "#fb9f3a"
             ],
             [
              0.8888888888888888,
              "#fdca26"
             ],
             [
              1,
              "#f0f921"
             ]
            ],
            "type": "heatmap"
           }
          ],
          "heatmapgl": [
           {
            "colorbar": {
             "outlinewidth": 0,
             "ticks": ""
            },
            "colorscale": [
             [
              0,
              "#0d0887"
             ],
             [
              0.1111111111111111,
              "#46039f"
             ],
             [
              0.2222222222222222,
              "#7201a8"
             ],
             [
              0.3333333333333333,
              "#9c179e"
             ],
             [
              0.4444444444444444,
              "#bd3786"
             ],
             [
              0.5555555555555556,
              "#d8576b"
             ],
             [
              0.6666666666666666,
              "#ed7953"
             ],
             [
              0.7777777777777778,
              "#fb9f3a"
             ],
             [
              0.8888888888888888,
              "#fdca26"
             ],
             [
              1,
              "#f0f921"
             ]
            ],
            "type": "heatmapgl"
           }
          ],
          "histogram": [
           {
            "marker": {
             "pattern": {
              "fillmode": "overlay",
              "size": 10,
              "solidity": 0.2
             }
            },
            "type": "histogram"
           }
          ],
          "histogram2d": [
           {
            "colorbar": {
             "outlinewidth": 0,
             "ticks": ""
            },
            "colorscale": [
             [
              0,
              "#0d0887"
             ],
             [
              0.1111111111111111,
              "#46039f"
             ],
             [
              0.2222222222222222,
              "#7201a8"
             ],
             [
              0.3333333333333333,
              "#9c179e"
             ],
             [
              0.4444444444444444,
              "#bd3786"
             ],
             [
              0.5555555555555556,
              "#d8576b"
             ],
             [
              0.6666666666666666,
              "#ed7953"
             ],
             [
              0.7777777777777778,
              "#fb9f3a"
             ],
             [
              0.8888888888888888,
              "#fdca26"
             ],
             [
              1,
              "#f0f921"
             ]
            ],
            "type": "histogram2d"
           }
          ],
          "histogram2dcontour": [
           {
            "colorbar": {
             "outlinewidth": 0,
             "ticks": ""
            },
            "colorscale": [
             [
              0,
              "#0d0887"
             ],
             [
              0.1111111111111111,
              "#46039f"
             ],
             [
              0.2222222222222222,
              "#7201a8"
             ],
             [
              0.3333333333333333,
              "#9c179e"
             ],
             [
              0.4444444444444444,
              "#bd3786"
             ],
             [
              0.5555555555555556,
              "#d8576b"
             ],
             [
              0.6666666666666666,
              "#ed7953"
             ],
             [
              0.7777777777777778,
              "#fb9f3a"
             ],
             [
              0.8888888888888888,
              "#fdca26"
             ],
             [
              1,
              "#f0f921"
             ]
            ],
            "type": "histogram2dcontour"
           }
          ],
          "mesh3d": [
           {
            "colorbar": {
             "outlinewidth": 0,
             "ticks": ""
            },
            "type": "mesh3d"
           }
          ],
          "parcoords": [
           {
            "line": {
             "colorbar": {
              "outlinewidth": 0,
              "ticks": ""
             }
            },
            "type": "parcoords"
           }
          ],
          "pie": [
           {
            "automargin": true,
            "type": "pie"
           }
          ],
          "scatter": [
           {
            "fillpattern": {
             "fillmode": "overlay",
             "size": 10,
             "solidity": 0.2
            },
            "type": "scatter"
           }
          ],
          "scatter3d": [
           {
            "line": {
             "colorbar": {
              "outlinewidth": 0,
              "ticks": ""
             }
            },
            "marker": {
             "colorbar": {
              "outlinewidth": 0,
              "ticks": ""
             }
            },
            "type": "scatter3d"
           }
          ],
          "scattercarpet": [
           {
            "marker": {
             "colorbar": {
              "outlinewidth": 0,
              "ticks": ""
             }
            },
            "type": "scattercarpet"
           }
          ],
          "scattergeo": [
           {
            "marker": {
             "colorbar": {
              "outlinewidth": 0,
              "ticks": ""
             }
            },
            "type": "scattergeo"
           }
          ],
          "scattergl": [
           {
            "marker": {
             "colorbar": {
              "outlinewidth": 0,
              "ticks": ""
             }
            },
            "type": "scattergl"
           }
          ],
          "scattermapbox": [
           {
            "marker": {
             "colorbar": {
              "outlinewidth": 0,
              "ticks": ""
             }
            },
            "type": "scattermapbox"
           }
          ],
          "scatterpolar": [
           {
            "marker": {
             "colorbar": {
              "outlinewidth": 0,
              "ticks": ""
             }
            },
            "type": "scatterpolar"
           }
          ],
          "scatterpolargl": [
           {
            "marker": {
             "colorbar": {
              "outlinewidth": 0,
              "ticks": ""
             }
            },
            "type": "scatterpolargl"
           }
          ],
          "scatterternary": [
           {
            "marker": {
             "colorbar": {
              "outlinewidth": 0,
              "ticks": ""
             }
            },
            "type": "scatterternary"
           }
          ],
          "surface": [
           {
            "colorbar": {
             "outlinewidth": 0,
             "ticks": ""
            },
            "colorscale": [
             [
              0,
              "#0d0887"
             ],
             [
              0.1111111111111111,
              "#46039f"
             ],
             [
              0.2222222222222222,
              "#7201a8"
             ],
             [
              0.3333333333333333,
              "#9c179e"
             ],
             [
              0.4444444444444444,
              "#bd3786"
             ],
             [
              0.5555555555555556,
              "#d8576b"
             ],
             [
              0.6666666666666666,
              "#ed7953"
             ],
             [
              0.7777777777777778,
              "#fb9f3a"
             ],
             [
              0.8888888888888888,
              "#fdca26"
             ],
             [
              1,
              "#f0f921"
             ]
            ],
            "type": "surface"
           }
          ],
          "table": [
           {
            "cells": {
             "fill": {
              "color": "#EBF0F8"
             },
             "line": {
              "color": "white"
             }
            },
            "header": {
             "fill": {
              "color": "#C8D4E3"
             },
             "line": {
              "color": "white"
             }
            },
            "type": "table"
           }
          ]
         },
         "layout": {
          "annotationdefaults": {
           "arrowcolor": "#2a3f5f",
           "arrowhead": 0,
           "arrowwidth": 1
          },
          "autotypenumbers": "strict",
          "coloraxis": {
           "colorbar": {
            "outlinewidth": 0,
            "ticks": ""
           }
          },
          "colorscale": {
           "diverging": [
            [
             0,
             "#8e0152"
            ],
            [
             0.1,
             "#c51b7d"
            ],
            [
             0.2,
             "#de77ae"
            ],
            [
             0.3,
             "#f1b6da"
            ],
            [
             0.4,
             "#fde0ef"
            ],
            [
             0.5,
             "#f7f7f7"
            ],
            [
             0.6,
             "#e6f5d0"
            ],
            [
             0.7,
             "#b8e186"
            ],
            [
             0.8,
             "#7fbc41"
            ],
            [
             0.9,
             "#4d9221"
            ],
            [
             1,
             "#276419"
            ]
           ],
           "sequential": [
            [
             0,
             "#0d0887"
            ],
            [
             0.1111111111111111,
             "#46039f"
            ],
            [
             0.2222222222222222,
             "#7201a8"
            ],
            [
             0.3333333333333333,
             "#9c179e"
            ],
            [
             0.4444444444444444,
             "#bd3786"
            ],
            [
             0.5555555555555556,
             "#d8576b"
            ],
            [
             0.6666666666666666,
             "#ed7953"
            ],
            [
             0.7777777777777778,
             "#fb9f3a"
            ],
            [
             0.8888888888888888,
             "#fdca26"
            ],
            [
             1,
             "#f0f921"
            ]
           ],
           "sequentialminus": [
            [
             0,
             "#0d0887"
            ],
            [
             0.1111111111111111,
             "#46039f"
            ],
            [
             0.2222222222222222,
             "#7201a8"
            ],
            [
             0.3333333333333333,
             "#9c179e"
            ],
            [
             0.4444444444444444,
             "#bd3786"
            ],
            [
             0.5555555555555556,
             "#d8576b"
            ],
            [
             0.6666666666666666,
             "#ed7953"
            ],
            [
             0.7777777777777778,
             "#fb9f3a"
            ],
            [
             0.8888888888888888,
             "#fdca26"
            ],
            [
             1,
             "#f0f921"
            ]
           ]
          },
          "colorway": [
           "#636efa",
           "#EF553B",
           "#00cc96",
           "#ab63fa",
           "#FFA15A",
           "#19d3f3",
           "#FF6692",
           "#B6E880",
           "#FF97FF",
           "#FECB52"
          ],
          "font": {
           "color": "#2a3f5f"
          },
          "geo": {
           "bgcolor": "white",
           "lakecolor": "white",
           "landcolor": "#E5ECF6",
           "showlakes": true,
           "showland": true,
           "subunitcolor": "white"
          },
          "hoverlabel": {
           "align": "left"
          },
          "hovermode": "closest",
          "mapbox": {
           "style": "light"
          },
          "paper_bgcolor": "white",
          "plot_bgcolor": "#E5ECF6",
          "polar": {
           "angularaxis": {
            "gridcolor": "white",
            "linecolor": "white",
            "ticks": ""
           },
           "bgcolor": "#E5ECF6",
           "radialaxis": {
            "gridcolor": "white",
            "linecolor": "white",
            "ticks": ""
           }
          },
          "scene": {
           "xaxis": {
            "backgroundcolor": "#E5ECF6",
            "gridcolor": "white",
            "gridwidth": 2,
            "linecolor": "white",
            "showbackground": true,
            "ticks": "",
            "zerolinecolor": "white"
           },
           "yaxis": {
            "backgroundcolor": "#E5ECF6",
            "gridcolor": "white",
            "gridwidth": 2,
            "linecolor": "white",
            "showbackground": true,
            "ticks": "",
            "zerolinecolor": "white"
           },
           "zaxis": {
            "backgroundcolor": "#E5ECF6",
            "gridcolor": "white",
            "gridwidth": 2,
            "linecolor": "white",
            "showbackground": true,
            "ticks": "",
            "zerolinecolor": "white"
           }
          },
          "shapedefaults": {
           "line": {
            "color": "#2a3f5f"
           }
          },
          "ternary": {
           "aaxis": {
            "gridcolor": "white",
            "linecolor": "white",
            "ticks": ""
           },
           "baxis": {
            "gridcolor": "white",
            "linecolor": "white",
            "ticks": ""
           },
           "bgcolor": "#E5ECF6",
           "caxis": {
            "gridcolor": "white",
            "linecolor": "white",
            "ticks": ""
           }
          },
          "title": {
           "x": 0.05
          },
          "xaxis": {
           "automargin": true,
           "gridcolor": "white",
           "linecolor": "white",
           "ticks": "",
           "title": {
            "standoff": 15
           },
           "zerolinecolor": "white",
           "zerolinewidth": 2
          },
          "yaxis": {
           "automargin": true,
           "gridcolor": "white",
           "linecolor": "white",
           "ticks": "",
           "title": {
            "standoff": 15
           },
           "zerolinecolor": "white",
           "zerolinewidth": 2
          }
         }
        },
        "title": {
         "text": "Distribution of Sex"
        }
       }
      }
     },
     "metadata": {},
     "output_type": "display_data"
    }
   ],
   "source": [
    "heart_disease_data_pie = heart_disease_data['sex'].value_counts().reset_index()\n",
    "heart_disease_data_pie.columns =['sex', 'count']\n",
    "fig = px.pie(heart_disease_data_pie, values='count', names='sex', title='Distribution of Sex')\n",
    "fig.show()"
   ]
  },
  {
   "cell_type": "code",
   "execution_count": 16,
   "metadata": {},
   "outputs": [
    {
     "data": {
      "application/vnd.plotly.v1+json": {
       "config": {
        "plotlyServerURL": "https://plot.ly"
       },
       "data": [
        {
         "alignmentgroup": "True",
         "bingroup": "x",
         "hovertemplate": "sex=Male<br>age=%{x}<br>count=%{y}<extra></extra>",
         "legendgroup": "Male",
         "marker": {
          "color": "#636efa",
          "pattern": {
           "shape": ""
          }
         },
         "name": "Male",
         "nbinsx": 20,
         "offsetgroup": "Male",
         "orientation": "v",
         "showlegend": true,
         "type": "histogram",
         "x": [
          63,
          67,
          67,
          37,
          56,
          63,
          53,
          57,
          56,
          44,
          52,
          57,
          48,
          54,
          49,
          64,
          58,
          58,
          60,
          43,
          40,
          60,
          64,
          59,
          44,
          42,
          43,
          57,
          55,
          61,
          40,
          59,
          58,
          51,
          50,
          53,
          65,
          44,
          44,
          60,
          54,
          50,
          41,
          54,
          51,
          58,
          54,
          60,
          60,
          54,
          59,
          46,
          67,
          62,
          65,
          44,
          60,
          48,
          58,
          45,
          39,
          68,
          52,
          44,
          47,
          66,
          62,
          52,
          59,
          52,
          48,
          45,
          34,
          49,
          54,
          59,
          57,
          61,
          39,
          56,
          52,
          41,
          58,
          63,
          65,
          48,
          51,
          55,
          65,
          54,
          44,
          54,
          51,
          29,
          51,
          70,
          62,
          35,
          51,
          59,
          59,
          52,
          64,
          58,
          47,
          57,
          41,
          45,
          52,
          55,
          64,
          70,
          51,
          58,
          60,
          68,
          46,
          77,
          48,
          57,
          52,
          35,
          70,
          53,
          64,
          57,
          52,
          56,
          43,
          53,
          48,
          42,
          59,
          42,
          66,
          54,
          69,
          50,
          51,
          43,
          67,
          69,
          59,
          57,
          43,
          45,
          58,
          50,
          55,
          38,
          41,
          52,
          56,
          59,
          53,
          47,
          54,
          66,
          49,
          54,
          56,
          46,
          42,
          41,
          61,
          67,
          58,
          47,
          52,
          62,
          57,
          58,
          64,
          43,
          70,
          57,
          44,
          61,
          42,
          52,
          59,
          40,
          42,
          61,
          66,
          46,
          59,
          64,
          57,
          57,
          47,
          35,
          61,
          58,
          58,
          56,
          56,
          67,
          44,
          63,
          41,
          59,
          45,
          68,
          57,
          38,
          28,
          29,
          29,
          32,
          32,
          33,
          34,
          34,
          35,
          35,
          36,
          36,
          36,
          36,
          37,
          37,
          37,
          37,
          38,
          38,
          39,
          39,
          39,
          39,
          39,
          39,
          39,
          39,
          39,
          40,
          40,
          40,
          40,
          40,
          41,
          41,
          41,
          41,
          42,
          42,
          42,
          42,
          42,
          42,
          43,
          44,
          44,
          44,
          45,
          45,
          45,
          45,
          46,
          46,
          46,
          46,
          46,
          46,
          47,
          47,
          47,
          48,
          48,
          48,
          48,
          49,
          49,
          49,
          49,
          50,
          50,
          50,
          50,
          50,
          51,
          51,
          51,
          52,
          52,
          52,
          52,
          53,
          53,
          53,
          53,
          53,
          53,
          54,
          54,
          54,
          54,
          54,
          54,
          54,
          54,
          54,
          55,
          55,
          55,
          55,
          55,
          55,
          55,
          56,
          56,
          56,
          56,
          57,
          58,
          58,
          58,
          58,
          59,
          59,
          59,
          59,
          60,
          61,
          62,
          31,
          34,
          35,
          36,
          37,
          38,
          38,
          38,
          40,
          41,
          41,
          43,
          46,
          46,
          46,
          47,
          47,
          48,
          48,
          48,
          49,
          49,
          50,
          52,
          54,
          54,
          55,
          57,
          58,
          60,
          63,
          65,
          32,
          38,
          39,
          43,
          45,
          46,
          46,
          48,
          48,
          48,
          48,
          50,
          52,
          52,
          53,
          54,
          54,
          54,
          54,
          54,
          55,
          56,
          57,
          58,
          58,
          41,
          43,
          44,
          44,
          46,
          49,
          49,
          51,
          52,
          52,
          52,
          52,
          53,
          53,
          54,
          55,
          55,
          55,
          56,
          56,
          58,
          59,
          59,
          65,
          66,
          41,
          43,
          44,
          47,
          49,
          49,
          50,
          50,
          52,
          52,
          56,
          65,
          32,
          34,
          35,
          36,
          38,
          38,
          38,
          38,
          40,
          41,
          42,
          42,
          43,
          43,
          43,
          45,
          46,
          46,
          47,
          47,
          47,
          47,
          48,
          50,
          50,
          50,
          51,
          51,
          51,
          51,
          51,
          51,
          52,
          52,
          52,
          52,
          53,
          53,
          53,
          53,
          53,
          53,
          53,
          53,
          54,
          54,
          54,
          55,
          55,
          55,
          55,
          56,
          56,
          56,
          56,
          56,
          56,
          56,
          56,
          57,
          57,
          57,
          57,
          57,
          57,
          58,
          58,
          58,
          59,
          59,
          59,
          59,
          59,
          60,
          60,
          60,
          60,
          60,
          60,
          61,
          61,
          61,
          61,
          61,
          61,
          61,
          61,
          61,
          62,
          62,
          62,
          62,
          62,
          63,
          63,
          63,
          63,
          63,
          64,
          65,
          65,
          65,
          65,
          66,
          67,
          68,
          68,
          69,
          69,
          70,
          70,
          72,
          74,
          63,
          44,
          60,
          55,
          66,
          66,
          65,
          60,
          60,
          60,
          56,
          59,
          62,
          63,
          57,
          62,
          63,
          46,
          63,
          60,
          58,
          64,
          63,
          74,
          52,
          69,
          51,
          60,
          56,
          55,
          54,
          77,
          63,
          52,
          64,
          60,
          60,
          58,
          59,
          61,
          40,
          61,
          41,
          57,
          63,
          59,
          51,
          59,
          42,
          55,
          62,
          56,
          53,
          68,
          53,
          60,
          62,
          59,
          51,
          61,
          57,
          56,
          58,
          69,
          67,
          58,
          65,
          63,
          55,
          57,
          65,
          54,
          72,
          75,
          49,
          51,
          60,
          58,
          61,
          67,
          62,
          65,
          63,
          69,
          51,
          62,
          55,
          75,
          40,
          67,
          58,
          60,
          63,
          35,
          62,
          43,
          63,
          68,
          65,
          48,
          63,
          64,
          61,
          50,
          59,
          55,
          45,
          65,
          61,
          49,
          72,
          50,
          64,
          55,
          63,
          59,
          56,
          62,
          74,
          54,
          57,
          62,
          76,
          70,
          48,
          48,
          61,
          66,
          68,
          55,
          62,
          71,
          74,
          53,
          58,
          75,
          56,
          58,
          64,
          54,
          54,
          59,
          55,
          57,
          61,
          41,
          71,
          38,
          55,
          56,
          69,
          64,
          72,
          69,
          56,
          62,
          67,
          57,
          69,
          51,
          48,
          69,
          69,
          64,
          57,
          53,
          37,
          67,
          74,
          63,
          58,
          61,
          64,
          58,
          60,
          57,
          55,
          55,
          56,
          57,
          61,
          61,
          58,
          74,
          68,
          62,
          53,
          62,
          46,
          62,
          55,
          58,
          62
         ],
         "xaxis": "x",
         "yaxis": "y"
        },
        {
         "alignmentgroup": "True",
         "customdata": [
          [
           "typical angina",
           "Cleveland"
          ],
          [
           "asymptomatic",
           "Cleveland"
          ],
          [
           "asymptomatic",
           "Cleveland"
          ],
          [
           "non-anginal",
           "Cleveland"
          ],
          [
           "atypical angina",
           "Cleveland"
          ],
          [
           "asymptomatic",
           "Cleveland"
          ],
          [
           "asymptomatic",
           "Cleveland"
          ],
          [
           "asymptomatic",
           "Cleveland"
          ],
          [
           "non-anginal",
           "Cleveland"
          ],
          [
           "atypical angina",
           "Cleveland"
          ],
          [
           "non-anginal",
           "Cleveland"
          ],
          [
           "non-anginal",
           "Cleveland"
          ],
          [
           "atypical angina",
           "Cleveland"
          ],
          [
           "asymptomatic",
           "Cleveland"
          ],
          [
           "atypical angina",
           "Cleveland"
          ],
          [
           "typical angina",
           "Cleveland"
          ],
          [
           "atypical angina",
           "Cleveland"
          ],
          [
           "non-anginal",
           "Cleveland"
          ],
          [
           "asymptomatic",
           "Cleveland"
          ],
          [
           "asymptomatic",
           "Cleveland"
          ],
          [
           "asymptomatic",
           "Cleveland"
          ],
          [
           "asymptomatic",
           "Cleveland"
          ],
          [
           "non-anginal",
           "Cleveland"
          ],
          [
           "asymptomatic",
           "Cleveland"
          ],
          [
           "non-anginal",
           "Cleveland"
          ],
          [
           "asymptomatic",
           "Cleveland"
          ],
          [
           "asymptomatic",
           "Cleveland"
          ],
          [
           "asymptomatic",
           "Cleveland"
          ],
          [
           "asymptomatic",
           "Cleveland"
          ],
          [
           "non-anginal",
           "Cleveland"
          ],
          [
           "typical angina",
           "Cleveland"
          ],
          [
           "non-anginal",
           "Cleveland"
          ],
          [
           "non-anginal",
           "Cleveland"
          ],
          [
           "non-anginal",
           "Cleveland"
          ],
          [
           "asymptomatic",
           "Cleveland"
          ],
          [
           "non-anginal",
           "Cleveland"
          ],
          [
           "asymptomatic",
           "Cleveland"
          ],
          [
           "asymptomatic",
           "Cleveland"
          ],
          [
           "atypical angina",
           "Cleveland"
          ],
          [
           "asymptomatic",
           "Cleveland"
          ],
          [
           "asymptomatic",
           "Cleveland"
          ],
          [
           "non-anginal",
           "Cleveland"
          ],
          [
           "asymptomatic",
           "Cleveland"
          ],
          [
           "non-anginal",
           "Cleveland"
          ],
          [
           "typical angina",
           "Cleveland"
          ],
          [
           "asymptomatic",
           "Cleveland"
          ],
          [
           "asymptomatic",
           "Cleveland"
          ],
          [
           "asymptomatic",
           "Cleveland"
          ],
          [
           "non-anginal",
           "Cleveland"
          ],
          [
           "non-anginal",
           "Cleveland"
          ],
          [
           "asymptomatic",
           "Cleveland"
          ],
          [
           "non-anginal",
           "Cleveland"
          ],
          [
           "asymptomatic",
           "Cleveland"
          ],
          [
           "asymptomatic",
           "Cleveland"
          ],
          [
           "asymptomatic",
           "Cleveland"
          ],
          [
           "asymptomatic",
           "Cleveland"
          ],
          [
           "asymptomatic",
           "Cleveland"
          ],
          [
           "atypical angina",
           "Cleveland"
          ],
          [
           "asymptomatic",
           "Cleveland"
          ],
          [
           "asymptomatic",
           "Cleveland"
          ],
          [
           "non-anginal",
           "Cleveland"
          ],
          [
           "non-anginal",
           "Cleveland"
          ],
          [
           "atypical angina",
           "Cleveland"
          ],
          [
           "non-anginal",
           "Cleveland"
          ],
          [
           "non-anginal",
           "Cleveland"
          ],
          [
           "asymptomatic",
           "Cleveland"
          ],
          [
           "non-anginal",
           "Cleveland"
          ],
          [
           "asymptomatic",
           "Cleveland"
          ],
          [
           "asymptomatic",
           "Cleveland"
          ],
          [
           "atypical angina",
           "Cleveland"
          ],
          [
           "asymptomatic",
           "Cleveland"
          ],
          [
           "asymptomatic",
           "Cleveland"
          ],
          [
           "typical angina",
           "Cleveland"
          ],
          [
           "non-anginal",
           "Cleveland"
          ],
          [
           "atypical angina",
           "Cleveland"
          ],
          [
           "asymptomatic",
           "Cleveland"
          ],
          [
           "non-anginal",
           "Cleveland"
          ],
          [
           "asymptomatic",
           "Cleveland"
          ],
          [
           "asymptomatic",
           "Cleveland"
          ],
          [
           "asymptomatic",
           "Cleveland"
          ],
          [
           "typical angina",
           "Cleveland"
          ],
          [
           "atypical angina",
           "Cleveland"
          ],
          [
           "non-anginal",
           "Cleveland"
          ],
          [
           "asymptomatic",
           "Cleveland"
          ],
          [
           "asymptomatic",
           "Cleveland"
          ],
          [
           "asymptomatic",
           "Cleveland"
          ],
          [
           "non-anginal",
           "Cleveland"
          ],
          [
           "asymptomatic",
           "Cleveland"
          ],
          [
           "typical angina",
           "Cleveland"
          ],
          [
           "asymptomatic",
           "Cleveland"
          ],
          [
           "atypical angina",
           "Cleveland"
          ],
          [
           "non-anginal",
           "Cleveland"
          ],
          [
           "non-anginal",
           "Cleveland"
          ],
          [
           "atypical angina",
           "Cleveland"
          ],
          [
           "asymptomatic",
           "Cleveland"
          ],
          [
           "asymptomatic",
           "Cleveland"
          ],
          [
           "atypical angina",
           "Cleveland"
          ],
          [
           "asymptomatic",
           "Cleveland"
          ],
          [
           "non-anginal",
           "Cleveland"
          ],
          [
           "atypical angina",
           "Cleveland"
          ],
          [
           "typical angina",
           "Cleveland"
          ],
          [
           "atypical angina",
           "Cleveland"
          ],
          [
           "non-anginal",
           "Cleveland"
          ],
          [
           "non-anginal",
           "Cleveland"
          ],
          [
           "non-anginal",
           "Cleveland"
          ],
          [
           "asymptomatic",
           "Cleveland"
          ],
          [
           "non-anginal",
           "Cleveland"
          ],
          [
           "atypical angina",
           "Cleveland"
          ],
          [
           "typical angina",
           "Cleveland"
          ],
          [
           "asymptomatic",
           "Cleveland"
          ],
          [
           "asymptomatic",
           "Cleveland"
          ],
          [
           "asymptomatic",
           "Cleveland"
          ],
          [
           "asymptomatic",
           "Cleveland"
          ],
          [
           "asymptomatic",
           "Cleveland"
          ],
          [
           "asymptomatic",
           "Cleveland"
          ],
          [
           "non-anginal",
           "Cleveland"
          ],
          [
           "atypical angina",
           "Cleveland"
          ],
          [
           "asymptomatic",
           "Cleveland"
          ],
          [
           "non-anginal",
           "Cleveland"
          ],
          [
           "asymptomatic",
           "Cleveland"
          ],
          [
           "non-anginal",
           "Cleveland"
          ],
          [
           "asymptomatic",
           "Cleveland"
          ],
          [
           "non-anginal",
           "Cleveland"
          ],
          [
           "asymptomatic",
           "Cleveland"
          ],
          [
           "asymptomatic",
           "Cleveland"
          ],
          [
           "asymptomatic",
           "Cleveland"
          ],
          [
           "asymptomatic",
           "Cleveland"
          ],
          [
           "asymptomatic",
           "Cleveland"
          ],
          [
           "non-anginal",
           "Cleveland"
          ],
          [
           "non-anginal",
           "Cleveland"
          ],
          [
           "asymptomatic",
           "Cleveland"
          ],
          [
           "typical angina",
           "Cleveland"
          ],
          [
           "typical angina",
           "Cleveland"
          ],
          [
           "non-anginal",
           "Cleveland"
          ],
          [
           "atypical angina",
           "Cleveland"
          ],
          [
           "atypical angina",
           "Cleveland"
          ],
          [
           "non-anginal",
           "Cleveland"
          ],
          [
           "non-anginal",
           "Cleveland"
          ],
          [
           "asymptomatic",
           "Cleveland"
          ],
          [
           "asymptomatic",
           "Cleveland"
          ],
          [
           "asymptomatic",
           "Cleveland"
          ],
          [
           "typical angina",
           "Cleveland"
          ],
          [
           "typical angina",
           "Cleveland"
          ],
          [
           "non-anginal",
           "Cleveland"
          ],
          [
           "asymptomatic",
           "Cleveland"
          ],
          [
           "asymptomatic",
           "Cleveland"
          ],
          [
           "asymptomatic",
           "Cleveland"
          ],
          [
           "asymptomatic",
           "Cleveland"
          ],
          [
           "atypical angina",
           "Cleveland"
          ],
          [
           "typical angina",
           "Cleveland"
          ],
          [
           "non-anginal",
           "Cleveland"
          ],
          [
           "asymptomatic",
           "Cleveland"
          ],
          [
           "typical angina",
           "Cleveland"
          ],
          [
           "asymptomatic",
           "Cleveland"
          ],
          [
           "asymptomatic",
           "Cleveland"
          ],
          [
           "asymptomatic",
           "Cleveland"
          ],
          [
           "asymptomatic",
           "Cleveland"
          ],
          [
           "asymptomatic",
           "Cleveland"
          ],
          [
           "non-anginal",
           "Cleveland"
          ],
          [
           "asymptomatic",
           "Cleveland"
          ],
          [
           "asymptomatic",
           "Cleveland"
          ],
          [
           "asymptomatic",
           "Cleveland"
          ],
          [
           "atypical angina",
           "Cleveland"
          ],
          [
           "atypical angina",
           "Cleveland"
          ],
          [
           "typical angina",
           "Cleveland"
          ],
          [
           "asymptomatic",
           "Cleveland"
          ],
          [
           "asymptomatic",
           "Cleveland"
          ],
          [
           "asymptomatic",
           "Cleveland"
          ],
          [
           "asymptomatic",
           "Cleveland"
          ],
          [
           "atypical angina",
           "Cleveland"
          ],
          [
           "asymptomatic",
           "Cleveland"
          ],
          [
           "asymptomatic",
           "Cleveland"
          ],
          [
           "asymptomatic",
           "Cleveland"
          ],
          [
           "asymptomatic",
           "Cleveland"
          ],
          [
           "atypical angina",
           "Cleveland"
          ],
          [
           "atypical angina",
           "Cleveland"
          ],
          [
           "non-anginal",
           "Cleveland"
          ],
          [
           "asymptomatic",
           "Cleveland"
          ],
          [
           "asymptomatic",
           "Cleveland"
          ],
          [
           "asymptomatic",
           "Cleveland"
          ],
          [
           "non-anginal",
           "Cleveland"
          ],
          [
           "asymptomatic",
           "Cleveland"
          ],
          [
           "non-anginal",
           "Cleveland"
          ],
          [
           "asymptomatic",
           "Cleveland"
          ],
          [
           "asymptomatic",
           "Cleveland"
          ],
          [
           "asymptomatic",
           "Cleveland"
          ],
          [
           "typical angina",
           "Cleveland"
          ],
          [
           "typical angina",
           "Cleveland"
          ],
          [
           "atypical angina",
           "Cleveland"
          ],
          [
           "asymptomatic",
           "Cleveland"
          ],
          [
           "non-anginal",
           "Cleveland"
          ],
          [
           "atypical angina",
           "Cleveland"
          ],
          [
           "asymptomatic",
           "Cleveland"
          ],
          [
           "asymptomatic",
           "Cleveland"
          ],
          [
           "atypical angina",
           "Cleveland"
          ],
          [
           "atypical angina",
           "Cleveland"
          ],
          [
           "atypical angina",
           "Cleveland"
          ],
          [
           "non-anginal",
           "Cleveland"
          ],
          [
           "asymptomatic",
           "Cleveland"
          ],
          [
           "asymptomatic",
           "Cleveland"
          ],
          [
           "atypical angina",
           "Cleveland"
          ],
          [
           "asymptomatic",
           "Cleveland"
          ],
          [
           "typical angina",
           "Cleveland"
          ],
          [
           "asymptomatic",
           "Cleveland"
          ],
          [
           "asymptomatic",
           "Cleveland"
          ],
          [
           "non-anginal",
           "Cleveland"
          ],
          [
           "atypical angina",
           "Cleveland"
          ],
          [
           "atypical angina",
           "Hungary"
          ],
          [
           "atypical angina",
           "Hungary"
          ],
          [
           "atypical angina",
           "Hungary"
          ],
          [
           "atypical angina",
           "Hungary"
          ],
          [
           "non-anginal",
           "Hungary"
          ],
          [
           "atypical angina",
           "Hungary"
          ],
          [
           "atypical angina",
           "Hungary"
          ],
          [
           "atypical angina",
           "Hungary"
          ],
          [
           "atypical angina",
           "Hungary"
          ],
          [
           "atypical angina",
           "Hungary"
          ],
          [
           "non-anginal",
           "Hungary"
          ],
          [
           "non-anginal",
           "Hungary"
          ],
          [
           "non-anginal",
           "Hungary"
          ],
          [
           "atypical angina",
           "Hungary"
          ],
          [
           "non-anginal",
           "Hungary"
          ],
          [
           "asymptomatic",
           "Hungary"
          ],
          [
           "asymptomatic",
           "Hungary"
          ],
          [
           "atypical angina",
           "Hungary"
          ],
          [
           "non-anginal",
           "Hungary"
          ],
          [
           "atypical angina",
           "Hungary"
          ],
          [
           "atypical angina",
           "Hungary"
          ],
          [
           "atypical angina",
           "Hungary"
          ],
          [
           "atypical angina",
           "Hungary"
          ],
          [
           "atypical angina",
           "Hungary"
          ],
          [
           "non-anginal",
           "Hungary"
          ],
          [
           "non-anginal",
           "Hungary"
          ],
          [
           "asymptomatic",
           "Hungary"
          ],
          [
           "asymptomatic",
           "Hungary"
          ],
          [
           "atypical angina",
           "Hungary"
          ],
          [
           "atypical angina",
           "Hungary"
          ],
          [
           "non-anginal",
           "Hungary"
          ],
          [
           "non-anginal",
           "Hungary"
          ],
          [
           "non-anginal",
           "Hungary"
          ],
          [
           "atypical angina",
           "Hungary"
          ],
          [
           "atypical angina",
           "Hungary"
          ],
          [
           "atypical angina",
           "Hungary"
          ],
          [
           "asymptomatic",
           "Hungary"
          ],
          [
           "atypical angina",
           "Hungary"
          ],
          [
           "atypical angina",
           "Hungary"
          ],
          [
           "atypical angina",
           "Hungary"
          ],
          [
           "non-anginal",
           "Hungary"
          ],
          [
           "non-anginal",
           "Hungary"
          ],
          [
           "asymptomatic",
           "Hungary"
          ],
          [
           "atypical angina",
           "Hungary"
          ],
          [
           "atypical angina",
           "Hungary"
          ],
          [
           "atypical angina",
           "Hungary"
          ],
          [
           "asymptomatic",
           "Hungary"
          ],
          [
           "atypical angina",
           "Hungary"
          ],
          [
           "non-anginal",
           "Hungary"
          ],
          [
           "asymptomatic",
           "Hungary"
          ],
          [
           "asymptomatic",
           "Hungary"
          ],
          [
           "atypical angina",
           "Hungary"
          ],
          [
           "non-anginal",
           "Hungary"
          ],
          [
           "non-anginal",
           "Hungary"
          ],
          [
           "asymptomatic",
           "Hungary"
          ],
          [
           "asymptomatic",
           "Hungary"
          ],
          [
           "asymptomatic",
           "Hungary"
          ],
          [
           "typical angina",
           "Hungary"
          ],
          [
           "atypical angina",
           "Hungary"
          ],
          [
           "asymptomatic",
           "Hungary"
          ],
          [
           "atypical angina",
           "Hungary"
          ],
          [
           "atypical angina",
           "Hungary"
          ],
          [
           "atypical angina",
           "Hungary"
          ],
          [
           "non-anginal",
           "Hungary"
          ],
          [
           "atypical angina",
           "Hungary"
          ],
          [
           "non-anginal",
           "Hungary"
          ],
          [
           "asymptomatic",
           "Hungary"
          ],
          [
           "asymptomatic",
           "Hungary"
          ],
          [
           "atypical angina",
           "Hungary"
          ],
          [
           "atypical angina",
           "Hungary"
          ],
          [
           "atypical angina",
           "Hungary"
          ],
          [
           "asymptomatic",
           "Hungary"
          ],
          [
           "asymptomatic",
           "Hungary"
          ],
          [
           "atypical angina",
           "Hungary"
          ],
          [
           "atypical angina",
           "Hungary"
          ],
          [
           "asymptomatic",
           "Hungary"
          ],
          [
           "atypical angina",
           "Hungary"
          ],
          [
           "atypical angina",
           "Hungary"
          ],
          [
           "atypical angina",
           "Hungary"
          ],
          [
           "non-anginal",
           "Hungary"
          ],
          [
           "atypical angina",
           "Hungary"
          ],
          [
           "atypical angina",
           "Hungary"
          ],
          [
           "non-anginal",
           "Hungary"
          ],
          [
           "asymptomatic",
           "Hungary"
          ],
          [
           "asymptomatic",
           "Hungary"
          ],
          [
           "asymptomatic",
           "Hungary"
          ],
          [
           "typical angina",
           "Hungary"
          ],
          [
           "atypical angina",
           "Hungary"
          ],
          [
           "atypical angina",
           "Hungary"
          ],
          [
           "atypical angina",
           "Hungary"
          ],
          [
           "atypical angina",
           "Hungary"
          ],
          [
           "atypical angina",
           "Hungary"
          ],
          [
           "non-anginal",
           "Hungary"
          ],
          [
           "non-anginal",
           "Hungary"
          ],
          [
           "asymptomatic",
           "Hungary"
          ],
          [
           "atypical angina",
           "Hungary"
          ],
          [
           "atypical angina",
           "Hungary"
          ],
          [
           "atypical angina",
           "Hungary"
          ],
          [
           "non-anginal",
           "Hungary"
          ],
          [
           "non-anginal",
           "Hungary"
          ],
          [
           "asymptomatic",
           "Hungary"
          ],
          [
           "asymptomatic",
           "Hungary"
          ],
          [
           "atypical angina",
           "Hungary"
          ],
          [
           "non-anginal",
           "Hungary"
          ],
          [
           "non-anginal",
           "Hungary"
          ],
          [
           "asymptomatic",
           "Hungary"
          ],
          [
           "atypical angina",
           "Hungary"
          ],
          [
           "atypical angina",
           "Hungary"
          ],
          [
           "atypical angina",
           "Hungary"
          ],
          [
           "non-anginal",
           "Hungary"
          ],
          [
           "asymptomatic",
           "Hungary"
          ],
          [
           "atypical angina",
           "Hungary"
          ],
          [
           "non-anginal",
           "Hungary"
          ],
          [
           "non-anginal",
           "Hungary"
          ],
          [
           "asymptomatic",
           "Hungary"
          ],
          [
           "non-anginal",
           "Hungary"
          ],
          [
           "asymptomatic",
           "Hungary"
          ],
          [
           "atypical angina",
           "Hungary"
          ],
          [
           "asymptomatic",
           "Hungary"
          ],
          [
           "typical angina",
           "Hungary"
          ],
          [
           "atypical angina",
           "Hungary"
          ],
          [
           "atypical angina",
           "Hungary"
          ],
          [
           "asymptomatic",
           "Hungary"
          ],
          [
           "asymptomatic",
           "Hungary"
          ],
          [
           "asymptomatic",
           "Hungary"
          ],
          [
           "asymptomatic",
           "Hungary"
          ],
          [
           "asymptomatic",
           "Hungary"
          ],
          [
           "asymptomatic",
           "Hungary"
          ],
          [
           "asymptomatic",
           "Hungary"
          ],
          [
           "asymptomatic",
           "Hungary"
          ],
          [
           "asymptomatic",
           "Hungary"
          ],
          [
           "asymptomatic",
           "Hungary"
          ],
          [
           "asymptomatic",
           "Hungary"
          ],
          [
           "non-anginal",
           "Hungary"
          ],
          [
           "asymptomatic",
           "Hungary"
          ],
          [
           "asymptomatic",
           "Hungary"
          ],
          [
           "asymptomatic",
           "Hungary"
          ],
          [
           "asymptomatic",
           "Hungary"
          ],
          [
           "non-anginal",
           "Hungary"
          ],
          [
           "asymptomatic",
           "Hungary"
          ],
          [
           "asymptomatic",
           "Hungary"
          ],
          [
           "asymptomatic",
           "Hungary"
          ],
          [
           "asymptomatic",
           "Hungary"
          ],
          [
           "asymptomatic",
           "Hungary"
          ],
          [
           "asymptomatic",
           "Hungary"
          ],
          [
           "atypical angina",
           "Hungary"
          ],
          [
           "non-anginal",
           "Hungary"
          ],
          [
           "asymptomatic",
           "Hungary"
          ],
          [
           "asymptomatic",
           "Hungary"
          ],
          [
           "asymptomatic",
           "Hungary"
          ],
          [
           "asymptomatic",
           "Hungary"
          ],
          [
           "asymptomatic",
           "Hungary"
          ],
          [
           "asymptomatic",
           "Hungary"
          ],
          [
           "typical angina",
           "Hungary"
          ],
          [
           "asymptomatic",
           "Hungary"
          ],
          [
           "asymptomatic",
           "Hungary"
          ],
          [
           "asymptomatic",
           "Hungary"
          ],
          [
           "asymptomatic",
           "Hungary"
          ],
          [
           "asymptomatic",
           "Hungary"
          ],
          [
           "asymptomatic",
           "Hungary"
          ],
          [
           "asymptomatic",
           "Hungary"
          ],
          [
           "asymptomatic",
           "Hungary"
          ],
          [
           "asymptomatic",
           "Hungary"
          ],
          [
           "asymptomatic",
           "Hungary"
          ],
          [
           "asymptomatic",
           "Hungary"
          ],
          [
           "non-anginal",
           "Hungary"
          ],
          [
           "asymptomatic",
           "Hungary"
          ],
          [
           "asymptomatic",
           "Hungary"
          ],
          [
           "asymptomatic",
           "Hungary"
          ],
          [
           "asymptomatic",
           "Hungary"
          ],
          [
           "asymptomatic",
           "Hungary"
          ],
          [
           "asymptomatic",
           "Hungary"
          ],
          [
           "asymptomatic",
           "Hungary"
          ],
          [
           "non-anginal",
           "Hungary"
          ],
          [
           "asymptomatic",
           "Hungary"
          ],
          [
           "asymptomatic",
           "Hungary"
          ],
          [
           "asymptomatic",
           "Hungary"
          ],
          [
           "atypical angina",
           "Hungary"
          ],
          [
           "asymptomatic",
           "Hungary"
          ],
          [
           "typical angina",
           "Hungary"
          ],
          [
           "asymptomatic",
           "Hungary"
          ],
          [
           "asymptomatic",
           "Hungary"
          ],
          [
           "non-anginal",
           "Hungary"
          ],
          [
           "asymptomatic",
           "Hungary"
          ],
          [
           "asymptomatic",
           "Hungary"
          ],
          [
           "asymptomatic",
           "Hungary"
          ],
          [
           "asymptomatic",
           "Hungary"
          ],
          [
           "non-anginal",
           "Hungary"
          ],
          [
           "asymptomatic",
           "Hungary"
          ],
          [
           "asymptomatic",
           "Hungary"
          ],
          [
           "typical angina",
           "Hungary"
          ],
          [
           "atypical angina",
           "Hungary"
          ],
          [
           "asymptomatic",
           "Hungary"
          ],
          [
           "asymptomatic",
           "Hungary"
          ],
          [
           "asymptomatic",
           "Hungary"
          ],
          [
           "atypical angina",
           "Hungary"
          ],
          [
           "asymptomatic",
           "Hungary"
          ],
          [
           "asymptomatic",
           "Hungary"
          ],
          [
           "asymptomatic",
           "Hungary"
          ],
          [
           "asymptomatic",
           "Hungary"
          ],
          [
           "asymptomatic",
           "Hungary"
          ],
          [
           "asymptomatic",
           "Hungary"
          ],
          [
           "asymptomatic",
           "Hungary"
          ],
          [
           "asymptomatic",
           "Hungary"
          ],
          [
           "asymptomatic",
           "Hungary"
          ],
          [
           "asymptomatic",
           "Hungary"
          ],
          [
           "asymptomatic",
           "Hungary"
          ],
          [
           "asymptomatic",
           "Hungary"
          ],
          [
           "asymptomatic",
           "Hungary"
          ],
          [
           "asymptomatic",
           "Hungary"
          ],
          [
           "asymptomatic",
           "Hungary"
          ],
          [
           "asymptomatic",
           "Hungary"
          ],
          [
           "typical angina",
           "Switzerland"
          ],
          [
           "asymptomatic",
           "Switzerland"
          ],
          [
           "asymptomatic",
           "Switzerland"
          ],
          [
           "asymptomatic",
           "Switzerland"
          ],
          [
           "non-anginal",
           "Switzerland"
          ],
          [
           "non-anginal",
           "Switzerland"
          ],
          [
           "asymptomatic",
           "Switzerland"
          ],
          [
           "asymptomatic",
           "Switzerland"
          ],
          [
           "asymptomatic",
           "Switzerland"
          ],
          [
           "asymptomatic",
           "Switzerland"
          ],
          [
           "asymptomatic",
           "Switzerland"
          ],
          [
           "asymptomatic",
           "Switzerland"
          ],
          [
           "asymptomatic",
           "Switzerland"
          ],
          [
           "asymptomatic",
           "Switzerland"
          ],
          [
           "asymptomatic",
           "Switzerland"
          ],
          [
           "non-anginal",
           "Switzerland"
          ],
          [
           "asymptomatic",
           "Switzerland"
          ],
          [
           "asymptomatic",
           "Switzerland"
          ],
          [
           "non-anginal",
           "Switzerland"
          ],
          [
           "non-anginal",
           "Switzerland"
          ],
          [
           "asymptomatic",
           "Switzerland"
          ],
          [
           "asymptomatic",
           "Switzerland"
          ],
          [
           "asymptomatic",
           "Switzerland"
          ],
          [
           "asymptomatic",
           "Switzerland"
          ],
          [
           "asymptomatic",
           "Switzerland"
          ],
          [
           "asymptomatic",
           "Switzerland"
          ],
          [
           "asymptomatic",
           "Switzerland"
          ],
          [
           "asymptomatic",
           "Switzerland"
          ],
          [
           "asymptomatic",
           "Switzerland"
          ],
          [
           "asymptomatic",
           "Switzerland"
          ],
          [
           "asymptomatic",
           "Switzerland"
          ],
          [
           "asymptomatic",
           "Switzerland"
          ],
          [
           "asymptomatic",
           "Switzerland"
          ],
          [
           "asymptomatic",
           "Switzerland"
          ],
          [
           "asymptomatic",
           "Switzerland"
          ],
          [
           "asymptomatic",
           "Switzerland"
          ],
          [
           "atypical angina",
           "Switzerland"
          ],
          [
           "atypical angina",
           "Switzerland"
          ],
          [
           "non-anginal",
           "Switzerland"
          ],
          [
           "non-anginal",
           "Switzerland"
          ],
          [
           "asymptomatic",
           "Switzerland"
          ],
          [
           "asymptomatic",
           "Switzerland"
          ],
          [
           "asymptomatic",
           "Switzerland"
          ],
          [
           "asymptomatic",
           "Switzerland"
          ],
          [
           "asymptomatic",
           "Switzerland"
          ],
          [
           "asymptomatic",
           "Switzerland"
          ],
          [
           "asymptomatic",
           "Switzerland"
          ],
          [
           "atypical angina",
           "Switzerland"
          ],
          [
           "asymptomatic",
           "Switzerland"
          ],
          [
           "asymptomatic",
           "Switzerland"
          ],
          [
           "asymptomatic",
           "Switzerland"
          ],
          [
           "non-anginal",
           "Switzerland"
          ],
          [
           "non-anginal",
           "Switzerland"
          ],
          [
           "non-anginal",
           "Switzerland"
          ],
          [
           "asymptomatic",
           "Switzerland"
          ],
          [
           "asymptomatic",
           "Switzerland"
          ],
          [
           "asymptomatic",
           "Switzerland"
          ],
          [
           "asymptomatic",
           "Switzerland"
          ],
          [
           "asymptomatic",
           "Switzerland"
          ],
          [
           "non-anginal",
           "Switzerland"
          ],
          [
           "asymptomatic",
           "Switzerland"
          ],
          [
           "asymptomatic",
           "Switzerland"
          ],
          [
           "asymptomatic",
           "Switzerland"
          ],
          [
           "asymptomatic",
           "Switzerland"
          ],
          [
           "asymptomatic",
           "Switzerland"
          ],
          [
           "asymptomatic",
           "Switzerland"
          ],
          [
           "asymptomatic",
           "Switzerland"
          ],
          [
           "asymptomatic",
           "Switzerland"
          ],
          [
           "non-anginal",
           "Switzerland"
          ],
          [
           "asymptomatic",
           "Switzerland"
          ],
          [
           "asymptomatic",
           "Switzerland"
          ],
          [
           "asymptomatic",
           "Switzerland"
          ],
          [
           "asymptomatic",
           "Switzerland"
          ],
          [
           "non-anginal",
           "Switzerland"
          ],
          [
           "asymptomatic",
           "Switzerland"
          ],
          [
           "asymptomatic",
           "Switzerland"
          ],
          [
           "asymptomatic",
           "Switzerland"
          ],
          [
           "asymptomatic",
           "Switzerland"
          ],
          [
           "asymptomatic",
           "Switzerland"
          ],
          [
           "non-anginal",
           "Switzerland"
          ],
          [
           "asymptomatic",
           "Switzerland"
          ],
          [
           "asymptomatic",
           "Switzerland"
          ],
          [
           "asymptomatic",
           "Switzerland"
          ],
          [
           "asymptomatic",
           "Switzerland"
          ],
          [
           "asymptomatic",
           "Switzerland"
          ],
          [
           "asymptomatic",
           "Switzerland"
          ],
          [
           "asymptomatic",
           "Switzerland"
          ],
          [
           "asymptomatic",
           "Switzerland"
          ],
          [
           "typical angina",
           "Switzerland"
          ],
          [
           "non-anginal",
           "Switzerland"
          ],
          [
           "asymptomatic",
           "Switzerland"
          ],
          [
           "asymptomatic",
           "Switzerland"
          ],
          [
           "asymptomatic",
           "Switzerland"
          ],
          [
           "asymptomatic",
           "Switzerland"
          ],
          [
           "asymptomatic",
           "Switzerland"
          ],
          [
           "asymptomatic",
           "Switzerland"
          ],
          [
           "asymptomatic",
           "Switzerland"
          ],
          [
           "asymptomatic",
           "Switzerland"
          ],
          [
           "asymptomatic",
           "Switzerland"
          ],
          [
           "asymptomatic",
           "Switzerland"
          ],
          [
           "asymptomatic",
           "Switzerland"
          ],
          [
           "asymptomatic",
           "Switzerland"
          ],
          [
           "asymptomatic",
           "Switzerland"
          ],
          [
           "asymptomatic",
           "Switzerland"
          ],
          [
           "typical angina",
           "Switzerland"
          ],
          [
           "asymptomatic",
           "Switzerland"
          ],
          [
           "asymptomatic",
           "Switzerland"
          ],
          [
           "asymptomatic",
           "Switzerland"
          ],
          [
           "asymptomatic",
           "Switzerland"
          ],
          [
           "asymptomatic",
           "Switzerland"
          ],
          [
           "asymptomatic",
           "Switzerland"
          ],
          [
           "non-anginal",
           "Switzerland"
          ],
          [
           "atypical angina",
           "Switzerland"
          ],
          [
           "asymptomatic",
           "VA Long Beach"
          ],
          [
           "asymptomatic",
           "VA Long Beach"
          ],
          [
           "asymptomatic",
           "VA Long Beach"
          ],
          [
           "asymptomatic",
           "VA Long Beach"
          ],
          [
           "non-anginal",
           "VA Long Beach"
          ],
          [
           "non-anginal",
           "VA Long Beach"
          ],
          [
           "asymptomatic",
           "VA Long Beach"
          ],
          [
           "non-anginal",
           "VA Long Beach"
          ],
          [
           "non-anginal",
           "VA Long Beach"
          ],
          [
           "atypical angina",
           "VA Long Beach"
          ],
          [
           "atypical angina",
           "VA Long Beach"
          ],
          [
           "asymptomatic",
           "VA Long Beach"
          ],
          [
           "asymptomatic",
           "VA Long Beach"
          ],
          [
           "non-anginal",
           "VA Long Beach"
          ],
          [
           "asymptomatic",
           "VA Long Beach"
          ],
          [
           "asymptomatic",
           "VA Long Beach"
          ],
          [
           "asymptomatic",
           "VA Long Beach"
          ],
          [
           "asymptomatic",
           "VA Long Beach"
          ],
          [
           "asymptomatic",
           "VA Long Beach"
          ],
          [
           "asymptomatic",
           "VA Long Beach"
          ],
          [
           "asymptomatic",
           "VA Long Beach"
          ],
          [
           "asymptomatic",
           "VA Long Beach"
          ],
          [
           "non-anginal",
           "VA Long Beach"
          ],
          [
           "non-anginal",
           "VA Long Beach"
          ],
          [
           "non-anginal",
           "VA Long Beach"
          ],
          [
           "asymptomatic",
           "VA Long Beach"
          ],
          [
           "asymptomatic",
           "VA Long Beach"
          ],
          [
           "asymptomatic",
           "VA Long Beach"
          ],
          [
           "asymptomatic",
           "VA Long Beach"
          ],
          [
           "non-anginal",
           "VA Long Beach"
          ],
          [
           "asymptomatic",
           "VA Long Beach"
          ],
          [
           "asymptomatic",
           "VA Long Beach"
          ],
          [
           "asymptomatic",
           "VA Long Beach"
          ],
          [
           "non-anginal",
           "VA Long Beach"
          ],
          [
           "asymptomatic",
           "VA Long Beach"
          ],
          [
           "asymptomatic",
           "VA Long Beach"
          ],
          [
           "asymptomatic",
           "VA Long Beach"
          ],
          [
           "asymptomatic",
           "VA Long Beach"
          ],
          [
           "asymptomatic",
           "VA Long Beach"
          ],
          [
           "non-anginal",
           "VA Long Beach"
          ],
          [
           "asymptomatic",
           "VA Long Beach"
          ],
          [
           "asymptomatic",
           "VA Long Beach"
          ],
          [
           "asymptomatic",
           "VA Long Beach"
          ],
          [
           "asymptomatic",
           "VA Long Beach"
          ],
          [
           "asymptomatic",
           "VA Long Beach"
          ],
          [
           "asymptomatic",
           "VA Long Beach"
          ],
          [
           "asymptomatic",
           "VA Long Beach"
          ],
          [
           "non-anginal",
           "VA Long Beach"
          ],
          [
           "non-anginal",
           "VA Long Beach"
          ],
          [
           "non-anginal",
           "VA Long Beach"
          ],
          [
           "asymptomatic",
           "VA Long Beach"
          ],
          [
           "atypical angina",
           "VA Long Beach"
          ],
          [
           "asymptomatic",
           "VA Long Beach"
          ],
          [
           "asymptomatic",
           "VA Long Beach"
          ],
          [
           "asymptomatic",
           "VA Long Beach"
          ],
          [
           "non-anginal",
           "VA Long Beach"
          ],
          [
           "atypical angina",
           "VA Long Beach"
          ],
          [
           "asymptomatic",
           "VA Long Beach"
          ],
          [
           "asymptomatic",
           "VA Long Beach"
          ],
          [
           "asymptomatic",
           "VA Long Beach"
          ],
          [
           "asymptomatic",
           "VA Long Beach"
          ],
          [
           "non-anginal",
           "VA Long Beach"
          ],
          [
           "atypical angina",
           "VA Long Beach"
          ],
          [
           "non-anginal",
           "VA Long Beach"
          ],
          [
           "typical angina",
           "VA Long Beach"
          ],
          [
           "asymptomatic",
           "VA Long Beach"
          ],
          [
           "asymptomatic",
           "VA Long Beach"
          ],
          [
           "atypical angina",
           "VA Long Beach"
          ],
          [
           "atypical angina",
           "VA Long Beach"
          ],
          [
           "asymptomatic",
           "VA Long Beach"
          ],
          [
           "typical angina",
           "VA Long Beach"
          ],
          [
           "asymptomatic",
           "VA Long Beach"
          ],
          [
           "non-anginal",
           "VA Long Beach"
          ],
          [
           "asymptomatic",
           "VA Long Beach"
          ],
          [
           "typical angina",
           "VA Long Beach"
          ],
          [
           "non-anginal",
           "VA Long Beach"
          ],
          [
           "asymptomatic",
           "VA Long Beach"
          ],
          [
           "asymptomatic",
           "VA Long Beach"
          ],
          [
           "asymptomatic",
           "VA Long Beach"
          ],
          [
           "asymptomatic",
           "VA Long Beach"
          ],
          [
           "asymptomatic",
           "VA Long Beach"
          ],
          [
           "asymptomatic",
           "VA Long Beach"
          ],
          [
           "asymptomatic",
           "VA Long Beach"
          ],
          [
           "asymptomatic",
           "VA Long Beach"
          ],
          [
           "asymptomatic",
           "VA Long Beach"
          ],
          [
           "asymptomatic",
           "VA Long Beach"
          ],
          [
           "non-anginal",
           "VA Long Beach"
          ],
          [
           "asymptomatic",
           "VA Long Beach"
          ],
          [
           "non-anginal",
           "VA Long Beach"
          ],
          [
           "asymptomatic",
           "VA Long Beach"
          ],
          [
           "asymptomatic",
           "VA Long Beach"
          ],
          [
           "asymptomatic",
           "VA Long Beach"
          ],
          [
           "asymptomatic",
           "VA Long Beach"
          ],
          [
           "non-anginal",
           "VA Long Beach"
          ],
          [
           "typical angina",
           "VA Long Beach"
          ],
          [
           "asymptomatic",
           "VA Long Beach"
          ],
          [
           "non-anginal",
           "VA Long Beach"
          ],
          [
           "non-anginal",
           "VA Long Beach"
          ],
          [
           "asymptomatic",
           "VA Long Beach"
          ],
          [
           "non-anginal",
           "VA Long Beach"
          ],
          [
           "asymptomatic",
           "VA Long Beach"
          ],
          [
           "asymptomatic",
           "VA Long Beach"
          ],
          [
           "asymptomatic",
           "VA Long Beach"
          ],
          [
           "asymptomatic",
           "VA Long Beach"
          ],
          [
           "asymptomatic",
           "VA Long Beach"
          ],
          [
           "asymptomatic",
           "VA Long Beach"
          ],
          [
           "non-anginal",
           "VA Long Beach"
          ],
          [
           "asymptomatic",
           "VA Long Beach"
          ],
          [
           "atypical angina",
           "VA Long Beach"
          ],
          [
           "non-anginal",
           "VA Long Beach"
          ],
          [
           "asymptomatic",
           "VA Long Beach"
          ],
          [
           "asymptomatic",
           "VA Long Beach"
          ],
          [
           "asymptomatic",
           "VA Long Beach"
          ],
          [
           "asymptomatic",
           "VA Long Beach"
          ],
          [
           "asymptomatic",
           "VA Long Beach"
          ],
          [
           "asymptomatic",
           "VA Long Beach"
          ],
          [
           "asymptomatic",
           "VA Long Beach"
          ],
          [
           "non-anginal",
           "VA Long Beach"
          ],
          [
           "asymptomatic",
           "VA Long Beach"
          ],
          [
           "asymptomatic",
           "VA Long Beach"
          ],
          [
           "asymptomatic",
           "VA Long Beach"
          ],
          [
           "non-anginal",
           "VA Long Beach"
          ],
          [
           "non-anginal",
           "VA Long Beach"
          ],
          [
           "asymptomatic",
           "VA Long Beach"
          ],
          [
           "asymptomatic",
           "VA Long Beach"
          ],
          [
           "non-anginal",
           "VA Long Beach"
          ],
          [
           "typical angina",
           "VA Long Beach"
          ],
          [
           "asymptomatic",
           "VA Long Beach"
          ],
          [
           "typical angina",
           "VA Long Beach"
          ],
          [
           "asymptomatic",
           "VA Long Beach"
          ],
          [
           "non-anginal",
           "VA Long Beach"
          ],
          [
           "non-anginal",
           "VA Long Beach"
          ],
          [
           "typical angina",
           "VA Long Beach"
          ],
          [
           "non-anginal",
           "VA Long Beach"
          ],
          [
           "non-anginal",
           "VA Long Beach"
          ],
          [
           "asymptomatic",
           "VA Long Beach"
          ],
          [
           "non-anginal",
           "VA Long Beach"
          ],
          [
           "non-anginal",
           "VA Long Beach"
          ],
          [
           "asymptomatic",
           "VA Long Beach"
          ],
          [
           "non-anginal",
           "VA Long Beach"
          ],
          [
           "atypical angina",
           "VA Long Beach"
          ],
          [
           "asymptomatic",
           "VA Long Beach"
          ],
          [
           "asymptomatic",
           "VA Long Beach"
          ],
          [
           "asymptomatic",
           "VA Long Beach"
          ],
          [
           "asymptomatic",
           "VA Long Beach"
          ],
          [
           "asymptomatic",
           "VA Long Beach"
          ],
          [
           "asymptomatic",
           "VA Long Beach"
          ],
          [
           "asymptomatic",
           "VA Long Beach"
          ],
          [
           "asymptomatic",
           "VA Long Beach"
          ],
          [
           "asymptomatic",
           "VA Long Beach"
          ],
          [
           "asymptomatic",
           "VA Long Beach"
          ],
          [
           "asymptomatic",
           "VA Long Beach"
          ],
          [
           "asymptomatic",
           "VA Long Beach"
          ],
          [
           "asymptomatic",
           "VA Long Beach"
          ],
          [
           "asymptomatic",
           "VA Long Beach"
          ],
          [
           "asymptomatic",
           "VA Long Beach"
          ],
          [
           "asymptomatic",
           "VA Long Beach"
          ],
          [
           "asymptomatic",
           "VA Long Beach"
          ],
          [
           "asymptomatic",
           "VA Long Beach"
          ],
          [
           "asymptomatic",
           "VA Long Beach"
          ],
          [
           "asymptomatic",
           "VA Long Beach"
          ],
          [
           "asymptomatic",
           "VA Long Beach"
          ],
          [
           "non-anginal",
           "VA Long Beach"
          ],
          [
           "asymptomatic",
           "VA Long Beach"
          ],
          [
           "atypical angina",
           "VA Long Beach"
          ],
          [
           "asymptomatic",
           "VA Long Beach"
          ],
          [
           "non-anginal",
           "VA Long Beach"
          ],
          [
           "asymptomatic",
           "VA Long Beach"
          ],
          [
           "non-anginal",
           "VA Long Beach"
          ],
          [
           "atypical angina",
           "VA Long Beach"
          ],
          [
           "asymptomatic",
           "VA Long Beach"
          ],
          [
           "asymptomatic",
           "VA Long Beach"
          ],
          [
           "asymptomatic",
           "VA Long Beach"
          ],
          [
           "asymptomatic",
           "VA Long Beach"
          ],
          [
           "asymptomatic",
           "VA Long Beach"
          ],
          [
           "asymptomatic",
           "VA Long Beach"
          ],
          [
           "non-anginal",
           "VA Long Beach"
          ],
          [
           "asymptomatic",
           "VA Long Beach"
          ],
          [
           "asymptomatic",
           "VA Long Beach"
          ],
          [
           "asymptomatic",
           "VA Long Beach"
          ],
          [
           "non-anginal",
           "VA Long Beach"
          ],
          [
           "non-anginal",
           "VA Long Beach"
          ],
          [
           "non-anginal",
           "VA Long Beach"
          ],
          [
           "asymptomatic",
           "VA Long Beach"
          ],
          [
           "non-anginal",
           "VA Long Beach"
          ],
          [
           "asymptomatic",
           "VA Long Beach"
          ],
          [
           "asymptomatic",
           "VA Long Beach"
          ],
          [
           "asymptomatic",
           "VA Long Beach"
          ],
          [
           "asymptomatic",
           "VA Long Beach"
          ],
          [
           "typical angina",
           "VA Long Beach"
          ],
          [
           "asymptomatic",
           "VA Long Beach"
          ],
          [
           "asymptomatic",
           "VA Long Beach"
          ],
          [
           "atypical angina",
           "VA Long Beach"
          ]
         ],
         "hovertemplate": "sex=Male<br>age=%{x}<br>chest_pain_type=%{customdata[0]}<br>place_of_study=%{customdata[1]}<extra></extra>",
         "legendgroup": "Male",
         "marker": {
          "color": "#636efa"
         },
         "name": "Male",
         "notched": true,
         "offsetgroup": "Male",
         "showlegend": false,
         "type": "box",
         "x": [
          63,
          67,
          67,
          37,
          56,
          63,
          53,
          57,
          56,
          44,
          52,
          57,
          48,
          54,
          49,
          64,
          58,
          58,
          60,
          43,
          40,
          60,
          64,
          59,
          44,
          42,
          43,
          57,
          55,
          61,
          40,
          59,
          58,
          51,
          50,
          53,
          65,
          44,
          44,
          60,
          54,
          50,
          41,
          54,
          51,
          58,
          54,
          60,
          60,
          54,
          59,
          46,
          67,
          62,
          65,
          44,
          60,
          48,
          58,
          45,
          39,
          68,
          52,
          44,
          47,
          66,
          62,
          52,
          59,
          52,
          48,
          45,
          34,
          49,
          54,
          59,
          57,
          61,
          39,
          56,
          52,
          41,
          58,
          63,
          65,
          48,
          51,
          55,
          65,
          54,
          44,
          54,
          51,
          29,
          51,
          70,
          62,
          35,
          51,
          59,
          59,
          52,
          64,
          58,
          47,
          57,
          41,
          45,
          52,
          55,
          64,
          70,
          51,
          58,
          60,
          68,
          46,
          77,
          48,
          57,
          52,
          35,
          70,
          53,
          64,
          57,
          52,
          56,
          43,
          53,
          48,
          42,
          59,
          42,
          66,
          54,
          69,
          50,
          51,
          43,
          67,
          69,
          59,
          57,
          43,
          45,
          58,
          50,
          55,
          38,
          41,
          52,
          56,
          59,
          53,
          47,
          54,
          66,
          49,
          54,
          56,
          46,
          42,
          41,
          61,
          67,
          58,
          47,
          52,
          62,
          57,
          58,
          64,
          43,
          70,
          57,
          44,
          61,
          42,
          52,
          59,
          40,
          42,
          61,
          66,
          46,
          59,
          64,
          57,
          57,
          47,
          35,
          61,
          58,
          58,
          56,
          56,
          67,
          44,
          63,
          41,
          59,
          45,
          68,
          57,
          38,
          28,
          29,
          29,
          32,
          32,
          33,
          34,
          34,
          35,
          35,
          36,
          36,
          36,
          36,
          37,
          37,
          37,
          37,
          38,
          38,
          39,
          39,
          39,
          39,
          39,
          39,
          39,
          39,
          39,
          40,
          40,
          40,
          40,
          40,
          41,
          41,
          41,
          41,
          42,
          42,
          42,
          42,
          42,
          42,
          43,
          44,
          44,
          44,
          45,
          45,
          45,
          45,
          46,
          46,
          46,
          46,
          46,
          46,
          47,
          47,
          47,
          48,
          48,
          48,
          48,
          49,
          49,
          49,
          49,
          50,
          50,
          50,
          50,
          50,
          51,
          51,
          51,
          52,
          52,
          52,
          52,
          53,
          53,
          53,
          53,
          53,
          53,
          54,
          54,
          54,
          54,
          54,
          54,
          54,
          54,
          54,
          55,
          55,
          55,
          55,
          55,
          55,
          55,
          56,
          56,
          56,
          56,
          57,
          58,
          58,
          58,
          58,
          59,
          59,
          59,
          59,
          60,
          61,
          62,
          31,
          34,
          35,
          36,
          37,
          38,
          38,
          38,
          40,
          41,
          41,
          43,
          46,
          46,
          46,
          47,
          47,
          48,
          48,
          48,
          49,
          49,
          50,
          52,
          54,
          54,
          55,
          57,
          58,
          60,
          63,
          65,
          32,
          38,
          39,
          43,
          45,
          46,
          46,
          48,
          48,
          48,
          48,
          50,
          52,
          52,
          53,
          54,
          54,
          54,
          54,
          54,
          55,
          56,
          57,
          58,
          58,
          41,
          43,
          44,
          44,
          46,
          49,
          49,
          51,
          52,
          52,
          52,
          52,
          53,
          53,
          54,
          55,
          55,
          55,
          56,
          56,
          58,
          59,
          59,
          65,
          66,
          41,
          43,
          44,
          47,
          49,
          49,
          50,
          50,
          52,
          52,
          56,
          65,
          32,
          34,
          35,
          36,
          38,
          38,
          38,
          38,
          40,
          41,
          42,
          42,
          43,
          43,
          43,
          45,
          46,
          46,
          47,
          47,
          47,
          47,
          48,
          50,
          50,
          50,
          51,
          51,
          51,
          51,
          51,
          51,
          52,
          52,
          52,
          52,
          53,
          53,
          53,
          53,
          53,
          53,
          53,
          53,
          54,
          54,
          54,
          55,
          55,
          55,
          55,
          56,
          56,
          56,
          56,
          56,
          56,
          56,
          56,
          57,
          57,
          57,
          57,
          57,
          57,
          58,
          58,
          58,
          59,
          59,
          59,
          59,
          59,
          60,
          60,
          60,
          60,
          60,
          60,
          61,
          61,
          61,
          61,
          61,
          61,
          61,
          61,
          61,
          62,
          62,
          62,
          62,
          62,
          63,
          63,
          63,
          63,
          63,
          64,
          65,
          65,
          65,
          65,
          66,
          67,
          68,
          68,
          69,
          69,
          70,
          70,
          72,
          74,
          63,
          44,
          60,
          55,
          66,
          66,
          65,
          60,
          60,
          60,
          56,
          59,
          62,
          63,
          57,
          62,
          63,
          46,
          63,
          60,
          58,
          64,
          63,
          74,
          52,
          69,
          51,
          60,
          56,
          55,
          54,
          77,
          63,
          52,
          64,
          60,
          60,
          58,
          59,
          61,
          40,
          61,
          41,
          57,
          63,
          59,
          51,
          59,
          42,
          55,
          62,
          56,
          53,
          68,
          53,
          60,
          62,
          59,
          51,
          61,
          57,
          56,
          58,
          69,
          67,
          58,
          65,
          63,
          55,
          57,
          65,
          54,
          72,
          75,
          49,
          51,
          60,
          58,
          61,
          67,
          62,
          65,
          63,
          69,
          51,
          62,
          55,
          75,
          40,
          67,
          58,
          60,
          63,
          35,
          62,
          43,
          63,
          68,
          65,
          48,
          63,
          64,
          61,
          50,
          59,
          55,
          45,
          65,
          61,
          49,
          72,
          50,
          64,
          55,
          63,
          59,
          56,
          62,
          74,
          54,
          57,
          62,
          76,
          70,
          48,
          48,
          61,
          66,
          68,
          55,
          62,
          71,
          74,
          53,
          58,
          75,
          56,
          58,
          64,
          54,
          54,
          59,
          55,
          57,
          61,
          41,
          71,
          38,
          55,
          56,
          69,
          64,
          72,
          69,
          56,
          62,
          67,
          57,
          69,
          51,
          48,
          69,
          69,
          64,
          57,
          53,
          37,
          67,
          74,
          63,
          58,
          61,
          64,
          58,
          60,
          57,
          55,
          55,
          56,
          57,
          61,
          61,
          58,
          74,
          68,
          62,
          53,
          62,
          46,
          62,
          55,
          58,
          62
         ],
         "xaxis": "x2",
         "yaxis": "y2"
        },
        {
         "alignmentgroup": "True",
         "bingroup": "x",
         "hovertemplate": "sex=Female<br>age=%{x}<br>count=%{y}<extra></extra>",
         "legendgroup": "Female",
         "marker": {
          "color": "#EF553B",
          "pattern": {
           "shape": ""
          }
         },
         "name": "Female",
         "nbinsx": 20,
         "offsetgroup": "Female",
         "orientation": "v",
         "showlegend": true,
         "type": "histogram",
         "x": [
          41,
          62,
          57,
          56,
          48,
          58,
          50,
          58,
          66,
          69,
          65,
          71,
          61,
          65,
          41,
          51,
          46,
          54,
          65,
          65,
          51,
          53,
          53,
          53,
          51,
          62,
          44,
          63,
          60,
          57,
          71,
          61,
          43,
          62,
          35,
          63,
          45,
          56,
          62,
          43,
          55,
          60,
          42,
          67,
          54,
          58,
          54,
          45,
          59,
          62,
          56,
          60,
          63,
          62,
          68,
          45,
          50,
          50,
          64,
          64,
          62,
          37,
          66,
          46,
          46,
          64,
          41,
          54,
          39,
          63,
          34,
          67,
          52,
          55,
          74,
          54,
          49,
          41,
          49,
          60,
          51,
          42,
          67,
          76,
          44,
          58,
          60,
          71,
          66,
          39,
          58,
          55,
          58,
          55,
          63,
          57,
          57,
          30,
          31,
          32,
          34,
          35,
          35,
          37,
          37,
          37,
          38,
          39,
          41,
          41,
          41,
          42,
          43,
          43,
          43,
          43,
          43,
          43,
          43,
          44,
          45,
          45,
          45,
          46,
          47,
          47,
          48,
          48,
          48,
          48,
          48,
          48,
          48,
          49,
          49,
          49,
          49,
          50,
          50,
          51,
          51,
          51,
          51,
          52,
          52,
          52,
          52,
          53,
          53,
          53,
          54,
          54,
          54,
          54,
          54,
          54,
          54,
          55,
          55,
          55,
          56,
          57,
          57,
          59,
          61,
          62,
          33,
          49,
          50,
          51,
          59,
          40,
          47,
          48,
          56,
          47,
          54,
          58,
          38,
          38,
          50,
          51,
          62,
          62,
          64,
          64,
          66,
          73,
          63,
          64,
          54,
          61,
          51,
          54
         ],
         "xaxis": "x",
         "yaxis": "y"
        },
        {
         "alignmentgroup": "True",
         "customdata": [
          [
           "atypical angina",
           "Cleveland"
          ],
          [
           "asymptomatic",
           "Cleveland"
          ],
          [
           "asymptomatic",
           "Cleveland"
          ],
          [
           "atypical angina",
           "Cleveland"
          ],
          [
           "non-anginal",
           "Cleveland"
          ],
          [
           "typical angina",
           "Cleveland"
          ],
          [
           "non-anginal",
           "Cleveland"
          ],
          [
           "non-anginal",
           "Cleveland"
          ],
          [
           "typical angina",
           "Cleveland"
          ],
          [
           "typical angina",
           "Cleveland"
          ],
          [
           "asymptomatic",
           "Cleveland"
          ],
          [
           "atypical angina",
           "Cleveland"
          ],
          [
           "asymptomatic",
           "Cleveland"
          ],
          [
           "non-anginal",
           "Cleveland"
          ],
          [
           "atypical angina",
           "Cleveland"
          ],
          [
           "asymptomatic",
           "Cleveland"
          ],
          [
           "non-anginal",
           "Cleveland"
          ],
          [
           "non-anginal",
           "Cleveland"
          ],
          [
           "non-anginal",
           "Cleveland"
          ],
          [
           "non-anginal",
           "Cleveland"
          ],
          [
           "non-anginal",
           "Cleveland"
          ],
          [
           "asymptomatic",
           "Cleveland"
          ],
          [
           "non-anginal",
           "Cleveland"
          ],
          [
           "asymptomatic",
           "Cleveland"
          ],
          [
           "non-anginal",
           "Cleveland"
          ],
          [
           "asymptomatic",
           "Cleveland"
          ],
          [
           "non-anginal",
           "Cleveland"
          ],
          [
           "non-anginal",
           "Cleveland"
          ],
          [
           "asymptomatic",
           "Cleveland"
          ],
          [
           "asymptomatic",
           "Cleveland"
          ],
          [
           "non-anginal",
           "Cleveland"
          ],
          [
           "asymptomatic",
           "Cleveland"
          ],
          [
           "asymptomatic",
           "Cleveland"
          ],
          [
           "non-anginal",
           "Cleveland"
          ],
          [
           "asymptomatic",
           "Cleveland"
          ],
          [
           "asymptomatic",
           "Cleveland"
          ],
          [
           "atypical angina",
           "Cleveland"
          ],
          [
           "asymptomatic",
           "Cleveland"
          ],
          [
           "asymptomatic",
           "Cleveland"
          ],
          [
           "non-anginal",
           "Cleveland"
          ],
          [
           "atypical angina",
           "Cleveland"
          ],
          [
           "non-anginal",
           "Cleveland"
          ],
          [
           "asymptomatic",
           "Cleveland"
          ],
          [
           "non-anginal",
           "Cleveland"
          ],
          [
           "non-anginal",
           "Cleveland"
          ],
          [
           "asymptomatic",
           "Cleveland"
          ],
          [
           "atypical angina",
           "Cleveland"
          ],
          [
           "atypical angina",
           "Cleveland"
          ],
          [
           "asymptomatic",
           "Cleveland"
          ],
          [
           "asymptomatic",
           "Cleveland"
          ],
          [
           "asymptomatic",
           "Cleveland"
          ],
          [
           "asymptomatic",
           "Cleveland"
          ],
          [
           "atypical angina",
           "Cleveland"
          ],
          [
           "asymptomatic",
           "Cleveland"
          ],
          [
           "non-anginal",
           "Cleveland"
          ],
          [
           "asymptomatic",
           "Cleveland"
          ],
          [
           "atypical angina",
           "Cleveland"
          ],
          [
           "asymptomatic",
           "Cleveland"
          ],
          [
           "asymptomatic",
           "Cleveland"
          ],
          [
           "non-anginal",
           "Cleveland"
          ],
          [
           "asymptomatic",
           "Cleveland"
          ],
          [
           "non-anginal",
           "Cleveland"
          ],
          [
           "asymptomatic",
           "Cleveland"
          ],
          [
           "atypical angina",
           "Cleveland"
          ],
          [
           "asymptomatic",
           "Cleveland"
          ],
          [
           "asymptomatic",
           "Cleveland"
          ],
          [
           "non-anginal",
           "Cleveland"
          ],
          [
           "non-anginal",
           "Cleveland"
          ],
          [
           "non-anginal",
           "Cleveland"
          ],
          [
           "asymptomatic",
           "Cleveland"
          ],
          [
           "atypical angina",
           "Cleveland"
          ],
          [
           "non-anginal",
           "Cleveland"
          ],
          [
           "non-anginal",
           "Cleveland"
          ],
          [
           "asymptomatic",
           "Cleveland"
          ],
          [
           "atypical angina",
           "Cleveland"
          ],
          [
           "non-anginal",
           "Cleveland"
          ],
          [
           "atypical angina",
           "Cleveland"
          ],
          [
           "atypical angina",
           "Cleveland"
          ],
          [
           "asymptomatic",
           "Cleveland"
          ],
          [
           "non-anginal",
           "Cleveland"
          ],
          [
           "non-anginal",
           "Cleveland"
          ],
          [
           "non-anginal",
           "Cleveland"
          ],
          [
           "asymptomatic",
           "Cleveland"
          ],
          [
           "non-anginal",
           "Cleveland"
          ],
          [
           "non-anginal",
           "Cleveland"
          ],
          [
           "atypical angina",
           "Cleveland"
          ],
          [
           "typical angina",
           "Cleveland"
          ],
          [
           "asymptomatic",
           "Cleveland"
          ],
          [
           "non-anginal",
           "Cleveland"
          ],
          [
           "non-anginal",
           "Cleveland"
          ],
          [
           "asymptomatic",
           "Cleveland"
          ],
          [
           "asymptomatic",
           "Cleveland"
          ],
          [
           "asymptomatic",
           "Cleveland"
          ],
          [
           "atypical angina",
           "Cleveland"
          ],
          [
           "asymptomatic",
           "Cleveland"
          ],
          [
           "asymptomatic",
           "Cleveland"
          ],
          [
           "atypical angina",
           "Cleveland"
          ],
          [
           "typical angina",
           "Hungary"
          ],
          [
           "atypical angina",
           "Hungary"
          ],
          [
           "atypical angina",
           "Hungary"
          ],
          [
           "atypical angina",
           "Hungary"
          ],
          [
           "typical angina",
           "Hungary"
          ],
          [
           "asymptomatic",
           "Hungary"
          ],
          [
           "atypical angina",
           "Hungary"
          ],
          [
           "non-anginal",
           "Hungary"
          ],
          [
           "asymptomatic",
           "Hungary"
          ],
          [
           "atypical angina",
           "Hungary"
          ],
          [
           "non-anginal",
           "Hungary"
          ],
          [
           "atypical angina",
           "Hungary"
          ],
          [
           "atypical angina",
           "Hungary"
          ],
          [
           "atypical angina",
           "Hungary"
          ],
          [
           "non-anginal",
           "Hungary"
          ],
          [
           "typical angina",
           "Hungary"
          ],
          [
           "atypical angina",
           "Hungary"
          ],
          [
           "atypical angina",
           "Hungary"
          ],
          [
           "atypical angina",
           "Hungary"
          ],
          [
           "atypical angina",
           "Hungary"
          ],
          [
           "atypical angina",
           "Hungary"
          ],
          [
           "non-anginal",
           "Hungary"
          ],
          [
           "asymptomatic",
           "Hungary"
          ],
          [
           "atypical angina",
           "Hungary"
          ],
          [
           "atypical angina",
           "Hungary"
          ],
          [
           "asymptomatic",
           "Hungary"
          ],
          [
           "asymptomatic",
           "Hungary"
          ],
          [
           "atypical angina",
           "Hungary"
          ],
          [
           "non-anginal",
           "Hungary"
          ],
          [
           "atypical angina",
           "Hungary"
          ],
          [
           "atypical angina",
           "Hungary"
          ],
          [
           "atypical angina",
           "Hungary"
          ],
          [
           "non-anginal",
           "Hungary"
          ],
          [
           "asymptomatic",
           "Hungary"
          ],
          [
           "asymptomatic",
           "Hungary"
          ],
          [
           "asymptomatic",
           "Hungary"
          ],
          [
           "atypical angina",
           "Hungary"
          ],
          [
           "atypical angina",
           "Hungary"
          ],
          [
           "atypical angina",
           "Hungary"
          ],
          [
           "non-anginal",
           "Hungary"
          ],
          [
           "atypical angina",
           "Hungary"
          ],
          [
           "asymptomatic",
           "Hungary"
          ],
          [
           "atypical angina",
           "Hungary"
          ],
          [
           "non-anginal",
           "Hungary"
          ],
          [
           "non-anginal",
           "Hungary"
          ],
          [
           "non-anginal",
           "Hungary"
          ],
          [
           "atypical angina",
           "Hungary"
          ],
          [
           "atypical angina",
           "Hungary"
          ],
          [
           "non-anginal",
           "Hungary"
          ],
          [
           "asymptomatic",
           "Hungary"
          ],
          [
           "atypical angina",
           "Hungary"
          ],
          [
           "atypical angina",
           "Hungary"
          ],
          [
           "non-anginal",
           "Hungary"
          ],
          [
           "atypical angina",
           "Hungary"
          ],
          [
           "atypical angina",
           "Hungary"
          ],
          [
           "atypical angina",
           "Hungary"
          ],
          [
           "atypical angina",
           "Hungary"
          ],
          [
           "atypical angina",
           "Hungary"
          ],
          [
           "atypical angina",
           "Hungary"
          ],
          [
           "atypical angina",
           "Hungary"
          ],
          [
           "atypical angina",
           "Hungary"
          ],
          [
           "atypical angina",
           "Hungary"
          ],
          [
           "atypical angina",
           "Hungary"
          ],
          [
           "non-anginal",
           "Hungary"
          ],
          [
           "typical angina",
           "Hungary"
          ],
          [
           "asymptomatic",
           "Hungary"
          ],
          [
           "atypical angina",
           "Hungary"
          ],
          [
           "asymptomatic",
           "Hungary"
          ],
          [
           "typical angina",
           "Hungary"
          ],
          [
           "asymptomatic",
           "Hungary"
          ],
          [
           "non-anginal",
           "Hungary"
          ],
          [
           "non-anginal",
           "Hungary"
          ],
          [
           "asymptomatic",
           "Hungary"
          ],
          [
           "asymptomatic",
           "Hungary"
          ],
          [
           "asymptomatic",
           "Hungary"
          ],
          [
           "non-anginal",
           "Hungary"
          ],
          [
           "asymptomatic",
           "Hungary"
          ],
          [
           "atypical angina",
           "Hungary"
          ],
          [
           "asymptomatic",
           "Hungary"
          ],
          [
           "non-anginal",
           "Hungary"
          ],
          [
           "atypical angina",
           "Hungary"
          ],
          [
           "asymptomatic",
           "Switzerland"
          ],
          [
           "asymptomatic",
           "Switzerland"
          ],
          [
           "asymptomatic",
           "Switzerland"
          ],
          [
           "asymptomatic",
           "Switzerland"
          ],
          [
           "typical angina",
           "Switzerland"
          ],
          [
           "asymptomatic",
           "Switzerland"
          ],
          [
           "asymptomatic",
           "Switzerland"
          ],
          [
           "asymptomatic",
           "Switzerland"
          ],
          [
           "asymptomatic",
           "Switzerland"
          ],
          [
           "non-anginal",
           "Switzerland"
          ],
          [
           "atypical angina",
           "VA Long Beach"
          ],
          [
           "asymptomatic",
           "VA Long Beach"
          ],
          [
           "asymptomatic",
           "VA Long Beach"
          ],
          [
           "atypical angina",
           "VA Long Beach"
          ],
          [
           "asymptomatic",
           "VA Long Beach"
          ],
          [
           "asymptomatic",
           "VA Long Beach"
          ]
         ],
         "hovertemplate": "sex=Female<br>age=%{x}<br>chest_pain_type=%{customdata[0]}<br>place_of_study=%{customdata[1]}<extra></extra>",
         "legendgroup": "Female",
         "marker": {
          "color": "#EF553B"
         },
         "name": "Female",
         "notched": true,
         "offsetgroup": "Female",
         "showlegend": false,
         "type": "box",
         "x": [
          41,
          62,
          57,
          56,
          48,
          58,
          50,
          58,
          66,
          69,
          65,
          71,
          61,
          65,
          41,
          51,
          46,
          54,
          65,
          65,
          51,
          53,
          53,
          53,
          51,
          62,
          44,
          63,
          60,
          57,
          71,
          61,
          43,
          62,
          35,
          63,
          45,
          56,
          62,
          43,
          55,
          60,
          42,
          67,
          54,
          58,
          54,
          45,
          59,
          62,
          56,
          60,
          63,
          62,
          68,
          45,
          50,
          50,
          64,
          64,
          62,
          37,
          66,
          46,
          46,
          64,
          41,
          54,
          39,
          63,
          34,
          67,
          52,
          55,
          74,
          54,
          49,
          41,
          49,
          60,
          51,
          42,
          67,
          76,
          44,
          58,
          60,
          71,
          66,
          39,
          58,
          55,
          58,
          55,
          63,
          57,
          57,
          30,
          31,
          32,
          34,
          35,
          35,
          37,
          37,
          37,
          38,
          39,
          41,
          41,
          41,
          42,
          43,
          43,
          43,
          43,
          43,
          43,
          43,
          44,
          45,
          45,
          45,
          46,
          47,
          47,
          48,
          48,
          48,
          48,
          48,
          48,
          48,
          49,
          49,
          49,
          49,
          50,
          50,
          51,
          51,
          51,
          51,
          52,
          52,
          52,
          52,
          53,
          53,
          53,
          54,
          54,
          54,
          54,
          54,
          54,
          54,
          55,
          55,
          55,
          56,
          57,
          57,
          59,
          61,
          62,
          33,
          49,
          50,
          51,
          59,
          40,
          47,
          48,
          56,
          47,
          54,
          58,
          38,
          38,
          50,
          51,
          62,
          62,
          64,
          64,
          66,
          73,
          63,
          64,
          54,
          61,
          51,
          54
         ],
         "xaxis": "x2",
         "yaxis": "y2"
        }
       ],
       "layout": {
        "barmode": "relative",
        "legend": {
         "title": {
          "text": "sex"
         },
         "tracegroupgap": 0
        },
        "template": {
         "data": {
          "bar": [
           {
            "error_x": {
             "color": "#2a3f5f"
            },
            "error_y": {
             "color": "#2a3f5f"
            },
            "marker": {
             "line": {
              "color": "#E5ECF6",
              "width": 0.5
             },
             "pattern": {
              "fillmode": "overlay",
              "size": 10,
              "solidity": 0.2
             }
            },
            "type": "bar"
           }
          ],
          "barpolar": [
           {
            "marker": {
             "line": {
              "color": "#E5ECF6",
              "width": 0.5
             },
             "pattern": {
              "fillmode": "overlay",
              "size": 10,
              "solidity": 0.2
             }
            },
            "type": "barpolar"
           }
          ],
          "carpet": [
           {
            "aaxis": {
             "endlinecolor": "#2a3f5f",
             "gridcolor": "white",
             "linecolor": "white",
             "minorgridcolor": "white",
             "startlinecolor": "#2a3f5f"
            },
            "baxis": {
             "endlinecolor": "#2a3f5f",
             "gridcolor": "white",
             "linecolor": "white",
             "minorgridcolor": "white",
             "startlinecolor": "#2a3f5f"
            },
            "type": "carpet"
           }
          ],
          "choropleth": [
           {
            "colorbar": {
             "outlinewidth": 0,
             "ticks": ""
            },
            "type": "choropleth"
           }
          ],
          "contour": [
           {
            "colorbar": {
             "outlinewidth": 0,
             "ticks": ""
            },
            "colorscale": [
             [
              0,
              "#0d0887"
             ],
             [
              0.1111111111111111,
              "#46039f"
             ],
             [
              0.2222222222222222,
              "#7201a8"
             ],
             [
              0.3333333333333333,
              "#9c179e"
             ],
             [
              0.4444444444444444,
              "#bd3786"
             ],
             [
              0.5555555555555556,
              "#d8576b"
             ],
             [
              0.6666666666666666,
              "#ed7953"
             ],
             [
              0.7777777777777778,
              "#fb9f3a"
             ],
             [
              0.8888888888888888,
              "#fdca26"
             ],
             [
              1,
              "#f0f921"
             ]
            ],
            "type": "contour"
           }
          ],
          "contourcarpet": [
           {
            "colorbar": {
             "outlinewidth": 0,
             "ticks": ""
            },
            "type": "contourcarpet"
           }
          ],
          "heatmap": [
           {
            "colorbar": {
             "outlinewidth": 0,
             "ticks": ""
            },
            "colorscale": [
             [
              0,
              "#0d0887"
             ],
             [
              0.1111111111111111,
              "#46039f"
             ],
             [
              0.2222222222222222,
              "#7201a8"
             ],
             [
              0.3333333333333333,
              "#9c179e"
             ],
             [
              0.4444444444444444,
              "#bd3786"
             ],
             [
              0.5555555555555556,
              "#d8576b"
             ],
             [
              0.6666666666666666,
              "#ed7953"
             ],
             [
              0.7777777777777778,
              "#fb9f3a"
             ],
             [
              0.8888888888888888,
              "#fdca26"
             ],
             [
              1,
              "#f0f921"
             ]
            ],
            "type": "heatmap"
           }
          ],
          "heatmapgl": [
           {
            "colorbar": {
             "outlinewidth": 0,
             "ticks": ""
            },
            "colorscale": [
             [
              0,
              "#0d0887"
             ],
             [
              0.1111111111111111,
              "#46039f"
             ],
             [
              0.2222222222222222,
              "#7201a8"
             ],
             [
              0.3333333333333333,
              "#9c179e"
             ],
             [
              0.4444444444444444,
              "#bd3786"
             ],
             [
              0.5555555555555556,
              "#d8576b"
             ],
             [
              0.6666666666666666,
              "#ed7953"
             ],
             [
              0.7777777777777778,
              "#fb9f3a"
             ],
             [
              0.8888888888888888,
              "#fdca26"
             ],
             [
              1,
              "#f0f921"
             ]
            ],
            "type": "heatmapgl"
           }
          ],
          "histogram": [
           {
            "marker": {
             "pattern": {
              "fillmode": "overlay",
              "size": 10,
              "solidity": 0.2
             }
            },
            "type": "histogram"
           }
          ],
          "histogram2d": [
           {
            "colorbar": {
             "outlinewidth": 0,
             "ticks": ""
            },
            "colorscale": [
             [
              0,
              "#0d0887"
             ],
             [
              0.1111111111111111,
              "#46039f"
             ],
             [
              0.2222222222222222,
              "#7201a8"
             ],
             [
              0.3333333333333333,
              "#9c179e"
             ],
             [
              0.4444444444444444,
              "#bd3786"
             ],
             [
              0.5555555555555556,
              "#d8576b"
             ],
             [
              0.6666666666666666,
              "#ed7953"
             ],
             [
              0.7777777777777778,
              "#fb9f3a"
             ],
             [
              0.8888888888888888,
              "#fdca26"
             ],
             [
              1,
              "#f0f921"
             ]
            ],
            "type": "histogram2d"
           }
          ],
          "histogram2dcontour": [
           {
            "colorbar": {
             "outlinewidth": 0,
             "ticks": ""
            },
            "colorscale": [
             [
              0,
              "#0d0887"
             ],
             [
              0.1111111111111111,
              "#46039f"
             ],
             [
              0.2222222222222222,
              "#7201a8"
             ],
             [
              0.3333333333333333,
              "#9c179e"
             ],
             [
              0.4444444444444444,
              "#bd3786"
             ],
             [
              0.5555555555555556,
              "#d8576b"
             ],
             [
              0.6666666666666666,
              "#ed7953"
             ],
             [
              0.7777777777777778,
              "#fb9f3a"
             ],
             [
              0.8888888888888888,
              "#fdca26"
             ],
             [
              1,
              "#f0f921"
             ]
            ],
            "type": "histogram2dcontour"
           }
          ],
          "mesh3d": [
           {
            "colorbar": {
             "outlinewidth": 0,
             "ticks": ""
            },
            "type": "mesh3d"
           }
          ],
          "parcoords": [
           {
            "line": {
             "colorbar": {
              "outlinewidth": 0,
              "ticks": ""
             }
            },
            "type": "parcoords"
           }
          ],
          "pie": [
           {
            "automargin": true,
            "type": "pie"
           }
          ],
          "scatter": [
           {
            "fillpattern": {
             "fillmode": "overlay",
             "size": 10,
             "solidity": 0.2
            },
            "type": "scatter"
           }
          ],
          "scatter3d": [
           {
            "line": {
             "colorbar": {
              "outlinewidth": 0,
              "ticks": ""
             }
            },
            "marker": {
             "colorbar": {
              "outlinewidth": 0,
              "ticks": ""
             }
            },
            "type": "scatter3d"
           }
          ],
          "scattercarpet": [
           {
            "marker": {
             "colorbar": {
              "outlinewidth": 0,
              "ticks": ""
             }
            },
            "type": "scattercarpet"
           }
          ],
          "scattergeo": [
           {
            "marker": {
             "colorbar": {
              "outlinewidth": 0,
              "ticks": ""
             }
            },
            "type": "scattergeo"
           }
          ],
          "scattergl": [
           {
            "marker": {
             "colorbar": {
              "outlinewidth": 0,
              "ticks": ""
             }
            },
            "type": "scattergl"
           }
          ],
          "scattermapbox": [
           {
            "marker": {
             "colorbar": {
              "outlinewidth": 0,
              "ticks": ""
             }
            },
            "type": "scattermapbox"
           }
          ],
          "scatterpolar": [
           {
            "marker": {
             "colorbar": {
              "outlinewidth": 0,
              "ticks": ""
             }
            },
            "type": "scatterpolar"
           }
          ],
          "scatterpolargl": [
           {
            "marker": {
             "colorbar": {
              "outlinewidth": 0,
              "ticks": ""
             }
            },
            "type": "scatterpolargl"
           }
          ],
          "scatterternary": [
           {
            "marker": {
             "colorbar": {
              "outlinewidth": 0,
              "ticks": ""
             }
            },
            "type": "scatterternary"
           }
          ],
          "surface": [
           {
            "colorbar": {
             "outlinewidth": 0,
             "ticks": ""
            },
            "colorscale": [
             [
              0,
              "#0d0887"
             ],
             [
              0.1111111111111111,
              "#46039f"
             ],
             [
              0.2222222222222222,
              "#7201a8"
             ],
             [
              0.3333333333333333,
              "#9c179e"
             ],
             [
              0.4444444444444444,
              "#bd3786"
             ],
             [
              0.5555555555555556,
              "#d8576b"
             ],
             [
              0.6666666666666666,
              "#ed7953"
             ],
             [
              0.7777777777777778,
              "#fb9f3a"
             ],
             [
              0.8888888888888888,
              "#fdca26"
             ],
             [
              1,
              "#f0f921"
             ]
            ],
            "type": "surface"
           }
          ],
          "table": [
           {
            "cells": {
             "fill": {
              "color": "#EBF0F8"
             },
             "line": {
              "color": "white"
             }
            },
            "header": {
             "fill": {
              "color": "#C8D4E3"
             },
             "line": {
              "color": "white"
             }
            },
            "type": "table"
           }
          ]
         },
         "layout": {
          "annotationdefaults": {
           "arrowcolor": "#2a3f5f",
           "arrowhead": 0,
           "arrowwidth": 1
          },
          "autotypenumbers": "strict",
          "coloraxis": {
           "colorbar": {
            "outlinewidth": 0,
            "ticks": ""
           }
          },
          "colorscale": {
           "diverging": [
            [
             0,
             "#8e0152"
            ],
            [
             0.1,
             "#c51b7d"
            ],
            [
             0.2,
             "#de77ae"
            ],
            [
             0.3,
             "#f1b6da"
            ],
            [
             0.4,
             "#fde0ef"
            ],
            [
             0.5,
             "#f7f7f7"
            ],
            [
             0.6,
             "#e6f5d0"
            ],
            [
             0.7,
             "#b8e186"
            ],
            [
             0.8,
             "#7fbc41"
            ],
            [
             0.9,
             "#4d9221"
            ],
            [
             1,
             "#276419"
            ]
           ],
           "sequential": [
            [
             0,
             "#0d0887"
            ],
            [
             0.1111111111111111,
             "#46039f"
            ],
            [
             0.2222222222222222,
             "#7201a8"
            ],
            [
             0.3333333333333333,
             "#9c179e"
            ],
            [
             0.4444444444444444,
             "#bd3786"
            ],
            [
             0.5555555555555556,
             "#d8576b"
            ],
            [
             0.6666666666666666,
             "#ed7953"
            ],
            [
             0.7777777777777778,
             "#fb9f3a"
            ],
            [
             0.8888888888888888,
             "#fdca26"
            ],
            [
             1,
             "#f0f921"
            ]
           ],
           "sequentialminus": [
            [
             0,
             "#0d0887"
            ],
            [
             0.1111111111111111,
             "#46039f"
            ],
            [
             0.2222222222222222,
             "#7201a8"
            ],
            [
             0.3333333333333333,
             "#9c179e"
            ],
            [
             0.4444444444444444,
             "#bd3786"
            ],
            [
             0.5555555555555556,
             "#d8576b"
            ],
            [
             0.6666666666666666,
             "#ed7953"
            ],
            [
             0.7777777777777778,
             "#fb9f3a"
            ],
            [
             0.8888888888888888,
             "#fdca26"
            ],
            [
             1,
             "#f0f921"
            ]
           ]
          },
          "colorway": [
           "#636efa",
           "#EF553B",
           "#00cc96",
           "#ab63fa",
           "#FFA15A",
           "#19d3f3",
           "#FF6692",
           "#B6E880",
           "#FF97FF",
           "#FECB52"
          ],
          "font": {
           "color": "#2a3f5f"
          },
          "geo": {
           "bgcolor": "white",
           "lakecolor": "white",
           "landcolor": "#E5ECF6",
           "showlakes": true,
           "showland": true,
           "subunitcolor": "white"
          },
          "hoverlabel": {
           "align": "left"
          },
          "hovermode": "closest",
          "mapbox": {
           "style": "light"
          },
          "paper_bgcolor": "white",
          "plot_bgcolor": "#E5ECF6",
          "polar": {
           "angularaxis": {
            "gridcolor": "white",
            "linecolor": "white",
            "ticks": ""
           },
           "bgcolor": "#E5ECF6",
           "radialaxis": {
            "gridcolor": "white",
            "linecolor": "white",
            "ticks": ""
           }
          },
          "scene": {
           "xaxis": {
            "backgroundcolor": "#E5ECF6",
            "gridcolor": "white",
            "gridwidth": 2,
            "linecolor": "white",
            "showbackground": true,
            "ticks": "",
            "zerolinecolor": "white"
           },
           "yaxis": {
            "backgroundcolor": "#E5ECF6",
            "gridcolor": "white",
            "gridwidth": 2,
            "linecolor": "white",
            "showbackground": true,
            "ticks": "",
            "zerolinecolor": "white"
           },
           "zaxis": {
            "backgroundcolor": "#E5ECF6",
            "gridcolor": "white",
            "gridwidth": 2,
            "linecolor": "white",
            "showbackground": true,
            "ticks": "",
            "zerolinecolor": "white"
           }
          },
          "shapedefaults": {
           "line": {
            "color": "#2a3f5f"
           }
          },
          "ternary": {
           "aaxis": {
            "gridcolor": "white",
            "linecolor": "white",
            "ticks": ""
           },
           "baxis": {
            "gridcolor": "white",
            "linecolor": "white",
            "ticks": ""
           },
           "bgcolor": "#E5ECF6",
           "caxis": {
            "gridcolor": "white",
            "linecolor": "white",
            "ticks": ""
           }
          },
          "title": {
           "x": 0.05
          },
          "xaxis": {
           "automargin": true,
           "gridcolor": "white",
           "linecolor": "white",
           "ticks": "",
           "title": {
            "standoff": 15
           },
           "zerolinecolor": "white",
           "zerolinewidth": 2
          },
          "yaxis": {
           "automargin": true,
           "gridcolor": "white",
           "linecolor": "white",
           "ticks": "",
           "title": {
            "standoff": 15
           },
           "zerolinecolor": "white",
           "zerolinewidth": 2
          }
         }
        },
        "title": {
         "text": "Age distribution"
        },
        "xaxis": {
         "anchor": "y",
         "domain": [
          0,
          1
         ],
         "title": {
          "text": "age"
         }
        },
        "xaxis2": {
         "anchor": "y2",
         "domain": [
          0,
          1
         ],
         "matches": "x",
         "showgrid": true,
         "showticklabels": false
        },
        "yaxis": {
         "anchor": "x",
         "domain": [
          0,
          0.7326
         ],
         "title": {
          "text": "count"
         }
        },
        "yaxis2": {
         "anchor": "x2",
         "domain": [
          0.7426,
          1
         ],
         "matches": "y2",
         "showgrid": false,
         "showline": false,
         "showticklabels": false,
         "ticks": ""
        }
       }
      }
     },
     "metadata": {},
     "output_type": "display_data"
    }
   ],
   "source": [
    "fig = px.histogram(heart_disease_data, x='age', color='sex', marginal='box', nbins=20, hover_data=['chest_pain_type', 'place_of_study'], title='Age distribution')\n",
    "fig.show()"
   ]
  },
  {
   "cell_type": "code",
   "execution_count": 17,
   "metadata": {},
   "outputs": [
    {
     "data": {
      "application/vnd.plotly.v1+json": {
       "config": {
        "plotlyServerURL": "https://plot.ly"
       },
       "data": [
        {
         "coloraxis": "coloraxis",
         "hovertemplate": "Heart Disease Severity: %{x}<br>Chest Pain Type: %{y}<br>Count: %{z}<extra></extra>",
         "name": "0",
         "type": "heatmap",
         "x": [
          "No Heart Disease",
          "Mild Heart Disease",
          "Moderate Heart Disease",
          "Severe Heart Disease",
          "Critical Heart Disease"
         ],
         "xaxis": "x",
         "y": [
          "Typical Angina",
          "Atypical Angina",
          "Non-Anginal",
          "Asymptomatic"
         ],
         "yaxis": "y",
         "z": [
          [
           23,
           197,
           89,
           104,
           83
          ],
          [
           0,
           19,
           2,
           150,
           3
          ],
          [
           4,
           37,
           14,
           131,
           17
          ],
          [
           1,
           12,
           4,
           26,
           3
          ]
         ]
        }
       ],
       "layout": {
        "coloraxis": {
         "colorbar": {
          "title": {
           "text": "Count"
          }
         },
         "colorscale": [
          [
           0,
           "#0d0887"
          ],
          [
           0.1111111111111111,
           "#46039f"
          ],
          [
           0.2222222222222222,
           "#7201a8"
          ],
          [
           0.3333333333333333,
           "#9c179e"
          ],
          [
           0.4444444444444444,
           "#bd3786"
          ],
          [
           0.5555555555555556,
           "#d8576b"
          ],
          [
           0.6666666666666666,
           "#ed7953"
          ],
          [
           0.7777777777777778,
           "#fb9f3a"
          ],
          [
           0.8888888888888888,
           "#fdca26"
          ],
          [
           1,
           "#f0f921"
          ]
         ]
        },
        "template": {
         "data": {
          "bar": [
           {
            "error_x": {
             "color": "#2a3f5f"
            },
            "error_y": {
             "color": "#2a3f5f"
            },
            "marker": {
             "line": {
              "color": "#E5ECF6",
              "width": 0.5
             },
             "pattern": {
              "fillmode": "overlay",
              "size": 10,
              "solidity": 0.2
             }
            },
            "type": "bar"
           }
          ],
          "barpolar": [
           {
            "marker": {
             "line": {
              "color": "#E5ECF6",
              "width": 0.5
             },
             "pattern": {
              "fillmode": "overlay",
              "size": 10,
              "solidity": 0.2
             }
            },
            "type": "barpolar"
           }
          ],
          "carpet": [
           {
            "aaxis": {
             "endlinecolor": "#2a3f5f",
             "gridcolor": "white",
             "linecolor": "white",
             "minorgridcolor": "white",
             "startlinecolor": "#2a3f5f"
            },
            "baxis": {
             "endlinecolor": "#2a3f5f",
             "gridcolor": "white",
             "linecolor": "white",
             "minorgridcolor": "white",
             "startlinecolor": "#2a3f5f"
            },
            "type": "carpet"
           }
          ],
          "choropleth": [
           {
            "colorbar": {
             "outlinewidth": 0,
             "ticks": ""
            },
            "type": "choropleth"
           }
          ],
          "contour": [
           {
            "colorbar": {
             "outlinewidth": 0,
             "ticks": ""
            },
            "colorscale": [
             [
              0,
              "#0d0887"
             ],
             [
              0.1111111111111111,
              "#46039f"
             ],
             [
              0.2222222222222222,
              "#7201a8"
             ],
             [
              0.3333333333333333,
              "#9c179e"
             ],
             [
              0.4444444444444444,
              "#bd3786"
             ],
             [
              0.5555555555555556,
              "#d8576b"
             ],
             [
              0.6666666666666666,
              "#ed7953"
             ],
             [
              0.7777777777777778,
              "#fb9f3a"
             ],
             [
              0.8888888888888888,
              "#fdca26"
             ],
             [
              1,
              "#f0f921"
             ]
            ],
            "type": "contour"
           }
          ],
          "contourcarpet": [
           {
            "colorbar": {
             "outlinewidth": 0,
             "ticks": ""
            },
            "type": "contourcarpet"
           }
          ],
          "heatmap": [
           {
            "colorbar": {
             "outlinewidth": 0,
             "ticks": ""
            },
            "colorscale": [
             [
              0,
              "#0d0887"
             ],
             [
              0.1111111111111111,
              "#46039f"
             ],
             [
              0.2222222222222222,
              "#7201a8"
             ],
             [
              0.3333333333333333,
              "#9c179e"
             ],
             [
              0.4444444444444444,
              "#bd3786"
             ],
             [
              0.5555555555555556,
              "#d8576b"
             ],
             [
              0.6666666666666666,
              "#ed7953"
             ],
             [
              0.7777777777777778,
              "#fb9f3a"
             ],
             [
              0.8888888888888888,
              "#fdca26"
             ],
             [
              1,
              "#f0f921"
             ]
            ],
            "type": "heatmap"
           }
          ],
          "heatmapgl": [
           {
            "colorbar": {
             "outlinewidth": 0,
             "ticks": ""
            },
            "colorscale": [
             [
              0,
              "#0d0887"
             ],
             [
              0.1111111111111111,
              "#46039f"
             ],
             [
              0.2222222222222222,
              "#7201a8"
             ],
             [
              0.3333333333333333,
              "#9c179e"
             ],
             [
              0.4444444444444444,
              "#bd3786"
             ],
             [
              0.5555555555555556,
              "#d8576b"
             ],
             [
              0.6666666666666666,
              "#ed7953"
             ],
             [
              0.7777777777777778,
              "#fb9f3a"
             ],
             [
              0.8888888888888888,
              "#fdca26"
             ],
             [
              1,
              "#f0f921"
             ]
            ],
            "type": "heatmapgl"
           }
          ],
          "histogram": [
           {
            "marker": {
             "pattern": {
              "fillmode": "overlay",
              "size": 10,
              "solidity": 0.2
             }
            },
            "type": "histogram"
           }
          ],
          "histogram2d": [
           {
            "colorbar": {
             "outlinewidth": 0,
             "ticks": ""
            },
            "colorscale": [
             [
              0,
              "#0d0887"
             ],
             [
              0.1111111111111111,
              "#46039f"
             ],
             [
              0.2222222222222222,
              "#7201a8"
             ],
             [
              0.3333333333333333,
              "#9c179e"
             ],
             [
              0.4444444444444444,
              "#bd3786"
             ],
             [
              0.5555555555555556,
              "#d8576b"
             ],
             [
              0.6666666666666666,
              "#ed7953"
             ],
             [
              0.7777777777777778,
              "#fb9f3a"
             ],
             [
              0.8888888888888888,
              "#fdca26"
             ],
             [
              1,
              "#f0f921"
             ]
            ],
            "type": "histogram2d"
           }
          ],
          "histogram2dcontour": [
           {
            "colorbar": {
             "outlinewidth": 0,
             "ticks": ""
            },
            "colorscale": [
             [
              0,
              "#0d0887"
             ],
             [
              0.1111111111111111,
              "#46039f"
             ],
             [
              0.2222222222222222,
              "#7201a8"
             ],
             [
              0.3333333333333333,
              "#9c179e"
             ],
             [
              0.4444444444444444,
              "#bd3786"
             ],
             [
              0.5555555555555556,
              "#d8576b"
             ],
             [
              0.6666666666666666,
              "#ed7953"
             ],
             [
              0.7777777777777778,
              "#fb9f3a"
             ],
             [
              0.8888888888888888,
              "#fdca26"
             ],
             [
              1,
              "#f0f921"
             ]
            ],
            "type": "histogram2dcontour"
           }
          ],
          "mesh3d": [
           {
            "colorbar": {
             "outlinewidth": 0,
             "ticks": ""
            },
            "type": "mesh3d"
           }
          ],
          "parcoords": [
           {
            "line": {
             "colorbar": {
              "outlinewidth": 0,
              "ticks": ""
             }
            },
            "type": "parcoords"
           }
          ],
          "pie": [
           {
            "automargin": true,
            "type": "pie"
           }
          ],
          "scatter": [
           {
            "fillpattern": {
             "fillmode": "overlay",
             "size": 10,
             "solidity": 0.2
            },
            "type": "scatter"
           }
          ],
          "scatter3d": [
           {
            "line": {
             "colorbar": {
              "outlinewidth": 0,
              "ticks": ""
             }
            },
            "marker": {
             "colorbar": {
              "outlinewidth": 0,
              "ticks": ""
             }
            },
            "type": "scatter3d"
           }
          ],
          "scattercarpet": [
           {
            "marker": {
             "colorbar": {
              "outlinewidth": 0,
              "ticks": ""
             }
            },
            "type": "scattercarpet"
           }
          ],
          "scattergeo": [
           {
            "marker": {
             "colorbar": {
              "outlinewidth": 0,
              "ticks": ""
             }
            },
            "type": "scattergeo"
           }
          ],
          "scattergl": [
           {
            "marker": {
             "colorbar": {
              "outlinewidth": 0,
              "ticks": ""
             }
            },
            "type": "scattergl"
           }
          ],
          "scattermapbox": [
           {
            "marker": {
             "colorbar": {
              "outlinewidth": 0,
              "ticks": ""
             }
            },
            "type": "scattermapbox"
           }
          ],
          "scatterpolar": [
           {
            "marker": {
             "colorbar": {
              "outlinewidth": 0,
              "ticks": ""
             }
            },
            "type": "scatterpolar"
           }
          ],
          "scatterpolargl": [
           {
            "marker": {
             "colorbar": {
              "outlinewidth": 0,
              "ticks": ""
             }
            },
            "type": "scatterpolargl"
           }
          ],
          "scatterternary": [
           {
            "marker": {
             "colorbar": {
              "outlinewidth": 0,
              "ticks": ""
             }
            },
            "type": "scatterternary"
           }
          ],
          "surface": [
           {
            "colorbar": {
             "outlinewidth": 0,
             "ticks": ""
            },
            "colorscale": [
             [
              0,
              "#0d0887"
             ],
             [
              0.1111111111111111,
              "#46039f"
             ],
             [
              0.2222222222222222,
              "#7201a8"
             ],
             [
              0.3333333333333333,
              "#9c179e"
             ],
             [
              0.4444444444444444,
              "#bd3786"
             ],
             [
              0.5555555555555556,
              "#d8576b"
             ],
             [
              0.6666666666666666,
              "#ed7953"
             ],
             [
              0.7777777777777778,
              "#fb9f3a"
             ],
             [
              0.8888888888888888,
              "#fdca26"
             ],
             [
              1,
              "#f0f921"
             ]
            ],
            "type": "surface"
           }
          ],
          "table": [
           {
            "cells": {
             "fill": {
              "color": "#EBF0F8"
             },
             "line": {
              "color": "white"
             }
            },
            "header": {
             "fill": {
              "color": "#C8D4E3"
             },
             "line": {
              "color": "white"
             }
            },
            "type": "table"
           }
          ]
         },
         "layout": {
          "annotationdefaults": {
           "arrowcolor": "#2a3f5f",
           "arrowhead": 0,
           "arrowwidth": 1
          },
          "autotypenumbers": "strict",
          "coloraxis": {
           "colorbar": {
            "outlinewidth": 0,
            "ticks": ""
           }
          },
          "colorscale": {
           "diverging": [
            [
             0,
             "#8e0152"
            ],
            [
             0.1,
             "#c51b7d"
            ],
            [
             0.2,
             "#de77ae"
            ],
            [
             0.3,
             "#f1b6da"
            ],
            [
             0.4,
             "#fde0ef"
            ],
            [
             0.5,
             "#f7f7f7"
            ],
            [
             0.6,
             "#e6f5d0"
            ],
            [
             0.7,
             "#b8e186"
            ],
            [
             0.8,
             "#7fbc41"
            ],
            [
             0.9,
             "#4d9221"
            ],
            [
             1,
             "#276419"
            ]
           ],
           "sequential": [
            [
             0,
             "#0d0887"
            ],
            [
             0.1111111111111111,
             "#46039f"
            ],
            [
             0.2222222222222222,
             "#7201a8"
            ],
            [
             0.3333333333333333,
             "#9c179e"
            ],
            [
             0.4444444444444444,
             "#bd3786"
            ],
            [
             0.5555555555555556,
             "#d8576b"
            ],
            [
             0.6666666666666666,
             "#ed7953"
            ],
            [
             0.7777777777777778,
             "#fb9f3a"
            ],
            [
             0.8888888888888888,
             "#fdca26"
            ],
            [
             1,
             "#f0f921"
            ]
           ],
           "sequentialminus": [
            [
             0,
             "#0d0887"
            ],
            [
             0.1111111111111111,
             "#46039f"
            ],
            [
             0.2222222222222222,
             "#7201a8"
            ],
            [
             0.3333333333333333,
             "#9c179e"
            ],
            [
             0.4444444444444444,
             "#bd3786"
            ],
            [
             0.5555555555555556,
             "#d8576b"
            ],
            [
             0.6666666666666666,
             "#ed7953"
            ],
            [
             0.7777777777777778,
             "#fb9f3a"
            ],
            [
             0.8888888888888888,
             "#fdca26"
            ],
            [
             1,
             "#f0f921"
            ]
           ]
          },
          "colorway": [
           "#636efa",
           "#EF553B",
           "#00cc96",
           "#ab63fa",
           "#FFA15A",
           "#19d3f3",
           "#FF6692",
           "#B6E880",
           "#FF97FF",
           "#FECB52"
          ],
          "font": {
           "color": "#2a3f5f"
          },
          "geo": {
           "bgcolor": "white",
           "lakecolor": "white",
           "landcolor": "#E5ECF6",
           "showlakes": true,
           "showland": true,
           "subunitcolor": "white"
          },
          "hoverlabel": {
           "align": "left"
          },
          "hovermode": "closest",
          "mapbox": {
           "style": "light"
          },
          "paper_bgcolor": "white",
          "plot_bgcolor": "#E5ECF6",
          "polar": {
           "angularaxis": {
            "gridcolor": "white",
            "linecolor": "white",
            "ticks": ""
           },
           "bgcolor": "#E5ECF6",
           "radialaxis": {
            "gridcolor": "white",
            "linecolor": "white",
            "ticks": ""
           }
          },
          "scene": {
           "xaxis": {
            "backgroundcolor": "#E5ECF6",
            "gridcolor": "white",
            "gridwidth": 2,
            "linecolor": "white",
            "showbackground": true,
            "ticks": "",
            "zerolinecolor": "white"
           },
           "yaxis": {
            "backgroundcolor": "#E5ECF6",
            "gridcolor": "white",
            "gridwidth": 2,
            "linecolor": "white",
            "showbackground": true,
            "ticks": "",
            "zerolinecolor": "white"
           },
           "zaxis": {
            "backgroundcolor": "#E5ECF6",
            "gridcolor": "white",
            "gridwidth": 2,
            "linecolor": "white",
            "showbackground": true,
            "ticks": "",
            "zerolinecolor": "white"
           }
          },
          "shapedefaults": {
           "line": {
            "color": "#2a3f5f"
           }
          },
          "ternary": {
           "aaxis": {
            "gridcolor": "white",
            "linecolor": "white",
            "ticks": ""
           },
           "baxis": {
            "gridcolor": "white",
            "linecolor": "white",
            "ticks": ""
           },
           "bgcolor": "#E5ECF6",
           "caxis": {
            "gridcolor": "white",
            "linecolor": "white",
            "ticks": ""
           }
          },
          "title": {
           "x": 0.05
          },
          "xaxis": {
           "automargin": true,
           "gridcolor": "white",
           "linecolor": "white",
           "ticks": "",
           "title": {
            "standoff": 15
           },
           "zerolinecolor": "white",
           "zerolinewidth": 2
          },
          "yaxis": {
           "automargin": true,
           "gridcolor": "white",
           "linecolor": "white",
           "ticks": "",
           "title": {
            "standoff": 15
           },
           "zerolinecolor": "white",
           "zerolinewidth": 2
          }
         }
        },
        "title": {
         "text": "Distribution of Heart Disease Severity by Chest Pain Type"
        },
        "xaxis": {
         "anchor": "y",
         "constrain": "domain",
         "domain": [
          0,
          1
         ],
         "scaleanchor": "y",
         "title": {
          "text": "Heart Disease Severity"
         }
        },
        "yaxis": {
         "anchor": "x",
         "autorange": "reversed",
         "constrain": "domain",
         "domain": [
          0,
          1
         ],
         "title": {
          "text": "Chest Pain Type"
         }
        }
       }
      }
     },
     "metadata": {},
     "output_type": "display_data"
    }
   ],
   "source": [
    "heart_disease_counts = heart_disease_data.groupby(['chest_pain_type', 'sex', 'predicted_attribute']).size().reset_index(name='count')\n",
    "heatmap_data = heart_disease_counts.pivot_table(index='chest_pain_type', columns='predicted_attribute', values='count', aggfunc='sum', fill_value=0)\n",
    "\n",
    "fig = px.imshow(\n",
    "    heatmap_data,\n",
    "    labels=dict(x=\"Heart Disease Severity\", y=\"Chest Pain Type\", color=\"Count\"),\n",
    "    x=['No Heart Disease', 'Mild Heart Disease', 'Moderate Heart Disease', 'Severe Heart Disease', 'Critical Heart Disease'],\n",
    "    y=['Typical Angina', 'Atypical Angina', 'Non-Anginal', 'Asymptomatic'],\n",
    "    title=\"Distribution of Heart Disease Severity by Chest Pain Type\"\n",
    ")\n",
    "\n",
    "fig.show()\n"
   ]
  }
 ],
 "metadata": {
  "kernelspec": {
   "display_name": "Python 3",
   "language": "python",
   "name": "python3"
  },
  "language_info": {
   "codemirror_mode": {
    "name": "ipython",
    "version": 3
   },
   "file_extension": ".py",
   "mimetype": "text/x-python",
   "name": "python",
   "nbconvert_exporter": "python",
   "pygments_lexer": "ipython3",
   "version": "3.12.1"
  }
 },
 "nbformat": 4,
 "nbformat_minor": 2
}
